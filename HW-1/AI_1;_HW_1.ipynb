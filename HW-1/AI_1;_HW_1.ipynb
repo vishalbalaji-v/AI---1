{
  "nbformat": 4,
  "nbformat_minor": 0,
  "metadata": {
    "kernelspec": {
      "name": "python3",
      "display_name": "Python 3",
      "language": "python"
    },
    "colab": {
      "name": "AI - 1; HW - 1.ipynb",
      "provenance": [],
      "include_colab_link": true
    }
  },
  "cells": [
    {
      "cell_type": "markdown",
      "metadata": {
        "id": "view-in-github",
        "colab_type": "text"
      },
      "source": [
        "<a href=\"https://colab.research.google.com/github/vishalbalaji-v/AI---1/blob/main/HW-1/AI_1%3B_HW_1.ipynb\" target=\"_parent\"><img src=\"https://colab.research.google.com/assets/colab-badge.svg\" alt=\"Open In Colab\"/></a>"
      ]
    },
    {
      "cell_type": "markdown",
      "metadata": {
        "id": "RG9lJXMjHhuH"
      },
      "source": [
        "![](fig/univ.png)\n",
        "\n",
        "# AI-1: ML/AI Basics\n",
        "## Homework 1: kNN and Linear Regression\n",
        "\n",
        "**AI1 Cohort 1**<br/>\n",
        "**Univ.AI**<br/>\n",
        "**Instructor**: Pavlos Protopapas<br />\n",
        "**Maximum Score**: 55\n",
        "\n",
        "<hr style=\"height:2.4pt\">"
      ]
    },
    {
      "cell_type": "code",
      "metadata": {
        "colab": {
          "base_uri": "https://localhost:8080/"
        },
        "id": "Gj1prGjgHo_i",
        "outputId": "93e18905-f331-4238-cc7a-f54f4b29b75b"
      },
      "source": [
        "from google.colab import drive\n",
        "drive.mount('/content/drive')"
      ],
      "execution_count": 107,
      "outputs": [
        {
          "output_type": "stream",
          "name": "stdout",
          "text": [
            "Drive already mounted at /content/drive; to attempt to forcibly remount, call drive.mount(\"/content/drive\", force_remount=True).\n"
          ]
        }
      ]
    },
    {
      "cell_type": "code",
      "metadata": {
        "id": "9nMUJfYGHhuL"
      },
      "source": [
        "#RUN THIS CELL \n",
        "import requests\n",
        "from IPython.core.display import HTML"
      ],
      "execution_count": 108,
      "outputs": []
    },
    {
      "cell_type": "code",
      "metadata": {
        "id": "VMFgLTFkHhuN"
      },
      "source": [
        "#RUN THIS CELL\n",
        "import os\n",
        "import pathlib\n",
        "working_dir = pathlib.Path().absolute()\n",
        "os.chdir(working_dir)"
      ],
      "execution_count": 109,
      "outputs": []
    },
    {
      "cell_type": "markdown",
      "metadata": {
        "id": "-t_mgZXKHhuN"
      },
      "source": [
        "<hr style=\"height:2pt\">\n",
        "\n",
        "<h2> INSTRUCTIONS </h2>\n",
        "\n",
        "\n",
        "- This homework is a jupyter notebook. Download and work on it in your local machine.\n",
        "\n",
        "- This homework should be submitted in pairs.\n",
        "\n",
        "- Ensure you and your partner together have submitted the homework only once. Multiple submissions of the same work will be penalised and will cost you 2 points.\n",
        "\n",
        "- Please restart the kernel and run the entire notebook again before you submit.\n",
        "\n",
        "- Running cells out of order is a common pitfall in Jupyter Notebooks. To make sure your code works restart the kernel and run the whole notebook again before you submit. \n",
        "\n",
        "- To submit the homework, either one of you upload the working notebook on edStem and click the submit button on the bottom right corner.\n",
        "\n",
        "- Submit the homework well before the given deadline. Submissions after the deadline will not be graded.\n",
        "\n",
        "- We have tried to include all the libraries you may need to do the assignment in the imports statement at the top of this notebook. We strongly suggest that you use those and not others as we may not be familiar with them.\n",
        "\n",
        "- Comment your code well. This would help the graders in case there is any issue with the notebook while running. It is important to remember that the graders will not troubleshoot your code. \n",
        "\n",
        "- Please use .head() when viewing data. Do not submit a notebook that is **excessively long**. \n",
        "\n",
        "- In questions that require code to answer, such as \"calculate the $R^2$\", do not just output the value from a cell. Write a `print()` function that includes a reference to the calculated value, **not hardcoded**. For example: \n",
        "```\n",
        "print(f'The R^2 is {R:.4f}')\n",
        "```\n",
        "- Your plots should include clear labels for the $x$ and $y$ axes as well as a descriptive title (\"MSE plot\" is not a descriptive title; \"95 % confidence interval of coefficients of polynomial degree 5\" is).\n",
        "\n",
        "<hr style=\"height:2pt\">"
      ]
    },
    {
      "cell_type": "markdown",
      "metadata": {
        "id": "z2tkZ9CQHhuO"
      },
      "source": [
        "<h2> Overview </h2> \n",
        "\n",
        "This assignment is the first where you will go through the process of loading a dataset, splitting it in train,validation and test sets, \n",
        "pre-processing it, and finally using it to run models and evaluating your results. \n",
        "\n",
        "We have two different datasets, one with car data in **Part 1** and another with data from an Indian matrimonial web site in **Part 2**.\n",
        "\n",
        "For part 1, you will explore two simple methods for prediction,  **k-nearest neighbors regression (kNN)**, a *non-parametric* method, and **linear regression**, a *parametric* method. As you move towards Part 2 of the homework, you will work with multiple linear and polynomial regression."
      ]
    },
    {
      "cell_type": "markdown",
      "metadata": {
        "id": "alnoXOYHHhuP"
      },
      "source": [
        "### Names of the people who worked on this homework together\n",
        "#### /names here/"
      ]
    },
    {
      "cell_type": "code",
      "metadata": {
        "id": "EiMwrlB0HhuP"
      },
      "source": [
        "# !pip install seaborn"
      ],
      "execution_count": 110,
      "outputs": []
    },
    {
      "cell_type": "code",
      "metadata": {
        "collapsed": true,
        "id": "YfvI42ZMHhuQ"
      },
      "source": [
        "# Importing standard libraries\n",
        "import numpy as np\n",
        "import operator\n",
        "import pandas as pd\n",
        "import matplotlib\n",
        "import matplotlib.pyplot as plt\n",
        "import matplotlib as mpl\n",
        "import matplotlib.cm as cm\n",
        "from sklearn.metrics import r2_score\n",
        "from sklearn.metrics import mean_squared_error\n",
        "from sklearn.neighbors import KNeighborsRegressor\n",
        "import seaborn as sns\n",
        "from sklearn.model_selection import train_test_split\n",
        "from sklearn.metrics import mean_squared_error\n",
        "from sklearn.linear_model import LinearRegression\n",
        "\n",
        "# Pandas tricks for better display\n",
        "pd.options.display.max_columns = 50  \n",
        "pd.options.display.max_rows = 500     \n",
        "pd.options.display.max_colwidth = 100\n",
        "pd.options.display.precision = 3\n",
        "\n",
        "# Part 2 imports \n",
        "from scipy.stats import norm\n",
        "from sklearn.preprocessing import PolynomialFeatures"
      ],
      "execution_count": 111,
      "outputs": []
    },
    {
      "cell_type": "code",
      "metadata": {
        "id": "lOk4gm6vHhuR"
      },
      "source": [
        "# Run this cell for more readable visuals \n",
        "large = 22; med = 16; small = 10\n",
        "params = {'axes.titlesize': large,\n",
        "          'legend.fontsize': med,\n",
        "          'figure.figsize': (16, 10),\n",
        "          'axes.labelsize': med,\n",
        "          'axes.titlesize': med,\n",
        "          'axes.linewidth': 2,\n",
        "          'xtick.labelsize': med,\n",
        "          'ytick.labelsize': med,\n",
        "          'figure.titlesize': large}\n",
        "plt.style.use('seaborn-whitegrid')\n",
        "plt.rcParams.update(params)\n",
        "%matplotlib inline"
      ],
      "execution_count": 112,
      "outputs": []
    },
    {
      "cell_type": "markdown",
      "metadata": {
        "id": "lmfQ4xh5HhuS"
      },
      "source": [
        "<div class=\"alert alert-block alert-danger\" style=\"color:black;background-color:#F6E6E2\">\n",
        "<h2 style=\"color:black;background-color:#F6E6E2\"> Part A: k-NN and Linear Regression [30 points total] </h2>    <br />\n",
        "\n",
        "\n",
        "### Problem Description: Predicting the Selling Price of Cars on CarDekho.com\n",
        "\n",
        "According to its website, **CarDekho.com** is India's leading car search venture. \n",
        "Its website and app carry rich automotive content such as expert reviews, \n",
        "detailed specs and prices, comparisons as well as videos and pictures of all car brands and models available in India. \n",
        "Each car has a **Current selling price**, which is the price for buying the car on this site, and a **MRP**, \n",
        "which is the retail price of the car. These two prices differ depending on factors such as brand, \n",
        "make year, mileage, condition, etc.  \n",
        "    \n",
        "#### DATASET\n",
        "\n",
        "The dataset contains 601 cars and is in file `car_dekho_full.csv`. It contains the following columns:\n",
        "\n",
        "- **Year** - make year (year the car was made), \n",
        "- **Current_Selling_Price** - current price of a car on CarDekho.com (in lakhs),\n",
        "- **MRP** - maximum retail price of a car (in lakhs),\n",
        "- **Kms_Driven** - number of kilometers\n",
        "\n",
        "Note: 1 *lakh*  is 100,000 Rupees in the Indian numbering system. Also, kilometers are used as a measure of distance instead of miles.\n",
        "\n",
        "#### Your Task: \n",
        "Predict the `Current_Selling_Price` from the other features.\n"
      ]
    },
    {
      "cell_type": "markdown",
      "metadata": {
        "id": "lPNaBq0-HhuS"
      },
      "source": [
        "\n",
        "\n",
        "<div class=\"alert alert-block alert-danger\" style=\"color:black;background-color:#F6E6E2\">\n",
        "<b> Question 1:   Exploratory Data Analysis (EDA) [10 points total]</b>\n",
        "\n",
        "To reach the goal of predicting the `Current_Selling_Price`, start by inspecting the dataset using Exploratory Data Analysis (EDA).\n",
        "\n",
        "Load the dataset, inspect it and answer the following questions: \n",
        "\n",
        "**1.1** [2pts] Which variables are quantitative, and which are categorical? \n",
        "\n",
        "**1.2** [2pts] What are the means and standard deviations for `Current_Selling_Price` and `MRP`? \n",
        "\n",
        "**1.3** [2pts] What is the range of Kilometers that the cars have?\n",
        "\n",
        "**1.4** [4pts] The goal of this part is to identify the best variable from which to predict our respone variable `Current Selling Price`. Plot a scatter plot between each predictor and reponse variable and examine the relationship between the predictors and `Current_Selling_Price`. Based on the plots, which is the  predictor that visually seems to best predict the `Current_Selling_Price`? \n",
        "    \n",
        "**Note**: Label your axes.\n",
        "</div>"
      ]
    },
    {
      "cell_type": "markdown",
      "metadata": {
        "id": "pWRuUnx3HhuS"
      },
      "source": [
        "## Solutions "
      ]
    },
    {
      "cell_type": "code",
      "metadata": {
        "colab": {
          "base_uri": "https://localhost:8080/",
          "height": 220
        },
        "id": "izwt_P8xLJpy",
        "outputId": "74f32586-1605-4b40-9a9c-d0090a152765"
      },
      "source": [
        "cars = pd.read_csv('/content/drive/MyDrive/Colab files/AI - 1/HW - 1/car_dekho_full.csv')\n",
        "print(cars.shape)\n",
        "cars.head()"
      ],
      "execution_count": 113,
      "outputs": [
        {
          "output_type": "stream",
          "name": "stdout",
          "text": [
            "(601, 4)\n"
          ]
        },
        {
          "output_type": "execute_result",
          "data": {
            "text/html": [
              "<div>\n",
              "<style scoped>\n",
              "    .dataframe tbody tr th:only-of-type {\n",
              "        vertical-align: middle;\n",
              "    }\n",
              "\n",
              "    .dataframe tbody tr th {\n",
              "        vertical-align: top;\n",
              "    }\n",
              "\n",
              "    .dataframe thead th {\n",
              "        text-align: right;\n",
              "    }\n",
              "</style>\n",
              "<table border=\"1\" class=\"dataframe\">\n",
              "  <thead>\n",
              "    <tr style=\"text-align: right;\">\n",
              "      <th></th>\n",
              "      <th>Year</th>\n",
              "      <th>Current_Selling_Price</th>\n",
              "      <th>MRP</th>\n",
              "      <th>Kms_Driven</th>\n",
              "    </tr>\n",
              "  </thead>\n",
              "  <tbody>\n",
              "    <tr>\n",
              "      <th>0</th>\n",
              "      <td>2016</td>\n",
              "      <td>5.25</td>\n",
              "      <td>5.70</td>\n",
              "      <td>3493</td>\n",
              "    </tr>\n",
              "    <tr>\n",
              "      <th>1</th>\n",
              "      <td>2005</td>\n",
              "      <td>3.51</td>\n",
              "      <td>13.70</td>\n",
              "      <td>75000</td>\n",
              "    </tr>\n",
              "    <tr>\n",
              "      <th>2</th>\n",
              "      <td>2010</td>\n",
              "      <td>0.31</td>\n",
              "      <td>1.05</td>\n",
              "      <td>213000</td>\n",
              "    </tr>\n",
              "    <tr>\n",
              "      <th>3</th>\n",
              "      <td>2006</td>\n",
              "      <td>2.10</td>\n",
              "      <td>7.60</td>\n",
              "      <td>50456</td>\n",
              "    </tr>\n",
              "    <tr>\n",
              "      <th>4</th>\n",
              "      <td>2005</td>\n",
              "      <td>0.20</td>\n",
              "      <td>0.57</td>\n",
              "      <td>55000</td>\n",
              "    </tr>\n",
              "  </tbody>\n",
              "</table>\n",
              "</div>"
            ],
            "text/plain": [
              "   Year  Current_Selling_Price    MRP  Kms_Driven\n",
              "0  2016                   5.25   5.70        3493\n",
              "1  2005                   3.51  13.70       75000\n",
              "2  2010                   0.31   1.05      213000\n",
              "3  2006                   2.10   7.60       50456\n",
              "4  2005                   0.20   0.57       55000"
            ]
          },
          "metadata": {},
          "execution_count": 113
        }
      ]
    },
    {
      "cell_type": "markdown",
      "metadata": {
        "id": "Ux_fE53hHhuT"
      },
      "source": [
        "### 1.1\n",
        "\n",
        "**Which variables are quantitative, and which are categorical?**"
      ]
    },
    {
      "cell_type": "code",
      "metadata": {
        "colab": {
          "base_uri": "https://localhost:8080/"
        },
        "id": "dIiABpyuLaun",
        "outputId": "7cb89527-8c28-43c8-fbdc-6405e5d52e13"
      },
      "source": [
        "for i in cars.columns:\n",
        "  print(f'Number of unique values in {i} column is {cars[i].nunique()}')"
      ],
      "execution_count": 114,
      "outputs": [
        {
          "output_type": "stream",
          "name": "stdout",
          "text": [
            "Number of unique values in Year column is 15\n",
            "Number of unique values in Current_Selling_Price column is 139\n",
            "Number of unique values in MRP column is 134\n",
            "Number of unique values in Kms_Driven column is 176\n"
          ]
        }
      ]
    },
    {
      "cell_type": "code",
      "metadata": {
        "colab": {
          "base_uri": "https://localhost:8080/",
          "height": 503
        },
        "id": "0KJfUjpejIxM",
        "outputId": "e5884e43-bad0-4cf1-87be-11dacdb0da1b"
      },
      "source": [
        "fig, axen = plt.subplots(2, 2, figsize = (12, 8))\n",
        "for v, ax in zip(cars.columns, axen.ravel()):\n",
        "    sns.histplot(cars[v], ax=ax) "
      ],
      "execution_count": 115,
      "outputs": [
        {
          "output_type": "display_data",
          "data": {
            "image/png": "[encoded data removed]",
            "text/plain": [
              "<Figure size 864x576 with 4 Axes>"
            ]
          },
          "metadata": {
            "needs_background": "light"
          }
        }
      ]
    },
    {
      "cell_type": "markdown",
      "metadata": {
        "id": "6Fn2hGwijaSP"
      },
      "source": [
        "From the number of unique values and the histogram plots of the variables, it is clear that only the \"Year\" variable is categorical, and all the others are continuous. Both Current_Selling_Price and MRP have decimal values, and Kms_Driven spans a huge range, and can be considered continuous variables."
      ]
    },
    {
      "cell_type": "markdown",
      "metadata": {
        "id": "ERku4iLWHhuT"
      },
      "source": [
        "### 1.2\n",
        "\n",
        "**What are the means and standard deviations for Current_Selling_Price and MRP?**"
      ]
    },
    {
      "cell_type": "code",
      "metadata": {
        "colab": {
          "base_uri": "https://localhost:8080/"
        },
        "id": "tfYvhmGMHhuU",
        "outputId": "a9f2cedf-3d8c-4b3e-f00b-a023033b169f"
      },
      "source": [
        "# Name your variables as mean_csp, mean_mrp, std_csp, std_mrp\n",
        "\n",
        "# your code here\n",
        "mean_csp, mean_mrp = np.mean(cars['Current_Selling_Price']), np.mean(cars['MRP'])\n",
        "std_csp, std_mrp = np.std(cars['Current_Selling_Price']), np.std(cars['MRP'])\n",
        "# end your code here \n",
        "\n",
        "\n",
        "print (\"The mean Current Selling Price is\", mean_csp,\"lakhs\")\n",
        "print (\"The mean MRP is\", mean_mrp,'lakhs')\n",
        "print (\"The Standard Deviation of Current Selling Price is\", std_csp)\n",
        "print (\"The Standard Deviation of MRP is\", std_mrp)"
      ],
      "execution_count": 116,
      "outputs": [
        {
          "output_type": "stream",
          "name": "stdout",
          "text": [
            "The mean Current Selling Price is 4.393078202995008 lakhs\n",
            "The mean MRP is 6.911552412645585 lakhs\n",
            "The Standard Deviation of Current Selling Price is 4.514554426823631\n",
            "The Standard Deviation of MRP is 6.47472759622026\n"
          ]
        }
      ]
    },
    {
      "cell_type": "markdown",
      "metadata": {
        "id": "ukVanM9MHhuU"
      },
      "source": [
        "### 1.3\n",
        "\n",
        "**What is the range of Kilometers that the cars have?**"
      ]
    },
    {
      "cell_type": "code",
      "metadata": {
        "colab": {
          "base_uri": "https://localhost:8080/"
        },
        "id": "OQT4ZgulHhuV",
        "outputId": "a2727a6d-c6a0-4995-9bd0-65f9900833f4"
      },
      "source": [
        "# your code here\n",
        "range_kms = max(cars['Kms_Driven']) - min(cars['Kms_Driven'])\n",
        "print(f'The range of Kilometers driven is {range_kms}')"
      ],
      "execution_count": 117,
      "outputs": [
        {
          "output_type": "stream",
          "name": "stdout",
          "text": [
            "The range of Kilometers driven is 212500\n"
          ]
        }
      ]
    },
    {
      "cell_type": "markdown",
      "metadata": {
        "id": "A8oX66pYHhuV"
      },
      "source": [
        "### 1.4\n",
        "\n",
        "**The goal of this part is to identify the best variable from which to predict our respone variable Current Selling Price. Plot a scatter plot between each predictor and reponse variable and examine the relationship between the predictors and Current_Selling_Price. Based on the plots, which is the predictor that visually seem to best predict the Current_Selling_Price?**"
      ]
    },
    {
      "cell_type": "code",
      "metadata": {
        "colab": {
          "base_uri": "https://localhost:8080/"
        },
        "id": "NtGrPkrdmFcX",
        "outputId": "4e47dea0-5767-4fa8-f1ad-945b3924978d"
      },
      "source": [
        "predictor_cols = list(cars.columns)\n",
        "predictor_cols.remove('Current_Selling_Price')\n",
        "print(predictor_cols)"
      ],
      "execution_count": 118,
      "outputs": [
        {
          "output_type": "stream",
          "name": "stdout",
          "text": [
            "['Year', 'MRP', 'Kms_Driven']\n"
          ]
        }
      ]
    },
    {
      "cell_type": "code",
      "metadata": {
        "colab": {
          "base_uri": "https://localhost:8080/",
          "height": 884
        },
        "id": "Lx6G6t5aooJd",
        "outputId": "1fd21f04-e99e-49ea-af53-8c8792c731eb"
      },
      "source": [
        "fig, axen = plt.subplots(3, 1, figsize = (6,15))\n",
        "for i in range(3):\n",
        "  sns.scatterplot(data=cars, x=\"Current_Selling_Price\", y=predictor_cols[i], ax = axen[i])"
      ],
      "execution_count": 119,
      "outputs": [
        {
          "output_type": "display_data",
          "data": {
            "image/png": "[encoded data removed]",
            "text/plain": [
              "<Figure size 432x1080 with 3 Axes>"
            ]
          },
          "metadata": {
            "needs_background": "light"
          }
        }
      ]
    },
    {
      "cell_type": "markdown",
      "metadata": {
        "id": "P-PcaADDHhuY"
      },
      "source": [
        "**Your answer here**\n",
        "From the scatter plots, it is clear that MRP might be the best predictor for our response variable"
      ]
    },
    {
      "cell_type": "markdown",
      "metadata": {
        "id": "OYNDESY-HhuY"
      },
      "source": [
        "<div class=\"alert alert-block alert-danger\" style=\"color:black;background-color:#F6E6E2\">\n",
        "<b> Question 2:   k-Nearest Neighbors  [10 points total]</b>\n",
        "<br /><br />\n",
        "We begin our modeling with k-Nearest Neighbors (kNN) regression. You may use `sklearn`'s built-in functions.\n",
        "<br /><br />\n",
        "\n",
        "**2.1** [6pts] In this part, we will model a kNN regression on the predictor chosen above (1.4) and the response variable `Current_Selling_Price`.\n",
        "<br /><br />\n",
        "    \n",
        "INSTRUCTIONS:\n",
        "<br />\n",
        "- Split the dataset in train and test set with 75% training data and 25% testing data, using the random_state = 109.  \n",
        "<br />\n",
        "- Fit a kNN regression model to the training set for the following 8 different values of $k$:  $k = 1,2,3,5,7,10,50,100$. \n",
        "<br />\n",
        "- Make 8 scatter plots of response vs. predictor for each $k$, arranged in a $4\\times2$ grid.  Each figure should have plots of the prediction from the k-NN regression and the actual data points on the same figure, as well as axis labels, title, and legend. Consider using the subplot functionality, unless you first try this and then decide that you have a clearer, cleaner way of communicating these plots.\n",
        "<br />\n",
        "- Evaluate the $MSE$ for the fitted models on both the training and test sets **for each $k$**.\n",
        "<br />\n",
        "- Plot the training and test $MSE$ values as a function of $k$ on the same figure.  Again, the figure must have axis labels and a legend.\n",
        "<br />\n",
        "- Find the best model based on the test $MSE$ values.\n",
        "<br />\n",
        "- Evaluate and report the $R^2$ of the best model.\n",
        "\n",
        "<br /><br />\n",
        "**2.2** [4pts] Discuss your results by answering the following questions.  You should answer the questions directly in a markdown cell of your notebook.\n",
        "<br /><br />\n",
        "- How does the value of $k$ affect the fitted model?\n",
        "<br />\n",
        "- If $n$ is the number of observations in the training set, what can you say about a k-NN regression model that uses $k = n$?  \n",
        "- Do the training and test $MSE$ plots exhibit different trends?  Explain how the value of $k$ influences the training and test $MSE$ values.\n",
        "<br />\n",
        "- Run the same code by changing the random seed during the train-test split. Do you always get the same answer? If not, why?\n",
        "<br />\n",
        "    \n",
        "    </div>"
      ]
    },
    {
      "cell_type": "markdown",
      "metadata": {
        "id": "dI2UXL7WHhuY"
      },
      "source": [
        "### Solutions"
      ]
    },
    {
      "cell_type": "markdown",
      "metadata": {
        "id": "fxRhhHXTHhuZ"
      },
      "source": [
        "### 2.1\n",
        "In this part, we will model a kNN regression on the predictor chosen above (1.4) and the response variable `Current_Selling_Price`."
      ]
    },
    {
      "cell_type": "code",
      "metadata": {
        "colab": {
          "base_uri": "https://localhost:8080/",
          "height": 704
        },
        "id": "aD_-xw5QHhuZ",
        "outputId": "5088086d-5e32-443d-dcca-7983083db6d3"
      },
      "source": [
        "#Choosing your predictor and response variable\n",
        "\n",
        "# your code here\n",
        "x = cars[['MRP']]\n",
        "y = cars['Current_Selling_Price']\n",
        "# end of your code here \n",
        "\n",
        "\n",
        "##Splitting the data into train and test sets with 75% training data and 25% testing data. Set random_state=109\n",
        "# your code here\n",
        "x_train, x_test, y_train, y_test = train_test_split(x, y, train_size = 0.75, random_state = 109)\n",
        "# end of your code here  \n",
        "\n",
        "\n",
        "## Fit a kNN regression model to the training set for the following 8 different values of  𝑘 :  𝑘=1,2,3,5,7,10,50,100 .\n",
        "## and make 8 scatter plots of response vs. predictor for each  𝑘 , arranged in a  4×2  grid. \n",
        "## Each figure should have plots of the prediction from the k-NN regression and the actual data points on the same figure, as well as axis labels, title, and legend \n",
        "# your code here\n",
        "k_values = [1,2,3,5,7,10,50,100]\n",
        "train_mse, test_mse, test_r2 = {},{},{}\n",
        "\n",
        "fig, axen = plt.subplots(2, 4, figsize = (20, 12))\n",
        "ax = axen.ravel()\n",
        "for k in range(len(k_values)):\n",
        "  KNN_model = KNeighborsRegressor(n_neighbors=int(k_values[k]))\n",
        "  KNN_model.fit(x_train,y_train)\n",
        "  y_pred = KNN_model.predict(x_test)\n",
        "  train_mse[k_values[k]] = mean_squared_error(y_train,KNN_model.predict(x_train))\n",
        "  test_mse[k_values[k]] = mean_squared_error(y_test,y_pred)\n",
        "  test_r2[k_values[k]] = r2_score(y_test,y_pred)\n",
        "  ax[k].scatter(y_test,y_pred)\n",
        "  ax[k].set_title(f'Plot for k = {k_values[k]}')\n",
        "  ax[k].set(xlabel='Actual', ylabel='Predicted')\n",
        "  ax[k].set_ylim([0,30])\n",
        "\n",
        "# Plotting\n",
        "\n"
      ],
      "execution_count": 120,
      "outputs": [
        {
          "output_type": "display_data",
          "data": {
            "image/png": "[encoded data removed]",
            "text/plain": [
              "<Figure size 1440x864 with 8 Axes>"
            ]
          },
          "metadata": {
            "needs_background": "light"
          }
        }
      ]
    },
    {
      "cell_type": "code",
      "metadata": {
        "colab": {
          "base_uri": "https://localhost:8080/",
          "height": 538
        },
        "id": "QrINe0RAiTwk",
        "outputId": "c9a9726c-bff2-477d-a777-85428f7cd3bd"
      },
      "source": [
        "plt.figure(figsize=(12,8))\n",
        "plt.bar(np.arange(8) - 0.2, train_mse.values(), color = 'green',width = 0.4)\n",
        "plt.bar(np.arange(8) + 0.2, test_mse.values(), color = 'maroon',width = 0.4)\n",
        "plt.xticks(np.arange(8), [str(x) for x in k_values])\n",
        "plt.title('MSE Plots')\n",
        "plt.xlabel('k- values')\n",
        "plt.ylabel('MSE')\n",
        "plt.legend(['Train','Test'])"
      ],
      "execution_count": 121,
      "outputs": [
        {
          "output_type": "execute_result",
          "data": {
            "text/plain": [
              "<matplotlib.legend.Legend at 0x7f92f91e2c50>"
            ]
          },
          "metadata": {},
          "execution_count": 121
        },
        {
          "output_type": "display_data",
          "data": {
            "image/png": "[encoded data removed]",
            "text/plain": [
              "<Figure size 864x576 with 1 Axes>"
            ]
          },
          "metadata": {
            "needs_background": "light"
          }
        }
      ]
    },
    {
      "cell_type": "code",
      "metadata": {
        "id": "lIosGVE7Hhul"
      },
      "source": [
        "# Now make the MSE plots\n",
        "# your code here\n",
        "# fig, axen = plt.subplots(1, 2, figsize = (16, 8))\n",
        "# ax = axen.ravel()\n",
        "# ax[0].bar([str(x) for x in k_values], train_mse.values(), color = 'green')\n",
        "# ax[0].set_title('Train MSE plot')\n",
        "# ax[0].set_xlabel('k- values')\n",
        "# ax[0].set_ylabel('MSE')\n",
        "\n",
        "# ax[1].bar([str(x) for x in k_values], test_mse.values(), color = 'maroon')\n",
        "# ax[1].set_title('Test MSE plot')\n",
        "# ax[1].set_xlabel('k- values')\n",
        "# ax[1].set_ylabel('MSE')"
      ],
      "execution_count": 122,
      "outputs": []
    },
    {
      "cell_type": "code",
      "metadata": {
        "colab": {
          "base_uri": "https://localhost:8080/"
        },
        "id": "DgSTltrEHhul",
        "outputId": "2d8eaf34-6062-4d22-b8a5-6e37cd5647a5"
      },
      "source": [
        "\n",
        "# Find the best model\n",
        "# your code here\n",
        "least_mse = min(test_mse.values())\n",
        "least_k = list(test_mse.keys())[list(test_mse.values()).index(least_mse)]\n",
        "print(f'The best k - value based on the test data is {least_k} with MSE of {least_mse:.2f}')"
      ],
      "execution_count": 193,
      "outputs": [
        {
          "output_type": "stream",
          "name": "stdout",
          "text": [
            "The best k - value based on the test data is 7 with MSE of 1.92\n"
          ]
        }
      ]
    },
    {
      "cell_type": "code",
      "metadata": {
        "scrolled": true,
        "colab": {
          "base_uri": "https://localhost:8080/"
        },
        "id": "9JIs0cfUHhul",
        "outputId": "f49c6270-bc7a-4b8b-9cec-850406ad386d"
      },
      "source": [
        "##Compute the R-squared for the best model\n",
        "# your code here\n",
        "least_r2 = test_r2[least_k]\n",
        "print(f'The r2 score for {least_k} is {least_r2:.3f}')"
      ],
      "execution_count": 194,
      "outputs": [
        {
          "output_type": "stream",
          "name": "stdout",
          "text": [
            "The r2 score for 7 is 0.881\n"
          ]
        }
      ]
    },
    {
      "cell_type": "markdown",
      "metadata": {
        "id": "5i-FYiwEHhum"
      },
      "source": [
        "### 2.2"
      ]
    },
    {
      "cell_type": "markdown",
      "metadata": {
        "id": "kXYsQia0Hhup"
      },
      "source": [
        "**Your answer here**\n",
        "\n",
        "**a) How does the value of $k$ affect the fitted model?**\n",
        "<br />\n",
        "\n",
        "\n",
        "**b) If $n$ is the number of observations in the training set, what can you say about a k-NN regression model that uses $k = n$?**\n",
        "<br />\n",
        "\n",
        "**c) Do the training and test $MSE$ plots exhibit different trends?  Explain how the value of $k$ influences the training and test $MSE$ values.**\n",
        "<br />\n",
        "\n",
        "**d) Run the same code by changing the random seed during the train-test split. Do you always get the same answer? If not, why?**\n",
        "\n"
      ]
    },
    {
      "cell_type": "markdown",
      "metadata": {
        "id": "kHx0rp7AoL-N"
      },
      "source": [
        "(a) When the k is really low, the model clearly overfits by learning too much from the training set, and as k increases this becomes less of an issue, and at a certain point it starts underfitting by considering too many values to average out. As we clearly see in the barplot above, the Test MSE decreases and then starts rising"
      ]
    },
    {
      "cell_type": "markdown",
      "metadata": {
        "id": "bD1mXJzoonc4"
      },
      "source": [
        "(b) If k = n for the model, all predictions will be the average of the response variable. This would be the worst performing model in terms of choice of k."
      ]
    },
    {
      "cell_type": "markdown",
      "metadata": {
        "id": "1g4YlG4CpDOr"
      },
      "source": [
        "(c) Both the train and test MSE exhibit similar broad trends such that MSE decreases for a while and then increases, but the inflection point is different in both those cases"
      ]
    },
    {
      "cell_type": "markdown",
      "metadata": {
        "id": "aAlsf65Fp1af"
      },
      "source": [
        "(d) The k value changes between different random seeds. But the Test MSE and r2_score of the best predictors are broadly similar for all the test seeds  "
      ]
    },
    {
      "cell_type": "markdown",
      "metadata": {
        "id": "0NjRXP9XHhuq"
      },
      "source": [
        "<div class=\"alert alert-block alert-danger\" style=\"color:black;background-color:#F6E6E2\">\n",
        "<b> Question 3:  Simple Linear Regression   [10 points total]</b>\n",
        "<br /><br />\n",
        "\n",
        "**3.1** [5pts] We will now fit our data using a linear regression model. Choose the same **predictor** and **response** variables used to model kNN regression.\n",
        "<br /><br />\n",
        "- You will use the same 75% training and 25% testing split of the data, using the same random_state = 109. \n",
        "<br />\n",
        "- Run a Linear Regression model.\n",
        "<br />\n",
        "- Report the slope/coefficient and intercept values for the fitted linear model.\n",
        "<br />\n",
        "- Report the $MSE$ for the training and test sets and the $R^2$ from the test set.\n",
        "<br />\n",
        "- Plot the **residuals** $e = y - \\hat{y}$ of the model on the training set as a function of the response variable. Draw a horizontal line denoting the zero residual value on the Y-axis. Discuss the shape of the plot and what it shows for the quality of the model.\n",
        "<br /><br />\n",
        "\n",
        "**Note:** Use the `sklearn` module for linear regression. This module has built-in functions to summarize the results of regression and produce residual plots. Create a `Linear Regression` model, use the `fit` method in the instance for fitting a linear regression model, and use the `predict` method to make predictions. As previously, you may use the `mean_squared_error` function to compute $MSE$.\n",
        "<br /><br />\n",
        "**3.2** [5pts] Discuss your results by answering the following questions.  \n",
        "<br />\n",
        "- How does the test $MSE$ score compare with the best test $MSE$ value obtained with k-NN regression? \n",
        "<br />\n",
        "- What does the sign of the slope of the fitted linear model convey about the data? \n",
        "<br />\n",
        "- Based on the residual plot that you made, discuss whether or not the assumption of linearity is valid for this data.\n",
        "<br /><br />\n",
        "    </div>\n"
      ]
    },
    {
      "cell_type": "markdown",
      "metadata": {
        "id": "OZSfT6JtHhur"
      },
      "source": [
        "### Solutions"
      ]
    },
    {
      "cell_type": "markdown",
      "metadata": {
        "id": "5126ErUnHhur"
      },
      "source": [
        "### 3.1\n",
        "**Predict the selling price**"
      ]
    },
    {
      "cell_type": "code",
      "metadata": {
        "collapsed": true,
        "id": "q133fF6AHhur"
      },
      "source": [
        "# your code here\n",
        "x = cars[['MRP']]\n",
        "y = cars['Current_Selling_Price']\n",
        "# end of your code here \n",
        "\n",
        "\n",
        "##Splitting the data into train and test sets with 75% training data and 25% testing data. Set random_state=109\n",
        "# your code here\n",
        "x_train, x_test, y_train, y_test = train_test_split(x, y, train_size = 0.75, random_state = 109)"
      ],
      "execution_count": 171,
      "outputs": []
    },
    {
      "cell_type": "code",
      "metadata": {
        "id": "qkeAwEyR8bWj"
      },
      "source": [
        "x_dummy = x_test['MRP'].values\n",
        "idx = np.argsort(x_dummy)\n",
        "x_dummy = x_dummy[idx]"
      ],
      "execution_count": null,
      "outputs": []
    },
    {
      "cell_type": "code",
      "metadata": {
        "colab": {
          "base_uri": "https://localhost:8080/",
          "height": 538
        },
        "id": "BEQG4OuVHhus",
        "outputId": "971ec851-4d97-4502-fc2b-9b0cd146758a"
      },
      "source": [
        "## Fit a linear model to the train data\n",
        "\n",
        "# your code here\n",
        "lreg = LinearRegression()\n",
        "lreg.fit(x_train,y_train)\n",
        "y_pred = lreg.predict(x_test)\n",
        "\n",
        "MSE_lreg = mean_squared_error(y_test,y_pred)\n",
        "r2_lreg = r2_score(y_test,y_pred)\n",
        "residuals = y_test - y_pred\n",
        "\n",
        "intercept = lreg.intercept_\n",
        "slope = lreg.coef_[0]\n",
        "\n",
        "x_dummy = x_test['MRP'].values\n",
        "idx = np.argsort(x_dummy)\n",
        "x_dummy = x_dummy[idx]\n",
        "\n",
        "y_pred_formula = intercept + x_dummy*slope\n",
        "# end of your code here \n",
        "\n",
        "\n",
        "## Plot the **residuals** \n",
        "# your code here \n",
        "fig, axen = plt.subplots(1, 2, figsize = (16, 8))\n",
        "ax = axen.ravel()\n",
        "\n",
        "ax[0].scatter(x_test,y_test)\n",
        "ax[0].set_title('Test Data Scatter Plot')\n",
        "ax[0].set_xlabel('MRP')\n",
        "ax[0].set_ylabel('Current Selling Price')\n",
        "ax[0].plot(x_dummy, y_pred_formula, label=\"Fitted Line\", color='red', alpha=0.6)\n",
        "ax[0].legend()\n",
        "\n",
        "\n",
        "sns.regplot(x = y_pred, y = residuals, data = None, scatter = True, color = 'red', ax = ax[1])\n",
        "ax[1].set_title('Residual Plot')\n",
        "ax[1].set_xlabel('Current Selling Price')\n",
        "ax[1].set_ylabel('Residuals')"
      ],
      "execution_count": 189,
      "outputs": [
        {
          "output_type": "execute_result",
          "data": {
            "text/plain": [
              "Text(0, 0.5, 'Residuals')"
            ]
          },
          "metadata": {},
          "execution_count": 189
        },
        {
          "output_type": "display_data",
          "data": {
            "image/png": "[encoded data removed]",
            "text/plain": [
              "<Figure size 1152x576 with 2 Axes>"
            ]
          },
          "metadata": {
            "needs_background": "light"
          }
        }
      ]
    },
    {
      "cell_type": "code",
      "metadata": {
        "colab": {
          "base_uri": "https://localhost:8080/"
        },
        "id": "nDnQ531wAgil",
        "outputId": "3e82657a-a6a1-4653-b770-4034219808fd"
      },
      "source": [
        "print(f'The MSE of Linear Regression on Test Data is {MSE_lreg:.2f}')\n",
        "print(f'The R2_score of Linear Regression on Test Data is {r2_lreg:.3f}')"
      ],
      "execution_count": 192,
      "outputs": [
        {
          "output_type": "stream",
          "name": "stdout",
          "text": [
            "The MSE of Linear Regression on Test Data is 3.14\n",
            "The R2_score of Linear Regression on Test Data is 0.805\n"
          ]
        }
      ]
    },
    {
      "cell_type": "markdown",
      "metadata": {
        "id": "5GWsz_30Hhus"
      },
      "source": [
        "### 3.2"
      ]
    },
    {
      "cell_type": "markdown",
      "metadata": {
        "id": "L5r2AnG3Hhus"
      },
      "source": [
        "**Your answer here**\n",
        "\n",
        "**a) How does the test $MSE$ score compare with the best test $MSE$ value obtained with k-NN regression?**\n",
        "<br />\n",
        "\n",
        "\n",
        "**b) What does the sign of the slope of the fitted linear model convey about the data?**\n",
        "<br />\n",
        "\n",
        "\n",
        "**c) Based on the residual plot that you made, discuss whether or not the assumption of linearity is valid for this data.\n",
        "<br />**\n",
        "\n"
      ]
    },
    {
      "cell_type": "markdown",
      "metadata": {
        "id": "19IeB9YjAbxW"
      },
      "source": [
        "(a) The MSE score for Simple Linear Regression (3.14) is higher than MSE for KNN (1.92)."
      ]
    },
    {
      "cell_type": "markdown",
      "metadata": {
        "id": "7KkWxB-jBUB6"
      },
      "source": [
        "(b) The slope is positive, and indicates that there is a positive relationship between MRP and Current Selling Price. Meaning as MRP increases, Current Selling Price also tends to increase."
      ]
    },
    {
      "cell_type": "markdown",
      "metadata": {
        "id": "hQUnZQIzBi6N"
      },
      "source": [
        "(c) The residual plot indicates that residuals are not spread equally around 0 as Current Selling Price increases. This would indicate that the relationship between MRP and Current Selling Price is not linear. The fact that KNN performs better than Linear Regression would also indicate this fact"
      ]
    },
    {
      "cell_type": "markdown",
      "metadata": {
        "id": "UZgun1tPHhut"
      },
      "source": [
        "<div class=\"alert alert-block alert-danger\" style=\"color:black;background-color:#F6E6E2\"><b> Question 4:  Linear Regression with Feature engineering  [Optional]</b>\n",
        "<br /><br />\n",
        "\n",
        "**4.1** Creating a new variable from existing data: percentage depreciation\n",
        "<br />\n",
        "Feature engineering involves transforming data into features that better represent the underlying problem to the predictive models. This results in improved model accuracy on unseen data. \n",
        "<br />\n",
        "Our previous regression model relates the Current selling price to the MRP of the car with the equation:\n",
        "<br /><br />\n",
        "$$CSP = \\beta_0 + \\beta_1*MRP$$\n",
        "<br />\n",
        "However, this linear equation does not incorparate other interesting variables such as the ```year of manufacture```, or the ```kms driven```, which maybe important factors that affect the overall price of the car. \n",
        "<br />\n",
        "Instead of using multi-linear analysis, we can perform some intelligent feature engineering to identify other simple linear relationships within our data.\n",
        "<br />\n",
        "From practical experience, we know that the percentage drop of a car's price is proportional to the age of the car ([more on car depreciation here](https://www.finder.com/what-is-car-depreciation)). \n",
        "<br />\n",
        "Hence, it makes sense to investigate this variable seperately and try to identify possible relationships with other variables.  \n",
        "<br />\n",
        "Define the percentage depreciation of the Current selling price to the MRP as follows:\n",
        "<br /><br />\n",
        "$$\\textrm{Percentage of the Selling Price}=perc =\\frac{MRP - Selling Price}{MRP}$$\n",
        "    \n",
        "<br /><br />\n",
        "**4.2** Exploratory Data Analysis\n",
        "<br /><br />\n",
        "For this section, we will consider `perc` to be our intermediate response variable. To understand the relationship between `perc` and our predictor variables we will perform EDA.\n",
        "<br /><br />\n",
        "Answer the following questions by plotting graphs.\n",
        "<br /><br />\n",
        "a) It is seen previously that there is a relationship between `Year` and `Current Selling Price`. Is the relationship between `Year` and `perc` the same. If not, how has it changed and why do you think so?\n",
        "<br />\n",
        "b) Is the trend between the `MRP` and `perc` the same as that between `MRP` and `Current Selling Price`?\n",
        "<br />\n",
        "c) Does there seem to be a relationship between `Kms_Driven` and `perc` ? \n",
        "<br />\n",
        "d) Which is the best predictor to predict `perc`, if there is one? Is it the same as that of `Current Selling price` or has it changed?\n",
        "<br /><br />\n",
        "**4.3** Perform additional EDA \n",
        "<br /><br />\n",
        "Feel free to use other plots and statistics to find the best predictor and/or understand the relationship between variables. One example is given below. It is a plot of `Current Selling Price` vs `Year` that is color coded based on the `Kms_Driven`.\n",
        "<br /><br />\n",
        "**4.4** Fitting a Linear Regression model\n",
        "<br /><br />\n",
        "Based on the previous EDA choose appropriate **feature** variable(s) and **response** variable.\n",
        "<br /><br />\n",
        "- Again, split the data into training data of 75% and testing data of 25%.\n",
        "<br />\n",
        "- Fit a Linear Regression model for each of the predictors.\n",
        "<br />\n",
        "- Predict the model for the train and test data.\n",
        "<br />\n",
        "- Plot a graph with the test data with predictor variable on the *x* axis and `perc` on the *y* axis. Also plot the fit curve. Ensure you use the correct labels and show the legend.\n",
        "<br />\n",
        "- Report the $MSE$ score from the training and test sets.\n",
        "<br />\n",
        "- Find the best model i.e. the best predictor based on the $MSE$ of each model.\n",
        "<br /><br />\n",
        "\n",
        "**4.5** Predicting The Current Selling Price using ```perc``` \n",
        "<br /><br />\n",
        "After performing the above analysis, answer briefly as to why are we getting such a dramatic increase in the R2 score?\n",
        "    <br /><br />\n",
        " </div>"
      ]
    },
    {
      "cell_type": "markdown",
      "metadata": {
        "id": "ctISAk7KHhut"
      },
      "source": [
        "## Solutions"
      ]
    },
    {
      "cell_type": "markdown",
      "metadata": {
        "id": "DZCrG6U6Hhuu"
      },
      "source": [
        "### 4.1"
      ]
    },
    {
      "cell_type": "code",
      "metadata": {
        "scrolled": true,
        "id": "6WI-lJAMHhuu"
      },
      "source": [
        "#Create a new column perc and add to the dataframe\n",
        "# your code here\n",
        "\n",
        "#Creating a new column perc\n"
      ],
      "execution_count": null,
      "outputs": []
    },
    {
      "cell_type": "markdown",
      "metadata": {
        "id": "X1V8KnezHhuu"
      },
      "source": [
        "### 4.2"
      ]
    },
    {
      "cell_type": "code",
      "metadata": {
        "id": "FGUqX1UWHhuu"
      },
      "source": [
        "# your code here\n"
      ],
      "execution_count": null,
      "outputs": []
    },
    {
      "cell_type": "markdown",
      "metadata": {
        "id": "RFCxwl9vHhuv"
      },
      "source": [
        "**Your answer here**\n"
      ]
    },
    {
      "cell_type": "code",
      "metadata": {
        "id": "ciSVgxOFHhuv"
      },
      "source": [
        "# your code here\n"
      ],
      "execution_count": null,
      "outputs": []
    },
    {
      "cell_type": "markdown",
      "metadata": {
        "id": "AeqtT5MQHhuv"
      },
      "source": [
        "**Your answer here**\n"
      ]
    },
    {
      "cell_type": "code",
      "metadata": {
        "id": "sY99HCAqHhuw"
      },
      "source": [
        "# your code here\n"
      ],
      "execution_count": null,
      "outputs": []
    },
    {
      "cell_type": "markdown",
      "metadata": {
        "id": "3Gtg7cBIHhuw"
      },
      "source": [
        "**Your answer here**\n"
      ]
    },
    {
      "cell_type": "markdown",
      "metadata": {
        "id": "Vlyq3t__Hhuw"
      },
      "source": [
        "### 4.3"
      ]
    },
    {
      "cell_type": "code",
      "metadata": {
        "id": "IrzpmFgeHhux"
      },
      "source": [
        "#your code here"
      ],
      "execution_count": null,
      "outputs": []
    },
    {
      "cell_type": "markdown",
      "metadata": {
        "id": "DWYZNjtTHhux"
      },
      "source": [
        "### 4.4"
      ]
    },
    {
      "cell_type": "code",
      "metadata": {
        "id": "rLkGhH9eHhux"
      },
      "source": [
        "# Linear Regression using Year as the reponse variable\n",
        "# your code here\n"
      ],
      "execution_count": null,
      "outputs": []
    },
    {
      "cell_type": "code",
      "metadata": {
        "id": "dOh1hxYBHhuy"
      },
      "source": [
        "# Linear Regression using MRP as the reponse variable\n",
        "# your code here\n"
      ],
      "execution_count": null,
      "outputs": []
    },
    {
      "cell_type": "code",
      "metadata": {
        "id": "40UBFYvXHhuy"
      },
      "source": [
        "# Linear Regression using KMs Driven as the reponse variable\n",
        "# your code here\n"
      ],
      "execution_count": null,
      "outputs": []
    },
    {
      "cell_type": "markdown",
      "metadata": {
        "id": "0Qmecp9uHhuy"
      },
      "source": [
        "**Your answer here**\n"
      ]
    },
    {
      "cell_type": "markdown",
      "metadata": {
        "id": "b--eT6L1Hhuy"
      },
      "source": [
        "### 4.5"
      ]
    },
    {
      "cell_type": "code",
      "metadata": {
        "id": "HfpLOgz6Hhuy"
      },
      "source": [
        "#Linear Regression using Year as the reponse variable\n",
        "# your code here\n"
      ],
      "execution_count": null,
      "outputs": []
    },
    {
      "cell_type": "markdown",
      "metadata": {
        "id": "uoM6yeKQHhuz"
      },
      "source": [
        "**Your answer here**\n"
      ]
    },
    {
      "cell_type": "markdown",
      "metadata": {
        "id": "D1DmqRXCHhuz"
      },
      "source": [
        "<div class=\"alert alert-block alert-danger\" style=\"color:black;background-color:#F6E6E2\">\n",
        "<h2 style=\"color:black;background-color:#F6E6E2\"> Part Β :  Multi-Linear Regression [25 points total] </h2><br />\n",
        "\n",
        "\n",
        "### Problem Description: \n",
        "\n",
        "Analysis of publically available profiles on simplymarry.com to learn more about the biases, income disparity & other interesting trends in India. \n",
        "\n",
        "#### Dataset\n",
        "\n",
        "The dataset was aggregated from the SimplyMarry.com site.\n",
        "\n",
        "All the attributes refer to traits and preferences of the person looking for a spouse. \n",
        "\n",
        "- **age** - Age of person looking for a spouse\n",
        "- **gender** - Female:0, Male:1 \n",
        "- **height** - Height in inches\n",
        "- **bmi** - BMI calculated based on height and weight\n",
        "- **eating** - {'Doesn't Matter':0, 'Jain': 1, 'Vegetarian': 2, 'Vegetarian With Eggs': 3, 'Non Vegetarian': 4}\n",
        "- **family_type** - ('Doesn't Matter': 0, 'Others':3, 'Nuclear': 1, 'Joint family both parents': 2, 'Joint family only mother':2, 'Joint family father mother and brothers sisters':2, 'Joint family single parent brothers and or sisters':2, 'Joint family only father': 2)\n",
        "- **status** - If social status matters to the person looking for a spouse: {'Doesn't Matter': 0, 'Middle Class': 1, 'Upper Middle Class': 2, 'High Class': 3, 'Rich / Affluent': 4}\n",
        "- **manglik** - {'No': 0, 'Yes': 1, 'Do Not Know': 2} ([More on this feature](https://en.wikipedia.org/wiki/Mangala_Dosha))\n",
        "- **drinking** - {'Doesn't Matter':0, 'No': 1, 'Occasionally': 2, 'Yes': 3}\n",
        "- **complexion** - {'Very Fair ': 1, 'Fair ': 2, 'Wheatish Medium ': 4, 'Wheatish ':3, 'Dark':5}\n",
        "- **body** - {'Slim': 1, 'Average': 2, 'Heavy': 3, 'Athletic': 4}\n",
        "- **education** - {'High School':0, 'Some college':1,'Undergrad':2, 'Grad':3, 'Doctorate':4}\n",
        "- **city** - ('International': 1, 'Mumbai': 2, 'Delhi':3, 'Kolkata':4,'Bengaluru':5, 'Chennai':6, 'Hyderabad':7, 'Pune':8, 'Ahmedabad':9,'Surat':10, 'Vishakapatnam':11, 'Others':12)\n",
        "- **income** - {Annual income in dollars}\n",
        "\n",
        "*source: Harvard IACS*\n",
        "\n",
        "#### Sensitive attributes in the data\n",
        "\n",
        "It is thought that users are mostly sincere when stating their preferences about their desired partner, and are unlikely to hide any deeply held cultural or sociological biases in order to be perceived as being politically correct. This might take care of the problem with surveys where responses touching on social norms are notorious for self-report bias.\n",
        "\n",
        "This is a dataset designed to make you think about issues of bias and social issues in datasets. We hope that you will be able to derive insights into the above mentioned sociological biases. The data could potentially provide answers to interesting questions with associated policy ramifications, such as do these biases reduce among more educated users, or more urban users?  "
      ]
    },
    {
      "cell_type": "code",
      "metadata": {
        "id": "f0l0mVJQHhu0"
      },
      "source": [
        "# Read the file named \"Income_prediction.csv\"\n",
        "\n",
        "df = pd.read_csv('data/Income_prediction.csv')"
      ],
      "execution_count": null,
      "outputs": []
    },
    {
      "cell_type": "markdown",
      "metadata": {
        "id": "f-wJZkxYHhu1"
      },
      "source": [
        "<div class=\"alert alert-block alert-danger\" style=\"color:black;background-color:#F6E6E2\">\n",
        "\n",
        "<b> Question 5:   Using Data science to learn more about Indian society  [15 points total]</b>\n",
        "<br />\n",
        "First we are going to use simple analytics to learn more about Indian society with the help of this dataset.\n",
        "\n",
        "The idea is to use basic modeling based on averages & sample distributions to uncover suspected biases, such as gender, skin tone & manglik status.\n",
        "<br /><br />\n",
        "Answer the below questions using plots & simple statistics\n",
        "<br /><br />\n",
        "**5.1** [2pt] Is there a gender-bias for income of participants?\n",
        "<br /><br />\n",
        "**5.2** [2pt] Is there a correlation between income and skin complexion?\n",
        "<br /><br />\n",
        "**5.3** [2pt] Is there a discernable trend in the incomes of participants from different regions/cities?\n",
        "<br /><br />\n",
        "**5.4** [1pt] Is there a clear trend between BMI and the income?\n",
        "<br /><br />\n",
        "**5.5** [2pt] Does the level of education show a clear trend with income?\n",
        "<br /><br />\n",
        "**5.6** [2pt] Do any of the numeric attributes show a clear non-linear dependence with the amount of income?\n",
        "<br /><br />\n",
        "**5.7** [2pt] Is the income lower or high for those living in 'nuclear' families?\n",
        "<br /><br />\n",
        "**5.8** [2pt] Is being 'Manglik' negatively affect the income of participants?"
      ]
    },
    {
      "cell_type": "markdown",
      "metadata": {
        "id": "KVMwg5Z4Hhu1"
      },
      "source": [
        "### Solutions"
      ]
    },
    {
      "cell_type": "markdown",
      "metadata": {
        "id": "NfwbSgTPHhu1"
      },
      "source": [
        "### 5.1"
      ]
    },
    {
      "cell_type": "code",
      "metadata": {
        "id": "4dvIQ1q3Hhu2"
      },
      "source": [
        "# your code here\n"
      ],
      "execution_count": null,
      "outputs": []
    },
    {
      "cell_type": "markdown",
      "metadata": {
        "id": "Rc5H3CJxHhu2"
      },
      "source": [
        "### 5.2"
      ]
    },
    {
      "cell_type": "code",
      "metadata": {
        "scrolled": true,
        "id": "DEL2rSwmHhu2"
      },
      "source": [
        "# you code here \n"
      ],
      "execution_count": null,
      "outputs": []
    },
    {
      "cell_type": "markdown",
      "metadata": {
        "id": "bcLPHY3WHhu3"
      },
      "source": [
        "### 5.3"
      ]
    },
    {
      "cell_type": "code",
      "metadata": {
        "id": "DQhWEgA7Hhu4"
      },
      "source": [
        "# your code here\n"
      ],
      "execution_count": null,
      "outputs": []
    },
    {
      "cell_type": "markdown",
      "metadata": {
        "id": "gCSW_ancHhu5"
      },
      "source": [
        "### 5.4"
      ]
    },
    {
      "cell_type": "code",
      "metadata": {
        "collapsed": true,
        "id": "TkgQLXFXHhu5"
      },
      "source": [
        "# your code here\n"
      ],
      "execution_count": null,
      "outputs": []
    },
    {
      "cell_type": "markdown",
      "metadata": {
        "id": "bjVPmADOHhu6"
      },
      "source": [
        "### 5.5"
      ]
    },
    {
      "cell_type": "code",
      "metadata": {
        "id": "fAb9JfiEHhu6"
      },
      "source": [
        "# your code here\n",
        "\n"
      ],
      "execution_count": null,
      "outputs": []
    },
    {
      "cell_type": "markdown",
      "metadata": {
        "id": "VZ30GRLtHhu6"
      },
      "source": [
        "### 5.6"
      ]
    },
    {
      "cell_type": "code",
      "metadata": {
        "id": "guUL4x9cHhu6"
      },
      "source": [
        "# your code here\n"
      ],
      "execution_count": null,
      "outputs": []
    },
    {
      "cell_type": "markdown",
      "metadata": {
        "id": "9jLclDoJHhu7"
      },
      "source": [
        "### 5.7"
      ]
    },
    {
      "cell_type": "code",
      "metadata": {
        "collapsed": true,
        "id": "3u0u8jKBHhu7"
      },
      "source": [
        "# your code here\n"
      ],
      "execution_count": null,
      "outputs": []
    },
    {
      "cell_type": "markdown",
      "metadata": {
        "id": "I3h0Ti7vHhu7"
      },
      "source": [
        "### 5.8"
      ]
    },
    {
      "cell_type": "code",
      "metadata": {
        "collapsed": true,
        "id": "eDa4YI0EHhu8"
      },
      "source": [
        "# your code here\n"
      ],
      "execution_count": null,
      "outputs": []
    },
    {
      "cell_type": "markdown",
      "metadata": {
        "id": "df6lMoZWHhu8"
      },
      "source": [
        "<div class=\"alert alert-block alert-danger\" style=\"color:black;background-color:#F6E6E2\">\n",
        "<b> Question 6:  Calculate the Gini Index  [10 points total]</b>\n",
        "\n",
        "\n",
        "Gini coefficients are often used to quantify income inequality, read more [here](http://www.statsdirect.com/help/default.htm#nonparametric_methods/gini.htm).\n",
        "\n",
        "The Gini coefficient is defined by the formula:\n",
        "\n",
        "$G = \\dfrac{ \\sum_{i=1}^{n} (2i - n - 1) x_i}{n  \\sum_{i=1}^{n} x_i}$\n",
        "\n",
        "where $x$ is an observed value, $n$ is the number of values observed and $i$ is the rank of values in **ascending** order.\n",
        "\n",
        "A Gini Index of 0 implies perfect income equality, whereas a gini index close to 1 implies a concentration of wealth among the richest few.\n",
        "<br /><br />\n",
        "**6.1** Based on the above formula, calculate the Gini coffient for the income of the participants of this dataset\n",
        "<br /><br />\n",
        "**6.2** Compare your gini index with other countries\n",
        "\n",
        "According to the [world bank estimate](https://www.indexmundi.com/facts/indicators/SI.POV.GINI/rankings) the gini index of South Africa is 0.6 while that of Ukrain is 0.25. \n",
        "\n",
        "Based on your calculated gini index value for this dataset, what is your conclusion on the income disparity in the three countries?"
      ]
    },
    {
      "cell_type": "markdown",
      "metadata": {
        "id": "4DkjsjZAHhu9"
      },
      "source": [
        "### Solutions"
      ]
    },
    {
      "cell_type": "markdown",
      "metadata": {
        "id": "nLok2OMTHhu-"
      },
      "source": [
        "### 6.1"
      ]
    },
    {
      "cell_type": "code",
      "metadata": {
        "scrolled": true,
        "id": "Mdx0ucwSHhu-"
      },
      "source": [
        "# your code here\n"
      ],
      "execution_count": null,
      "outputs": []
    },
    {
      "cell_type": "markdown",
      "metadata": {
        "id": "p192EbDWHhu-"
      },
      "source": [
        "### 6.2"
      ]
    },
    {
      "cell_type": "code",
      "metadata": {
        "collapsed": true,
        "id": "JrzOVc6iHhu_"
      },
      "source": [
        "# your code here\n"
      ],
      "execution_count": null,
      "outputs": []
    },
    {
      "cell_type": "markdown",
      "metadata": {
        "id": "olTBphSfHhu_"
      },
      "source": [
        "<div class=\"alert alert-block alert-danger\" style=\"color:black;background-color:#F6E6E2\">\n",
        "\n",
        "<b> Question 7:  Multi-Linear Regression  [Optional]</b>\n",
        "\n",
        "Now we increase the scope of our analysis to solve another problem that is related to income of the participants."
      ]
    },
    {
      "cell_type": "markdown",
      "metadata": {
        "id": "3ib0kV5gHhu_"
      },
      "source": [
        "![](https://github.com/hargun3045/blog-dump/blob/master/modi.png?raw=true)"
      ]
    },
    {
      "cell_type": "markdown",
      "metadata": {
        "id": "28Kxe0kZHhu_"
      },
      "source": [
        "<div class=\"alert alert-block alert-danger\" style=\"color:black;background-color:#F6E6E2\">\n",
        "\n",
        "Owing to a large number of people underreporting their income to evade taxes, the Income Tax Department of India wants you to build a machine learning model that can predict the income of a given tax-payer based on commonly available information.\n",
        "\n",
        "This will help the department red flag suspected individuals who may show discernable trends of earing more but are excessively under-reporting on their annual income.\n",
        "\n",
        "The goal is to build the best model with the given dataset, using both categorical and continuous predictors that are available."
      ]
    },
    {
      "cell_type": "markdown",
      "metadata": {
        "id": "hDLGbMPsHhvA"
      },
      "source": [
        "<div class=\"alert alert-block alert-danger\" style=\"color:black;background-color:#F6E6E2\">\n",
        "\n",
        "Fit a multiple linear regression model to the training set.\n",
        "Use the `sklearn` library.\n",
        "\n",
        "#### Deliverables\n",
        "Your code should be contained in a Jupyter notebook cell.  An appropriate level of comments is necessary.  Your code should run and output the required outputs described below.\n",
        "\n",
        "#### Required Outputs\n",
        "- Fit a multiple linear regression model on the training set\n",
        "- Predict on train and test sets\n",
        "- Calculate the MSE for the train & test set\n",
        "- Report the $R^2$ score on the test set.\n",
        "- Make a plot of Residuals vs Log of predicted values $\\hat{y}$, with residuals on the $Y$-axis and predicted values on the $X$-axis. Use the formula ${\\epsilon} = y - \\hat{y}$ to compute the residual values. Include a horizontal line denoting the zero residual value on the $Y$-axis.\n",
        "- Plot a histogram of the magnitudes of the residuals."
      ]
    },
    {
      "cell_type": "code",
      "metadata": {
        "id": "ZuIcZH3hHhvA"
      },
      "source": [
        "# Here we use another efficient way of splitting the datset into train and test sets using a \"mask\"\n",
        "\n",
        "#You can just run the code below, and just use df_train and df_test for this part of the homework directly\n",
        "\n",
        "mask = np.ones(len(df))\n",
        "\n",
        "# Using indices only\n",
        "\n",
        "itrain, itest = train_test_split(range(len(df)),train_size=0.8,random_state = 25)\n",
        "\n",
        "#setting all test indices as zero\n",
        "mask[itest] = 0\n",
        "\n",
        "# Converting mask into a boolean expression\n",
        "\n",
        "mask = mask==1"
      ],
      "execution_count": null,
      "outputs": []
    },
    {
      "cell_type": "code",
      "metadata": {
        "id": "pcp9pkuIHhvA"
      },
      "source": [
        "df_train = df[mask] # this will give you a dataframe of only training indicies\n",
        "df_test = df[~mask] # this will give you a dataframe of only test indicies"
      ],
      "execution_count": null,
      "outputs": []
    },
    {
      "cell_type": "code",
      "metadata": {
        "id": "YxzION3ZHhvA"
      },
      "source": [
        "# A quick look of the training dataframe\n",
        "df_train.head()"
      ],
      "execution_count": null,
      "outputs": []
    },
    {
      "cell_type": "code",
      "metadata": {
        "id": "QGkjKIzuHhvB"
      },
      "source": [
        "# your code here\n"
      ],
      "execution_count": null,
      "outputs": []
    },
    {
      "cell_type": "markdown",
      "metadata": {
        "id": "RhG3BrGwHhvB"
      },
      "source": [
        "<div class=\"alert alert-block alert-danger\" style=\"color:black;background-color:#F6E6E2\">\n",
        "<h2 style=\"color:black;background-color:#F6E6E2\"> Part C :  In-class competition: Kaggle Contest [Optional] </h2><br />\n",
        "\n",
        "\n",
        "For this part of the exercise, you will compete with each other in a Kaggle contest. The results will be displayed live on a public leaderboard. The competition ends on the due date and time of this homework.\n",
        "\n",
        "Participating in [Kaggle](#www.kaggle.com) competitions is a great way to practice your data science skills. Submitting a model and seeing how your results compare with those of others helps you assess your model.\n",
        "\n",
        "Please access the following link for all relevant details (data set, submission instructions, evaluation metric, leader board, etc.):\n",
        "https://www.kaggle.com/c/c001hw1/overview\n",
        "\n",
        "### Problem Description\n",
        "\n",
        "As you can see in your previous analysis, although the distribution of the residuals appear normally distributed, the plot of the ```residuals``` with the ```predicted income values``` shows some missing interaction between the predictors.\n",
        "\n",
        "You are encouraged to experiment with ways to improve your model. Some ideas are given below:\n",
        "- Polynomial terms for continous variables\n",
        "- Interaction terms between variables\n",
        "- Feature selection among given predictors\n",
        "\n",
        "You are allowed to make multiple entries. The winning model will be the one with the highest $R^2$ score on the test set.\n",
        "\n",
        "The winning team will win a prize by Pavlos."
      ]
    }
  ]
}