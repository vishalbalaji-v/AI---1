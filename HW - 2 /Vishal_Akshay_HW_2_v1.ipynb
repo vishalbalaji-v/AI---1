{
  "nbformat": 4,
  "nbformat_minor": 0,
  "metadata": {
    "kernelspec": {
      "name": "python3",
      "display_name": "Python 3 (ipykernel)",
      "language": "python"
    },
    "colab": {
      "name": "Vishal / Akshay HW -2 -- v1.ipynb",
      "provenance": [],
      "include_colab_link": true
    }
  },
  "cells": [
    {
      "cell_type": "markdown",
      "metadata": {
        "id": "view-in-github",
        "colab_type": "text"
      },
      "source": [
        "<a href=\"https://colab.research.google.com/github/vishalbalaji-v/AI---1/blob/main/HW%20-%202%20/Vishal_Akshay_HW_2_v1.ipynb\" target=\"_parent\"><img src=\"https://colab.research.google.com/assets/colab-badge.svg\" alt=\"Open In Colab\"/></a>"
      ]
    },
    {
      "cell_type": "markdown",
      "metadata": {
        "id": "EUp51PSOXjrE"
      },
      "source": [
        "![](fig/univ.png)\n",
        "\n",
        "# AI-1: ML/AI Basics\n",
        "## Homework 2: Regression Modeling and Logistic Regression Classification\n",
        "\n",
        "**AI1 Cohort 2**<br/>\n",
        "**Univ.AI**<br/>\n",
        "**Instructor**: Pavlos Protopapas, Ignacio Becker<br/>\n",
        "**Maximum Score**: 100 + 5 (Extra Points)\n",
        "\n",
        "<hr style=\"height:2.4pt\">"
      ]
    },
    {
      "cell_type": "markdown",
      "metadata": {
        "id": "BFlZRHqtXjrF"
      },
      "source": [
        "**Name of the people who have worked on the homework:**\n"
      ]
    },
    {
      "cell_type": "markdown",
      "metadata": {
        "id": "sonq7aEXXjrF"
      },
      "source": [
        "### Table of Contents\n",
        "* [Instructions](#instructions)\n",
        "* [Part A: Predicting percentage change in multiple bacteria populations given their spreading factor](#partA)\n",
        "    * [Q1: Data Visualization](#partAQ1)\n",
        "    * [Q2: Use k-fold cross validation along with Bootstraps to find the best degree](#partAQ2)\n",
        "    * [Q3: Improving model consistency](#partAQ3)\n",
        "* [Part B: Racial bias in machine learning systems](#partB)\n",
        "    * [Q1: Setting up the problem and understanding the data](#partBQ1)\n",
        "    * [Q2: Baseline model fitting](#partBQ2)\n",
        "    * [Q3: 'Race'less model fitting](#partBQ3)\n",
        "    * [Q4: Receiver Operating Characteristic curve](#partBQ4)    \n",
        "* [Part C: Come up with a better model](#partC)"
      ]
    },
    {
      "cell_type": "markdown",
      "metadata": {
        "id": "VKJC1FhTXjrF"
      },
      "source": [
        "<hr style=\"height:2pt\">\n",
        "\n",
        "### Instructions <a class=\"anchor\" id=\"instructions\"></a>\n",
        "\n",
        "\n",
        "- This homework is a jupyter notebook. Download and work on it in your local machine.\n",
        "\n",
        "- This homework should be submitted in pairs.\n",
        "\n",
        "- Ensure you and your partner together have submitted the homework only once. Multiple submissions of the same work will be penalised and will cost you 2 points.\n",
        "\n",
        "- Please restart the kernel and run the entire notebook again before you submit.\n",
        "\n",
        "- Running cells out of order is a common pitfall in Jupyter Notebooks. To make sure your code works restart the kernel and run the whole notebook again before you submit. \n",
        "\n",
        "- To submit the homework, either one of you upload the working notebook on edStem and click the submit button on the bottom right corner.\n",
        "\n",
        "- Submit the homework well before the given deadline. Submissions after the deadline will not be graded.\n",
        "\n",
        "- We have tried to include all the libraries you may need to do the assignment in the imports statement at the top of this notebook. We strongly suggest that you use those and not others as we may not be familiar with them.\n",
        "\n",
        "- Comment your code well. This would help the graders in case there is any issue with the notebook while running. It is important to remember that the graders will not troubleshoot your code. \n",
        "\n",
        "- Please use .head() when viewing data. Do not submit a notebook that is **excessively long**. \n",
        "\n",
        "- In questions that require code to answer, such as \"calculate the $R^2$\", do not just output the value from a cell. Write a `print()` function that includes a reference to the calculated value, **not hardcoded**. For example: \n",
        "```\n",
        "print(f'The R^2 is {R:.4f}')\n",
        "```\n",
        "- Your plots should include clear labels for the $x$ and $y$ axes as well as a descriptive title (\"MSE plot\" is not a descriptive title; \"95 % confidence interval of coefficients of polynomial degree 5\" is).\n",
        "\n",
        "- **Ensure you make appropriate plots for all the questions it is applicable to, regardless of it being explicitly asked for.**\n",
        "\n",
        "<hr style=\"height:2pt\">"
      ]
    },
    {
      "cell_type": "code",
      "metadata": {
        "colab": {
          "base_uri": "https://localhost:8080/"
        },
        "id": "YRlqkgtIXz1t",
        "outputId": "a2ec8dbe-0ef2-46f5-9231-ba3583984351"
      },
      "source": [
        "from google.colab import drive\n",
        "drive.mount('/content/drive')"
      ],
      "execution_count": 1,
      "outputs": [
        {
          "output_type": "stream",
          "name": "stdout",
          "text": [
            "Mounted at /content/drive\n"
          ]
        }
      ]
    },
    {
      "cell_type": "code",
      "metadata": {
        "id": "yLsLE-xJXjrG"
      },
      "source": [
        "#RUN THIS CELL \n",
        "import requests\n",
        "from IPython.core.display import HTML"
      ],
      "execution_count": 2,
      "outputs": []
    },
    {
      "cell_type": "code",
      "metadata": {
        "id": "sz3oZNuWXjrG"
      },
      "source": [
        "# Import libraries\n",
        "%matplotlib inline\n",
        "import math\n",
        "import numpy as np\n",
        "import pandas as pd\n",
        "import seaborn as sns\n",
        "from collections import Counter\n",
        "import matplotlib.pyplot as plt\n",
        "from sklearn.utils import shuffle\n",
        "from sklearn.linear_model import Lasso\n",
        "from sklearn.preprocessing import StandardScaler\n",
        "from sklearn.metrics import mean_squared_error\n",
        "from sklearn.linear_model import LinearRegression\n",
        "from sklearn.model_selection import cross_validate\n",
        "from sklearn.model_selection import train_test_split\n",
        "from sklearn.preprocessing import PolynomialFeatures\n",
        "from sklearn.linear_model import LogisticRegression\n",
        "from sklearn.model_selection import cross_val_score\n",
        "from sklearn.metrics import accuracy_score\n",
        "from sklearn.model_selection import KFold\n",
        "from sklearn.metrics import roc_auc_score\n",
        "from sklearn.metrics import roc_curve\n",
        "sns.set()\n",
        "import random\n",
        "\n",
        "import warnings"
      ],
      "execution_count": 17,
      "outputs": []
    },
    {
      "cell_type": "markdown",
      "metadata": {
        "id": "pDxZ8ka4XjrG"
      },
      "source": [
        "<div class=\"alert alert-block alert-danger\" style=\"color:black;background-color:#E7F4FA\">\n",
        "<h1>Part A: Predicting percentage change in multiple bacteria populations given their spreading factor</h1> <a class=\"anchor\" id=\"partA\"></a>\n",
        "\n",
        "### [40 points]\n",
        "**Overview and Data Description**\n",
        "    \n",
        "In this part of the homework, we will explore polynomial regression for \n",
        "predicting a quantitative variable. Specifically, we will build \n",
        "regression models that can predict the percentage change in \n",
        "bacteria population after 4 hours based on their spreading factor. \n",
        "These prediction models can be useful in clustering of a novel bacteria to any class. \n",
        "\n",
        "If the percentage of change in population increases this indicates \n",
        "that the size of the bacteria population is growing. \n",
        "One important factor to note is that the percentage change could be negative. \n",
        "This indicates that within the specified time frame, \n",
        "the population of the bacteria decreases from the original size.\n",
        "\n",
        "The data set for this problem has already been split for you. You will find the train and test data sets in the files `data/bacteria_train.csv` and `data/bacteria_test.csv`, respectively. The first column in each file contains the spreading factor of bacteria populations and the second column gives information about the change in percentage of the population. \n",
        "\n",
        "\n",
        "\n",
        "**Problem Description**\n",
        "\n",
        "Given the bacteria data, we will try to predict the percentage change \n",
        "in population giving the spreading factor. \n",
        "Based on the data visualisation we can see that there seems to be a \n",
        "non-linear relationship between the 2 variables. For this exercise we \n",
        "will consider the `Spreading_factor` to be our predictor variable \n",
        "and `Perc_population` to be our response variable. \n",
        "We will fit a polynomial regression model for a specified degree on the \n",
        "training set and evaluate it on the test set. \n",
        "The performance of the models should be evaluated using their $MSE$."
      ]
    },
    {
      "cell_type": "code",
      "metadata": {
        "id": "l_1bZl6DYIS-"
      },
      "source": [
        "df_train = pd.read_csv('/content/drive/MyDrive/Colab files/AI - 1/HW - 2/bacteria_train.csv')\n",
        "df_test = pd.read_csv('/content/drive/MyDrive/Colab files/AI - 1/HW - 2/bacteria_test.csv')"
      ],
      "execution_count": 4,
      "outputs": []
    },
    {
      "cell_type": "code",
      "metadata": {
        "colab": {
          "base_uri": "https://localhost:8080/",
          "height": 238
        },
        "id": "Hvw7ZKo-YV49",
        "outputId": "fb355214-dbc7-449e-c58f-4d19575d0316"
      },
      "source": [
        "print(f'Train shape --> {df_train.shape}')\n",
        "print(f'Test shape --> {df_test.shape}')\n",
        "df_train.head()"
      ],
      "execution_count": 6,
      "outputs": [
        {
          "output_type": "stream",
          "name": "stdout",
          "text": [
            "Train shape --> (423, 2)\n",
            "Test shape --> (108, 2)\n"
          ]
        },
        {
          "output_type": "execute_result",
          "data": {
            "text/html": [
              "<div>\n",
              "<style scoped>\n",
              "    .dataframe tbody tr th:only-of-type {\n",
              "        vertical-align: middle;\n",
              "    }\n",
              "\n",
              "    .dataframe tbody tr th {\n",
              "        vertical-align: top;\n",
              "    }\n",
              "\n",
              "    .dataframe thead th {\n",
              "        text-align: right;\n",
              "    }\n",
              "</style>\n",
              "<table border=\"1\" class=\"dataframe\">\n",
              "  <thead>\n",
              "    <tr style=\"text-align: right;\">\n",
              "      <th></th>\n",
              "      <th>Perc_population</th>\n",
              "      <th>Spreading_factor</th>\n",
              "    </tr>\n",
              "  </thead>\n",
              "  <tbody>\n",
              "    <tr>\n",
              "      <th>0</th>\n",
              "      <td>1.535</td>\n",
              "      <td>0.190708</td>\n",
              "    </tr>\n",
              "    <tr>\n",
              "      <th>1</th>\n",
              "      <td>5.555</td>\n",
              "      <td>0.326928</td>\n",
              "    </tr>\n",
              "    <tr>\n",
              "      <th>2</th>\n",
              "      <td>-0.277</td>\n",
              "      <td>-0.459699</td>\n",
              "    </tr>\n",
              "    <tr>\n",
              "      <th>3</th>\n",
              "      <td>1.724</td>\n",
              "      <td>-0.193013</td>\n",
              "    </tr>\n",
              "    <tr>\n",
              "      <th>4</th>\n",
              "      <td>-0.550</td>\n",
              "      <td>-0.835745</td>\n",
              "    </tr>\n",
              "  </tbody>\n",
              "</table>\n",
              "</div>"
            ],
            "text/plain": [
              "   Perc_population  Spreading_factor\n",
              "0            1.535          0.190708\n",
              "1            5.555          0.326928\n",
              "2           -0.277         -0.459699\n",
              "3            1.724         -0.193013\n",
              "4           -0.550         -0.835745"
            ]
          },
          "metadata": {},
          "execution_count": 6
        }
      ]
    },
    {
      "cell_type": "markdown",
      "metadata": {
        "id": "uOvNKGBWXjrG"
      },
      "source": [
        "<div class=\"alert alert-block alert-danger\" style=\"color:black;background-color:#E7F4FA\">\n",
        "\n",
        "<b> Question 1:   Data Visualization [3 points]</b> <a class=\"anchor\" id=\"partAQ1\"></a>\n",
        "    <br /><br />\n",
        "**1.1** [2 pts] Generate a scatter plot of the data points in the `bacteria_train.csv` \n",
        "file with the `Spreading factor` on the $X$-axis and the `Percentage` \n",
        "change on the $Y$-axis. Make sure you clearly label the $x$ and $y$ axes and include proper title. \n",
        "<br /><br />\n",
        "**1.2** [1 pts] Based on the graph, is there any discernable relationship between \n",
        "the spreading factor and percentage change in population?\n",
        "    \n",
        "</div>\n"
      ]
    },
    {
      "cell_type": "markdown",
      "metadata": {
        "id": "tK8AeD6bXjrH"
      },
      "source": [
        "### Solutions"
      ]
    },
    {
      "cell_type": "markdown",
      "metadata": {
        "id": "lg7tsb2VXjrH"
      },
      "source": [
        "<h4>1.1</h4> <b>Generate a scatter plot of the data points in the bacteria_train.csv file with the Spreading factor on the  𝑋 -axis and the Percentage change on the  𝑌 -axis. Make sure you clearly label the  𝑥  and  𝑦  axes and include proper title.<b>"
      ]
    },
    {
      "cell_type": "code",
      "metadata": {
        "colab": {
          "base_uri": "https://localhost:8080/",
          "height": 518
        },
        "id": "bS5t6IMPXjrH",
        "outputId": "2d46d19a-2a15-41e4-eff2-16c7007cadb2"
      },
      "source": [
        "# your code here\n",
        "plt.figure(figsize = (16,8))\n",
        "sns.scatterplot(data = df_train, x = 'Spreading_factor', y = 'Perc_population')\n",
        "plt.title('Spreading Factor vs Percentage Population')\n",
        "plt.show()"
      ],
      "execution_count": 10,
      "outputs": [
        {
          "output_type": "display_data",
          "data": {
            "image/png": "[encoded data removed]",
            "text/plain": [
              "<Figure size 1152x576 with 1 Axes>"
            ]
          },
          "metadata": {}
        }
      ]
    },
    {
      "cell_type": "markdown",
      "metadata": {
        "id": "JLFmLeQhXjrH"
      },
      "source": [
        "<h4>1.2</h4> <b>Based on the graph, is there any discernable relationship between the spreading factor and percentage change in population?<b>"
      ]
    },
    {
      "cell_type": "markdown",
      "metadata": {
        "id": "A78M8TVlXjrI"
      },
      "source": [
        "Ans. Yes, there seems to be a roughly exponential relationship between the 2 variables. But there is a lot of variability and any model we produce is bound to have a lot of error and variability\n"
      ]
    },
    {
      "cell_type": "markdown",
      "metadata": {
        "id": "_mYfIoJUXjrI"
      },
      "source": [
        "<div class=\"alert alert-block alert-danger\" style=\"color:black;background-color:#E7F4FA\">\n",
        "\n",
        "<b> Question 2: Use k-fold cross validation along with bootstraps to find the best degree [11 points]</b><br />\n",
        "<br /> <a class=\"anchor\" id=\"partAQ2\"></a>\n",
        "\n",
        "\n",
        "\n",
        "**2.1** [8 pts] Use *bootstrapping* to test the robustness of your estimation of the degree chosen. As before, we use the `bacteria_train.csv` to train the model and `bacteria_test.csv` to test the model.\n",
        "<br /><br />\n",
        "**Instructions**<br />\n",
        "- Select the max degree for computing the polynomial features and number of bootstraps.<br />\n",
        "- Create bootstraps of the data. For each bootstrap perform the following:<br />\n",
        "    - For each degree in the `range(1,max degree+1)` perform the following:<br />\n",
        "        - Compute the polynomial features for the data.<br />\n",
        "        - Perform k-fold cross validation with k=10<br />\n",
        "        - Compute the polynomial features for the data.<br />\n",
        "        - Compute the $MSE$ of the train and validation data and store in separate lists. <br />\n",
        "    - Select the degree for which the mean of the k-fold $MSE$ is the least.<br />\n",
        "    - Store the best degree in a list<br />\n",
        "- Plot a graph to show the frequency of the degree voted best for each bootstrap from the list from above steps.<br />\n",
        "- The degree voted best the most times can be selected as the best degree.<br />\n",
        "- Retrain on the entire train set and report the $MSE$ on the test set.<br />\n",
        "\n",
        "<br />\n",
        "\n",
        "**Hints**\n",
        "- Limit the maximum degree to 50.\n",
        "- Limit the number of bootstraps to 100.\n",
        "- Use sklearn `cross_validate()` to perform cross validation.\n",
        "\n",
        "<br /><br />\n",
        "**Why this maybe a good idea?**\n",
        "<br />\n",
        "- Avoids the dependence on the particular choice of a validation set<br />\n",
        "- Allows for more analysis without data augmentation<br /><br />\n",
        "\n",
        "**Why this maybe a bad idea?**<br />\n",
        "\n",
        "- Computationally more intensive<br />\n",
        "- The stochasticity in the choice of bootstraps may give unexpected results<br /><br />\n",
        "\n",
        "**2.2** [1 pt] What are your observations? <br />\n",
        "\n",
        "- Why do you see so much variance in the `best_degree` over the bootstraps?<br />\n",
        "- What will you choose as your `best_degree` for the test set? <br /><br />\n",
        "\n",
        "**2.3** [2 pt] Fitting the best model on the test data<br /><br />\n",
        "\n",
        "**Instructions**<br />\n",
        "- For the best degree computed above, compute the polynomial features for the data in the test csv file.<br />\n",
        "- Train on the entire data from the train csv file and predict on the test data.<br />\n",
        "- Print the MSE of the model <br />\n",
        "- Make a scatter plot of `Spread factor` vs. `Precentage change in population` for the specified degree.  The figure should have plot of the test prediction from the regression and the actual values on the same figure. <br />\n",
        "- Print the coefficients of the model<br /><br />\n",
        "\n",
        "**Hint**<br />\n",
        "* Sort the $x$ values before making your plots.\n",
        "    \n",
        "    \n",
        "</div>"
      ]
    },
    {
      "cell_type": "markdown",
      "metadata": {
        "id": "OQSUN5qzXjrI"
      },
      "source": [
        "### Solutions"
      ]
    },
    {
      "cell_type": "markdown",
      "metadata": {
        "id": "5TGN4hRTXjrI"
      },
      "source": [
        "<h4>2.1</h4> <b>Use bootstrapping to test the robustness of your estimation of the degree chosen.<b>"
      ]
    },
    {
      "cell_type": "code",
      "metadata": {
        "id": "YTDs19egXjrI"
      },
      "source": [
        "# your code here\n",
        "len_train = len(df_train)\n",
        "bootstraps = []\n",
        "\n",
        "for i in range(100):\n",
        "  bootstraps.append(sorted(random.choices(np.arange(len_train),k = len_train)))"
      ],
      "execution_count": 33,
      "outputs": []
    },
    {
      "cell_type": "code",
      "metadata": {
        "id": "2UwpVOS2stvF"
      },
      "source": [
        "maxdeg = 50\n",
        "MSE_list = []\n",
        "\n",
        "for i in bootstraps:\n",
        "  df_new = df_train.loc[i]\n",
        "  mse_inner = []\n",
        "  for j in range(1,maxdeg + 1):\n",
        "    x = df_new[['Spreading_factor']]\n",
        "    y = df_new['Perc_population']\n",
        "\n",
        "    x_poly = PolynomialFeatures(j).fit_transform(x)\n",
        "\n",
        "    lreg = LinearRegression()\n",
        "\n",
        "    mse_score = cross_validate(lreg,x_poly,y,scoring = 'neg_mean_squared_error',cv = 10, return_train_score = True)\n",
        "\n",
        "    mse_inner.append(np.mean(np.abs(mse_score['test_score'])))\n",
        "\n",
        "  MSE_list.append(mse_inner)\n"
      ],
      "execution_count": 49,
      "outputs": []
    },
    {
      "cell_type": "code",
      "metadata": {
        "colab": {
          "base_uri": "https://localhost:8080/"
        },
        "id": "PwFX62SSXjrI",
        "outputId": "cdb0bacf-43b5-49a9-e777-96537bd9527a"
      },
      "source": [
        "# your code here\n",
        "MSE_means = np.mean(np.array(MSE_list), axis = 0).reshape(-1,)\n",
        "\n",
        "MSE_min = min(MSE_means)\n",
        "min_degree = np.argmin(MSE_means) + 1\n",
        "\n",
        "print(f'The polynomial degree that gives the minimum MSE is {min_degree} with MSE of {MSE_min:.4f}')"
      ],
      "execution_count": 69,
      "outputs": [
        {
          "output_type": "stream",
          "name": "stdout",
          "text": [
            "The polynomial degree that gives the minimum MSE is 4 with MSE of 2.6539\n"
          ]
        }
      ]
    },
    {
      "cell_type": "code",
      "metadata": {
        "colab": {
          "base_uri": "https://localhost:8080/",
          "height": 518
        },
        "id": "J_yiTLbCXjrI",
        "outputId": "ae9ebd67-0317-40fc-e546-592be8fdcf3a"
      },
      "source": [
        "# your code here\n",
        "degrees = {i:0 for i in range(1,51)}\n",
        "for i in MSE_list:\n",
        "  degrees[np.argmin(i) + 1] += 1\n",
        "\n",
        "degrees = {k:v for k,v in degrees.items() if v != 0}\n",
        "\n",
        "plt.figure(figsize = (12,8))\n",
        "plt.bar(degrees.keys(),degrees.values())\n",
        "plt.title('Frequency of degree giving minimum MSE across 100 bootstraps')\n",
        "plt.xlabel('Degrees')\n",
        "plt.ylabel('Frequency')\n",
        "plt.show()"
      ],
      "execution_count": 78,
      "outputs": [
        {
          "output_type": "display_data",
          "data": {
            "image/png": "[encoded data removed]",
            "text/plain": [
              "<Figure size 864x576 with 1 Axes>"
            ]
          },
          "metadata": {}
        }
      ]
    },
    {
      "cell_type": "markdown",
      "metadata": {
        "id": "xCkNeRzo7hZ2"
      },
      "source": [
        "Retraining model with best degree"
      ]
    },
    {
      "cell_type": "code",
      "metadata": {
        "colab": {
          "base_uri": "https://localhost:8080/"
        },
        "id": "cpHySpmz7lqe",
        "outputId": "a9787e07-cc44-45de-abc3-4b8ff8933f6e"
      },
      "source": [
        "x_train = df_train[['Spreading_factor']]\n",
        "y_train = df_train['Perc_population']\n",
        "\n",
        "x_test = df_test[['Spreading_factor']]\n",
        "y_test = df_test['Perc_population']\n",
        "\n",
        "x_poly_train = PolynomialFeatures(min_degree).fit_transform(x_train)\n",
        "x_poly_test = PolynomialFeatures(min_degree).fit_transform(x_test)\n",
        "\n",
        "lreg = LinearRegression()\n",
        "lreg.fit(x_poly_train,y_train)\n",
        "\n",
        "y_pred_train = lreg.predict(x_poly_train)\n",
        "y_pred_test = lreg.predict(x_poly_test)\n",
        "\n",
        "MSE_test = mean_squared_error(y_pred_test,y_test)\n",
        "\n",
        "print(f'The mean squared error on the test set is {MSE_test:.4f}')"
      ],
      "execution_count": 79,
      "outputs": [
        {
          "output_type": "stream",
          "name": "stdout",
          "text": [
            "The mean squared error on the test set is 2.5999\n"
          ]
        }
      ]
    },
    {
      "cell_type": "markdown",
      "metadata": {
        "id": "9oK_fU3JXjrJ"
      },
      "source": [
        "<h4>2.2</h4> <b>What are your observations?<b>"
      ]
    },
    {
      "cell_type": "markdown",
      "metadata": {
        "id": "5gtLmlnFXjrJ"
      },
      "source": [
        "<b> a) Why do you see so much variance in the best_degree over the bootstraps?<b>"
      ]
    },
    {
      "cell_type": "code",
      "metadata": {
        "colab": {
          "base_uri": "https://localhost:8080/"
        },
        "id": "YVQuXKCIAnto",
        "outputId": "c53a49ce-3a8a-47e0-f24b-09886f84344f"
      },
      "source": [
        "uniques_list = []\n",
        "for i in bootstraps:\n",
        "  uniques_list.append(len(np.unique(np.array(i))))\n",
        "\n",
        "print(f'The average number of rows selected in each bootstrap is {np.mean(uniques_list)}')"
      ],
      "execution_count": 96,
      "outputs": [
        {
          "output_type": "stream",
          "name": "stdout",
          "text": [
            "The average number of rows selected in each bootstrap is 268.23\n"
          ]
        }
      ]
    },
    {
      "cell_type": "markdown",
      "metadata": {
        "id": "YO5MzhVxXjrJ"
      },
      "source": [
        "Ans. Out of the total 423 rows, on average only 268 rows are selected in the bootstrap. This is why there is a lot of variance in the best degree of the bootstrap"
      ]
    },
    {
      "cell_type": "markdown",
      "metadata": {
        "id": "S7ITdRNaXjrJ"
      },
      "source": [
        "<b> b) What will you choose as your best_degree for the test set?<b>"
      ]
    },
    {
      "cell_type": "markdown",
      "metadata": {
        "id": "-TsRcujoXjrJ"
      },
      "source": [
        "Ans. The best degree should be 4. The degree 4 both lowest average MSE and also the least MSE in most number of bootstraps "
      ]
    },
    {
      "cell_type": "markdown",
      "metadata": {
        "id": "f5elUMZ7XjrJ"
      },
      "source": [
        "<h4> 2.3 </h4> <b> Fitting the best model on the test data <b>"
      ]
    },
    {
      "cell_type": "code",
      "metadata": {
        "id": "8WszqYn0XjrJ"
      },
      "source": [
        "# your code here\n",
        "x_1 = x_test['Spreading_factor'].to_numpy()\n",
        "idx = np.argsort(x_1)\n",
        "x_dummy = x_1[idx]\n",
        "y_dummy = y_pred_test[idx]"
      ],
      "execution_count": 128,
      "outputs": []
    },
    {
      "cell_type": "code",
      "metadata": {
        "colab": {
          "base_uri": "https://localhost:8080/",
          "height": 637
        },
        "id": "Htno659EXjrJ",
        "outputId": "a0e51f17-0928-4a28-8623-61d196c6b7c1"
      },
      "source": [
        "# your code here\n",
        "coefs = lreg.coef_\n",
        "for i in range(len(coefs)):\n",
        "  print(f'The coefficient of degree {i} of the polynomial is {coefs[i]:.4f}')\n",
        "\n",
        "print('\\n')\n",
        "\n",
        "plt.figure(figsize = (16,8))\n",
        "sns.scatterplot(data = df_test, x = 'Spreading_factor', y = 'Perc_population')\n",
        "plt.plot(x_dummy,y_dummy,label = 'Polynomial fit', color = 'red', alpha = 0.6)\n",
        "plt.title('Test Data plotted with the fitted line')\n",
        "plt.legend()\n",
        "plt.show()"
      ],
      "execution_count": 134,
      "outputs": [
        {
          "output_type": "stream",
          "name": "stdout",
          "text": [
            "The coefficient of degree 0 of the polynomial is 0.0000\n",
            "The coefficient of degree 1 of the polynomial is 2.1714\n",
            "The coefficient of degree 2 of the polynomial is 1.5898\n",
            "The coefficient of degree 3 of the polynomial is -0.1447\n",
            "The coefficient of degree 4 of the polynomial is -0.3141\n",
            "\n",
            "\n"
          ]
        },
        {
          "output_type": "display_data",
          "data": {
            "image/png": "[encoded data removed]",
            "text/plain": [
              "<Figure size 1152x576 with 1 Axes>"
            ]
          },
          "metadata": {}
        }
      ]
    },
    {
      "cell_type": "markdown",
      "metadata": {
        "id": "2UJ0pUz4XjrK"
      },
      "source": [
        "<div class=\"alert alert-block alert-danger\" style=\"color:black;background-color:#E7F4FA\">\n",
        "\n",
        "<b> Question 3:   Improving model consistency [26 points]</b> <a class=\"anchor\" id=\"partAQ3\"></a>\n",
        "<br /><br />\n",
        "In the previous section, we compared **30** polynomial models to find the best degree. For each model of degree n, we considered all polynomial coefficients *up to* **degree `n`** using `Polynomial_features`. However, our **best model** could have been from any possible combination of the **30** degrees chosen.\n",
        "<br />\n",
        "For eg. a model with degrees `1,2,4,6`\n",
        "<br />\n",
        "The total number of such possible models is $2^{30}\\approx10^9$ and searching through all of them would be laborious and computationally inefficient. Instead, we can use $Lasso$ Regularisation which *switches off* highly unstable degree coefficients and gives us the most efficient solution.\n",
        "<br /><br />\n",
        "\n",
        "**3.1** [10 pts] Find the best hyper-parameter `alpha`.<br />\n",
        "\n",
        "First, we will use `cross_validate` to find the the best regularisation parameter `alpha`. As before, we use the `bacteria_train.csv` for cross validation.\n",
        "<br /><br />\n",
        "**Note**: You are free to experiment with the values of alpha. Our suggestion is to use in powers of 10 from $10^{-3}$ to $10^{3}$\n",
        "<br /><br />\n",
        "**Instructions**<br />\n",
        "- Select the max degree of the polynomial, and make a list of `alpha` values.<br />\n",
        "- For each value of `alpha`:<br />\n",
        "    - Compute the polynomial features for the data.<br />\n",
        "    - Create a `Lasso` regularisation model with the value of `alpha`<br />\n",
        "    - Perform k-fold cross validation with k=10 using `Lasso` as model.<br />\n",
        "    - Compute the $MSE$ of the train and validation data and store in separate lists. <br />\n",
        "- Select the `alpha` for which the mean of the k-fold $MSE$ is the least.<br />\n",
        "- Store the previously selected values as `best alpha` & print it.<br />\n",
        "\n",
        "<br /><br />\n",
        "\n",
        "**Hints**<br />\n",
        "- Limit the maximum degree to 30.<br />\n",
        "- Take at least three different values of alpha.<br />\n",
        "- Use sklearn `cross_validate()` to perform cross validation.<br /><br />\n",
        "\n",
        "**3.2** [10 pts] Find the most significant degrees.<br />\n",
        "\n",
        "From the previous section, you will now have the `best_alpha` hyperparameter. Now, we will use this to find the most significant degrees over a given number of bootstraps. What we mean by the above is this:<br />\n",
        "\n",
        "For each bootstrap of the data, you will get some degrees that are **significant** $\\mid\\beta_i\\mid \\lt 0.1$. You would like to see, which degree coefficients are significant over several such iterations.<br />\n",
        "\n",
        "As before, we use the `bacteria_train.csv` for cross validation.<br /><br />\n",
        "\n",
        "**Note:** You are free to experiment with the number of bootstraps.<br /><br />\n",
        "\n",
        "\n",
        "**Instructions**<br />\n",
        "- Make a dictionary called `significant_degrees` to store count of degrees for each bootstrap.<br />\n",
        "- For each bootstrap:<br />\n",
        "    - Take a sample the dataframe with `frac=1`.<br />\n",
        "    - Train a **Lasso** model with the `best_alpha` computed above.<br />\n",
        "    - Find the most significant polynomial coefficients using $\\mid\\beta_i\\mid \\lt 0.1$.<br />\n",
        "    - For each significant degree, update the count of that degree in `significant_degrees` .<br />\n",
        "- Plot the count of degrees for each bootstrap as a bar plot.<br /><br />\n",
        "\n",
        "\n",
        "**Hints**<br />\n",
        "- Limit the maximum degree to 30.<br />\n",
        "- Take at least three different values of alpha.<br />\n",
        "- Use sklearn `cross_validate()` to perform cross validation.<br /><br />\n",
        "\n",
        "**3.3** [2 pts] Compute the MSE on the test set<br />\n",
        "\n",
        "Now, from the previous plot, you can see that only degrees upto 6 are consistently significant over several bootstraps. You will now retrain the *L1* regularised model on the entire data and find the test $MSE$<br /><br />\n",
        "\n",
        "**Instructions**<br />\n",
        "\n",
        "- Retrain the *regularised* model with *most frequent degree (most significant highest degree)* on the entire test set and report the $MSE$ on the test set.<br />\n",
        "- Find the degrees of the polynomial that have cofficients with absolute value greater than 0.1<br />\n",
        "- Compare the test $MSE$ computed in section 3, to the previous section and report your observations.<br />\n",
        "- Plot a graph indicating your true and predicted data.<br />\n",
        "\n",
        "**3.4** [4 pts] What are your Observations?<br />\n",
        "\n",
        "- Is the `best_degree` computed above more consistent over the bootstraps? Why?<br />\n",
        "- Which degree coefficients in your best fit model from above are significant? Why only some?<br />\n",
        "- Is your test $MSE$ with regularisation comparable to the findings from previous section. If more, or less, by how much?<br />\n",
        "- Is your current model more reliable? On what basis do you claim its robustness?<br />\n",
        "    \n",
        "    \n",
        "</div>"
      ]
    },
    {
      "cell_type": "markdown",
      "metadata": {
        "id": "y9O8pEz-XjrK"
      },
      "source": [
        "### Solutions"
      ]
    },
    {
      "cell_type": "markdown",
      "metadata": {
        "id": "ARxY8GLgXjrK"
      },
      "source": [
        "<h4>3.1</h4>\n",
        "<b>Find the best hyper-parameter alpha.<b>"
      ]
    },
    {
      "cell_type": "code",
      "metadata": {
        "id": "HKJCkaj2XjrK"
      },
      "source": [
        "# your code here\n"
      ],
      "execution_count": null,
      "outputs": []
    },
    {
      "cell_type": "code",
      "metadata": {
        "id": "g7VKaiijXjrK"
      },
      "source": [
        "# your code here\n"
      ],
      "execution_count": null,
      "outputs": []
    },
    {
      "cell_type": "markdown",
      "metadata": {
        "id": "shqTJuEuXjrL"
      },
      "source": [
        "<h4> 3.2 </h4> <b> Find the most significant degrees. <b>"
      ]
    },
    {
      "cell_type": "code",
      "metadata": {
        "id": "DxvjaXT5XjrL"
      },
      "source": [
        "# your code here\n"
      ],
      "execution_count": null,
      "outputs": []
    },
    {
      "cell_type": "code",
      "metadata": {
        "id": "Obzj6ozaXjrL"
      },
      "source": [
        "# your code here\n"
      ],
      "execution_count": null,
      "outputs": []
    },
    {
      "cell_type": "markdown",
      "metadata": {
        "id": "RI-pD1zMXjrL"
      },
      "source": [
        "<h4> 3.3  </h4> <b> Compute the MSE on the test set <b>"
      ]
    },
    {
      "cell_type": "code",
      "metadata": {
        "id": "wYa5zaFbXjrL"
      },
      "source": [
        "# your code here\n"
      ],
      "execution_count": null,
      "outputs": []
    },
    {
      "cell_type": "code",
      "metadata": {
        "id": "voryTeLyXjrL"
      },
      "source": [
        "# your code here\n"
      ],
      "execution_count": null,
      "outputs": []
    },
    {
      "cell_type": "markdown",
      "metadata": {
        "id": "xiDDZfUNXjrL"
      },
      "source": [
        "<h4> 3.4 </h4> <b> What are your observations? <b>"
      ]
    },
    {
      "cell_type": "markdown",
      "metadata": {
        "id": "O0Bknnp4XjrL"
      },
      "source": [
        "<b> a) Is the best_degree computed above more consistent over the bootstraps? Why? <b>"
      ]
    },
    {
      "cell_type": "markdown",
      "metadata": {
        "id": "9-Xnv0ZQXjrL"
      },
      "source": [
        "Ans."
      ]
    },
    {
      "cell_type": "markdown",
      "metadata": {
        "id": "vSUanEdQXjrL"
      },
      "source": [
        "<b> b) Which degree coefficients in your best fit model from above are significant? Why only some? <b>"
      ]
    },
    {
      "cell_type": "markdown",
      "metadata": {
        "id": "Dc6URkNSXjrL"
      },
      "source": [
        "Ans."
      ]
    },
    {
      "cell_type": "markdown",
      "metadata": {
        "id": "93xoBVbRXjrM"
      },
      "source": [
        "<b> c) Is your test  𝑀𝑆𝐸  with regularisation comparable to the findings from previous section. If more, or less, by how much? <b>"
      ]
    },
    {
      "cell_type": "markdown",
      "metadata": {
        "id": "FI8ZFfhuXjrM"
      },
      "source": [
        "Ans."
      ]
    },
    {
      "cell_type": "markdown",
      "metadata": {
        "id": "VzydPsFkXjrM"
      },
      "source": [
        "<b> d) Is your current model more reliable? On what basis do you claim its robustness? <b>"
      ]
    },
    {
      "cell_type": "markdown",
      "metadata": {
        "id": "nsbth2kSXjrM"
      },
      "source": [
        "Ans. "
      ]
    },
    {
      "cell_type": "markdown",
      "metadata": {
        "id": "y4z2mY5yXjrM"
      },
      "source": [
        "<div class=\"alert alert-block alert-danger\" style=\"color:black;background-color:#EFF8D0\">\n",
        "<h2 style=\"color:black;background-color:#EFF8D0\"> Part B: Racial bias in machine learning systems</h2> <a class=\"anchor\" id=\"partB\"></a>\n",
        "\n",
        "### [60 points] \n",
        "    \n",
        "![](https://static.propublica.org/projects/algorithmic-bias/assets/img/generated/opener-b-crop-2400*1350-00796e.jpg)\n",
        "\n",
        "<br />\n",
        "<b> Dataset Description </b><br />\n",
        "    \n",
        "The main dataset is the `compas.csv` <br />\n",
        "ProPublica's analysis is publically available [here](https://github.com/propublica/compas-analysis).\n",
        "\n",
        "The dataset was made publically available by **Northpointe**, an American tech-company that works with law establishment across several states in the US to predict future crimes based on past records of criminals.\n",
        "\n",
        "It has been suspected that the software used by Northpointe, `COMPAS`, is biased against the african american criminals, who end up with `high-risk` tags, despite minor criminal record, whereas `Caucasians` regularly received low-scores despite more significant criminal charges.\n",
        "    \n",
        "After pressure from several news agencies and a public investigation by ProPublica, the company released this dataset with a slice of the factors usually considered in order to assign a score to criminals.\n",
        "<br /><br />\n",
        "The dataset also contains a column `two_year_recid` with a binary response, i.e `1` if the released criminal ended up committing another crime within two years and `0` if the criminal did not commit a crime within a period of two years.\n",
        "    \n",
        "To learn more about this dataset, and the public investigation, you are highly recommended to read ProPublica's article on [Machine Bias](https://www.propublica.org/article/machine-bias-risk-assessments-in-criminal-sentencing)"
      ]
    },
    {
      "cell_type": "markdown",
      "metadata": {
        "id": "KpFdbb78XjrM"
      },
      "source": [
        "<div class=\"alert alert-block alert-danger\" style=\"color:black;background-color:#EFF8D0\">\n",
        "    \n",
        "**Question 1: Setting up the problem and understanding the data [15 points]** <a class=\"anchor\" id=\"partBQ1\"></a>\n",
        "\n",
        "**1.1** [1pt] Split the data into 80% training and 20% validation sets stratified by race.\n",
        "\n",
        "By Stratified we mean that the two sets should have roughly similar distribution of races as the original data. For more information on how to stratify using sklearn, check sklearn documentation [here](https://scikit-learn.org/stable/modules/generated/sklearn.model_selection.train_test_split.html).<br />\n",
        "\n",
        "**Note:** Before splitting you may want to process the categorical predictors first so you don't have to do it separately in train and validation later. \n",
        "<br /><br />\n",
        "**1.2** [4pts] Can you guess why processing the categorical predictors is important? What is the risk of processing categorical predictors after splitting into train and validation sets?\n",
        "<br /><br />\n",
        "\n",
        "**1.3** [8pts] Make overlapping distributions (histograms) of the following predictors for two groups, African American & Caucasian.\n",
        "- Age\n",
        "- Priors count\n",
        "- Sex\n",
        "- Length of stay\n",
        "<br /><br />\n",
        "\n",
        "**1.4** [2pts] Among the following variables, which ones show disparity between the two groups? Explain your results in 2-3 sentences.\n",
        "<br /><br />"
      ]
    },
    {
      "cell_type": "markdown",
      "metadata": {
        "id": "EWXFzDLkXjrM"
      },
      "source": [
        "<h4>1.1</h4>\n",
        "<b>\n",
        "Split the data into 80% training and 20% validation sets stratified by race.\n",
        "\n",
        "By Stratified we mean that the two sets should have roughly similar distribution of races as the original data. For more information on how to stratify using sklearn, check sklearn documentation here.\n",
        "<br />\n",
        "</b>    \n",
        "**Note:** Before splitting you may want to process the categorical predictors first so you don't have to do it separately in train and validation later."
      ]
    },
    {
      "cell_type": "code",
      "metadata": {
        "id": "aYo3nbUsXjrM"
      },
      "source": [
        "# your code here\n"
      ],
      "execution_count": null,
      "outputs": []
    },
    {
      "cell_type": "code",
      "metadata": {
        "id": "li4vwarvXjrM"
      },
      "source": [
        "# your code here\n"
      ],
      "execution_count": null,
      "outputs": []
    },
    {
      "cell_type": "markdown",
      "metadata": {
        "id": "DcA1u8gVXjrN"
      },
      "source": [
        "<h4>1.2</h4>\n",
        "<b>Can you guess why processing the categorical predictors is important? What is the risk of processing categorical predictors after splitting into train and validation sets?"
      ]
    },
    {
      "cell_type": "markdown",
      "metadata": {
        "id": "ZudlZV5bXjrN"
      },
      "source": [
        "Ans."
      ]
    },
    {
      "cell_type": "markdown",
      "metadata": {
        "id": "L2CM8e1nXjrN"
      },
      "source": [
        "<h4>1.3 </h4>\n",
        "<b>\n",
        "Make overlapping distributions (histograms) of the following predictors for two groups, African American & Caucasian.\n",
        "- Age\n",
        "- Priors count\n",
        "- Sex\n",
        "- Length of stay\n"
      ]
    },
    {
      "cell_type": "code",
      "metadata": {
        "id": "6axSkT84XjrN"
      },
      "source": [
        "# your code here\n"
      ],
      "execution_count": null,
      "outputs": []
    },
    {
      "cell_type": "markdown",
      "metadata": {
        "id": "qNULTLWRXjrN"
      },
      "source": [
        "<h4>1.4</h4>\n",
        "<b> \n",
        "Among the following variables, which ones show disparity between the two groups? Explain your results in 2-3 sentences."
      ]
    },
    {
      "cell_type": "markdown",
      "metadata": {
        "id": "Wq55n5xCXjrN"
      },
      "source": [
        "Ans. "
      ]
    },
    {
      "cell_type": "markdown",
      "metadata": {
        "id": "4lKyxThSXjrN"
      },
      "source": [
        "<div class=\"alert alert-block alert-danger\" style=\"color:black;background-color:#EFF8D0\">\n",
        "   \n",
        "**Question 2: Baseline model fitting [19 points]** <a class=\"anchor\" id=\"partBQ2\"></a>\n",
        "\n",
        "**2.1** [15pts] Build a logistic regression model to predict recidivism (`two_year_recid`) on these data and be sure to include race as a predictor.<br />\n",
        "**Note**: In your list of predictors, `race` is one of the predictors.\n",
        "\n",
        "Report the following on the **validation set**:\n",
        "1. Overall model accuracy as a percentage\n",
        "2. *False Positive Rate(FPR)* as a percentage for:\n",
        "    - `African Americans`\n",
        "    - `Cacausians`\n",
        "3. *False Negative Rate(FNR)* as a percentage for:\n",
        "    - `African Americans`\n",
        "    - `Caucasians`\n",
        "4. Ratio of the FPR between `African_Americans` and `Caucasians`\n",
        "5. Ratio of the FNR between `African_Americans` and `Caucasians`\n",
        "\n",
        "i.e $\\frac{FPR(AA)}{FPR(CC)}$ and $\\frac{FNR(AA)}{FNR(CC)}$\n",
        "\n",
        "<br  /><br />\n",
        "**2.2** [4pts] What do you observe? Is there any disparity in the $FPR$ and $FNR$ for the two groups?\n",
        "Explain your findings in 3-6 sentences.\n"
      ]
    },
    {
      "cell_type": "markdown",
      "metadata": {
        "id": "Xj0CdlfeXjrN"
      },
      "source": [
        "<h4>2.1</h4>\n",
        "<b> \n",
        "Build a logistic regression model to predict recidivism (two_year_recid) on these data and be sure to include race as a predictor."
      ]
    },
    {
      "cell_type": "code",
      "metadata": {
        "id": "Tw3fmGsdXjrN"
      },
      "source": [
        "# your code here\n"
      ],
      "execution_count": null,
      "outputs": []
    },
    {
      "cell_type": "code",
      "metadata": {
        "id": "nFUMtINDXjrN"
      },
      "source": [
        "# your code here\n"
      ],
      "execution_count": null,
      "outputs": []
    },
    {
      "cell_type": "code",
      "metadata": {
        "id": "XXhXs0hQXjrN"
      },
      "source": [
        "# your code here\n"
      ],
      "execution_count": null,
      "outputs": []
    },
    {
      "cell_type": "markdown",
      "metadata": {
        "id": "a-49niTmXjrO"
      },
      "source": [
        "<h4>2.2</h4>\n",
        "<b>\n",
        "What do you observe? Is there any disparity in the $FPR$ and $FNR$ for the two groups?\n",
        "Explain your findings in 3-6 sentences."
      ]
    },
    {
      "cell_type": "markdown",
      "metadata": {
        "id": "uBupyifjXjrO"
      },
      "source": [
        "Ans."
      ]
    },
    {
      "cell_type": "markdown",
      "metadata": {
        "id": "4uFypp82XjrO"
      },
      "source": [
        "<div class=\"alert alert-block alert-danger\" style=\"color:black;background-color:#EFF8D0\">\n",
        "    \n",
        "**Question 3: 'Race'less model fitting [16 points]** <a class=\"anchor\" id=\"partBQ3\"></a>\n",
        " \n",
        "**3.1** [10pts] Refit the logistic model in 2.1 but this time **without** `race` as a predictor. \n",
        "Again, Report the following on the **validation set**:\n",
        "1. Overall model accuracy as a percentage\n",
        "2. **False Positive Rate(FPR)** as a percentage for:\n",
        "    - African Americans\n",
        "    - Caucasians\n",
        "2. **False Negative Rate(FNR)** as a percentage for:\n",
        "    - African Americans\n",
        "    - Caucasians\n",
        "3. \n",
        "    - Ratio of the FPR between `African_Americans` and `Caucasians`\n",
        "    - Ratio of the FNR between `African_Americans` and `Caucasians`\n",
        "\n",
        "i.e $\\frac{FPR(AA)}{FPR(CC)}$ and $\\frac{FNR(AA)}{FNR(CC)}$\n",
        "\n",
        "\n",
        "<br /><br />\n",
        "\n",
        "**3.2** [2pts] Now, without the `race` as a predictor, what do you observe? \n",
        "<br /><br />\n",
        "**3.3** [2pts] How do these compare to the model when the race **is** included as a predictor?\n",
        "<br /><br />\n",
        "**3.4** [2pts] Given your exploration and modeling of the data, should a predictive tool be trusted to be unbiased even if it doesn’t explicitly use a variable such as race to predict future crime?  Why or why not?  Why is the bias still occurring or not occurring?  Explain in 3-6 sentences total.\n"
      ]
    },
    {
      "cell_type": "markdown",
      "metadata": {
        "id": "SQpmkgH8XjrO"
      },
      "source": [
        "<h4>3.1</h4>\n",
        "<b>\n",
        "Refit the logistic model in 2.1 but this time without race as a predictor. "
      ]
    },
    {
      "cell_type": "code",
      "metadata": {
        "id": "seUgFejXXjrO"
      },
      "source": [
        "# your code here\n"
      ],
      "execution_count": null,
      "outputs": []
    },
    {
      "cell_type": "code",
      "metadata": {
        "id": "mmX_B9XvXjrO"
      },
      "source": [
        "# your code here\n"
      ],
      "execution_count": null,
      "outputs": []
    },
    {
      "cell_type": "markdown",
      "metadata": {
        "id": "c_UHbI01XjrO"
      },
      "source": [
        "<h4> 3.2 </h4>\n",
        "<b>\n",
        "Now, without the race as a predictor, what do you observe?"
      ]
    },
    {
      "cell_type": "markdown",
      "metadata": {
        "id": "La3dpLysXjrO"
      },
      "source": [
        "Ans."
      ]
    },
    {
      "cell_type": "markdown",
      "metadata": {
        "id": "KYUEpV36XjrP"
      },
      "source": [
        "<h4>3.3</h4>\n",
        "<b>How do these compare to the model when the race is included as a predictor?"
      ]
    },
    {
      "cell_type": "markdown",
      "metadata": {
        "id": "UNJSmyjPXjrP"
      },
      "source": [
        "Ans."
      ]
    },
    {
      "cell_type": "markdown",
      "metadata": {
        "id": "RgsvXzfzXjrP"
      },
      "source": [
        "<h4>3.4</h4>\n",
        "<b>Given your exploration and modeling of the data, should a predictive tool be trusted to be unbiased even if it doesn’t explicitly use a variable such as race to predict future crime?  Why or why not?  Why is the bias still occurring or not occurring?  Explain in 3-6 sentences total.\n"
      ]
    },
    {
      "cell_type": "markdown",
      "metadata": {
        "id": "6cpETTxtXjrP"
      },
      "source": [
        "Ans."
      ]
    },
    {
      "cell_type": "markdown",
      "metadata": {
        "id": "a8d78clhXjrP"
      },
      "source": [
        "<div class=\"alert alert-block alert-danger\" style=\"color:black;background-color:#EFF8D0\">\n",
        "    \n",
        "**Question 4: Receiver Operating Characteristic curve [10 points]** <a class=\"anchor\" id=\"partBQ4\"></a>\n",
        "\n",
        "**4.1** [5pts] Use logistic regression from above and plot the *Receiver Operating Characteristic curve* for two races, `African Americans` & `Caucasians`. \n",
        "<br /><br />\n",
        "**4.2** [5pts] You will notice that changing the thresholds can *reduce* bias between the two classes, but it can also affect model accuracy. We want our model to be **accurate** but also **unbiased**. So what shall we do?\n",
        "\n",
        "- Remove bias?\n",
        "- Lose model accuracy?\n",
        "\n",
        "Write down your strategy to overcome this difficulty. Please keep your answers short (300 word limit)\n"
      ]
    },
    {
      "cell_type": "markdown",
      "metadata": {
        "id": "GAHhJSRkXjrP"
      },
      "source": [
        "<h4>4.1</h4>\n",
        "<b>\n",
        "Use logistic regression from above and plot the Receiver Operating Characteristic curve for two races, African Americans & Caucasians."
      ]
    },
    {
      "cell_type": "code",
      "metadata": {
        "id": "4iDxifJ8XjrP"
      },
      "source": [
        "# your code here\n"
      ],
      "execution_count": null,
      "outputs": []
    },
    {
      "cell_type": "code",
      "metadata": {
        "id": "UF_9Nu3vXjrP"
      },
      "source": [
        "# your code here\n"
      ],
      "execution_count": null,
      "outputs": []
    },
    {
      "cell_type": "code",
      "metadata": {
        "id": "LZIRpncXXjrP"
      },
      "source": [
        "# your code here\n"
      ],
      "execution_count": null,
      "outputs": []
    },
    {
      "cell_type": "code",
      "metadata": {
        "id": "gayKTNzlXjrP"
      },
      "source": [
        "# your code here\n"
      ],
      "execution_count": null,
      "outputs": []
    },
    {
      "cell_type": "code",
      "metadata": {
        "id": "Nrjdr4u5XjrQ"
      },
      "source": [
        "# your code here\n"
      ],
      "execution_count": null,
      "outputs": []
    },
    {
      "cell_type": "code",
      "metadata": {
        "id": "coI8sIZxXjrQ"
      },
      "source": [
        "# your code here\n"
      ],
      "execution_count": null,
      "outputs": []
    },
    {
      "cell_type": "markdown",
      "metadata": {
        "id": "59o_ggrwXjrQ"
      },
      "source": [
        "<h4>4.2</h4>\n",
        "<b>\n",
        "How to ensure the model is accurate and unbiased? Please keep your answers short (300 word limit)"
      ]
    },
    {
      "cell_type": "markdown",
      "metadata": {
        "id": "dUSf_Z5_XjrQ"
      },
      "source": [
        "Ans."
      ]
    },
    {
      "cell_type": "markdown",
      "metadata": {
        "id": "mKgJifZzXjrQ"
      },
      "source": [
        "<div class=\"alert alert-block alert-danger\" style=\"color:black;background-color:#EFF8D0\">\n",
        "<h2 style=\"color:black;background-color:#EFF8D0\"> Part C: Come up with a better model [Optional Extra 5 Points*] </h2>  <a class=\"anchor\" id=\"PartC\"></a>\n",
        "    \n",
        "Improve the models you have previously coded by including:\n",
        " - Polynomial terms\n",
        " - Interaction terms\n",
        " - Regularization parameters\n",
        " - Different upsampling techniques\n",
        " - KNN classification\n",
        "\n",
        "with a goal to maximize the new metric which includes both the bias and the accuracy, we define `Bias_Corrected_Accuracy(BCA)` as:\n",
        "    \n",
        "\n",
        "$$BCA = Acccuracy - {\\left|FPR(AA) - FPR(CC)\\right|}$$\n",
        "    \n",
        " \n",
        "Please report your maximum `BCA` on the forums and add the computation code to your homework for bonus points.\n",
        "\n",
        "**Note:** The ideas given above are not exhaustive. You are free to try other betters to come up with a better model.\n",
        "\n",
        "*This is an optional section for 5 points. If you lose 5 points in Part A and Part B, you can make it up in this section. The maximum score still remains 100."
      ]
    },
    {
      "cell_type": "code",
      "metadata": {
        "id": "WJ035KXtXjrQ"
      },
      "source": [
        "# your code here\n"
      ],
      "execution_count": null,
      "outputs": []
    },
    {
      "cell_type": "code",
      "metadata": {
        "id": "CWabg3-fXjrQ"
      },
      "source": [
        "# your code here\n"
      ],
      "execution_count": null,
      "outputs": []
    }
  ]
}