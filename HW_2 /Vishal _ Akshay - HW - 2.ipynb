{
  "nbformat": 4,
  "nbformat_minor": 0,
  "metadata": {
    "colab": {
      "name": "Vishal_Akshay_HW_2_v2.ipynb",
      "provenance": [],
      "collapsed_sections": []
    },
    "kernelspec": {
      "display_name": "Python 3 (ipykernel)",
      "language": "python",
      "name": "python3"
    },
    "language_info": {
      "codemirror_mode": {
        "name": "ipython",
        "version": 3
      },
      "file_extension": ".py",
      "mimetype": "text/x-python",
      "name": "python",
      "nbconvert_exporter": "python",
      "pygments_lexer": "ipython3",
      "version": "3.8.8"
    }
  },
  "cells": [
    {
      "cell_type": "markdown",
      "metadata": {
        "id": "EUp51PSOXjrE"
      },
      "source": [
        "![](fig/univ.png)\n",
        "\n",
        "# AI-1: ML/AI Basics\n",
        "## Homework 2: Regression Modeling and Logistic Regression Classification\n",
        "\n",
        "**AI1 Cohort 2**<br/>\n",
        "**Univ.AI**<br/>\n",
        "**Instructor**: Pavlos Protopapas, Ignacio Becker<br/>\n",
        "**Maximum Score**: 100 + 5 (Extra Points)\n",
        "\n",
        "<hr style=\"height:2.4pt\">"
      ]
    },
    {
      "cell_type": "markdown",
      "metadata": {
        "id": "BFlZRHqtXjrF"
      },
      "source": [
        "**Name of the people who have worked on the homework:**\n"
      ]
    },
    {
      "cell_type": "markdown",
      "metadata": {
        "id": "sonq7aEXXjrF"
      },
      "source": [
        "### Table of Contents\n",
        "* [Instructions](#instructions)\n",
        "* [Part A: Predicting percentage change in multiple bacteria populations given their spreading factor](#partA)\n",
        "    * [Q1: Data Visualization](#partAQ1)\n",
        "    * [Q2: Use k-fold cross validation along with Bootstraps to find the best degree](#partAQ2)\n",
        "    * [Q3: Improving model consistency](#partAQ3)\n",
        "* [Part B: Racial bias in machine learning systems](#partB)\n",
        "    * [Q1: Setting up the problem and understanding the data](#partBQ1)\n",
        "    * [Q2: Baseline model fitting](#partBQ2)\n",
        "    * [Q3: 'Race'less model fitting](#partBQ3)\n",
        "    * [Q4: Receiver Operating Characteristic curve](#partBQ4)    \n",
        "* [Part C: Come up with a better model](#partC)"
      ]
    },
    {
      "cell_type": "markdown",
      "metadata": {
        "id": "VKJC1FhTXjrF"
      },
      "source": [
        "<hr style=\"height:2pt\">\n",
        "\n",
        "### Instructions <a class=\"anchor\" id=\"instructions\"></a>\n",
        "\n",
        "\n",
        "- This homework is a jupyter notebook. Download and work on it in your local machine.\n",
        "\n",
        "- This homework should be submitted in pairs.\n",
        "\n",
        "- Ensure you and your partner together have submitted the homework only once. Multiple submissions of the same work will be penalised and will cost you 2 points.\n",
        "\n",
        "- Please restart the kernel and run the entire notebook again before you submit.\n",
        "\n",
        "- Running cells out of order is a common pitfall in Jupyter Notebooks. To make sure your code works restart the kernel and run the whole notebook again before you submit. \n",
        "\n",
        "- To submit the homework, either one of you upload the working notebook on edStem and click the submit button on the bottom right corner.\n",
        "\n",
        "- Submit the homework well before the given deadline. Submissions after the deadline will not be graded.\n",
        "\n",
        "- We have tried to include all the libraries you may need to do the assignment in the imports statement at the top of this notebook. We strongly suggest that you use those and not others as we may not be familiar with them.\n",
        "\n",
        "- Comment your code well. This would help the graders in case there is any issue with the notebook while running. It is important to remember that the graders will not troubleshoot your code. \n",
        "\n",
        "- Please use .head() when viewing data. Do not submit a notebook that is **excessively long**. \n",
        "\n",
        "- In questions that require code to answer, such as \"calculate the $R^2$\", do not just output the value from a cell. Write a `print()` function that includes a reference to the calculated value, **not hardcoded**. For example: \n",
        "```\n",
        "print(f'The R^2 is {R:.4f}')\n",
        "```\n",
        "- Your plots should include clear labels for the $x$ and $y$ axes as well as a descriptive title (\"MSE plot\" is not a descriptive title; \"95 % confidence interval of coefficients of polynomial degree 5\" is).\n",
        "\n",
        "- **Ensure you make appropriate plots for all the questions it is applicable to, regardless of it being explicitly asked for.**\n",
        "\n",
        "<hr style=\"height:2pt\">"
      ]
    },
    {
      "cell_type": "code",
      "metadata": {
        "id": "yLsLE-xJXjrG"
      },
      "source": [
        "#RUN THIS CELL \n",
        "import requests\n",
        "from IPython.core.display import HTML"
      ],
      "execution_count": 1,
      "outputs": []
    },
    {
      "cell_type": "code",
      "metadata": {
        "colab": {
          "base_uri": "https://localhost:8080/"
        },
        "id": "3ZChYGxgt5tg",
        "outputId": "0c70e757-4b6e-4562-a703-08147a3f71b6"
      },
      "source": [
        "from google.colab import drive\n",
        "drive.mount('/content/drive')"
      ],
      "execution_count": 2,
      "outputs": [
        {
          "output_type": "stream",
          "name": "stdout",
          "text": [
            "Drive already mounted at /content/drive; to attempt to forcibly remount, call drive.mount(\"/content/drive\", force_remount=True).\n"
          ]
        }
      ]
    },
    {
      "cell_type": "code",
      "metadata": {
        "id": "sz3oZNuWXjrG"
      },
      "source": [
        "# Import libraries\n",
        "%matplotlib inline\n",
        "import math\n",
        "import numpy as np\n",
        "import pandas as pd\n",
        "import seaborn as sns\n",
        "from collections import Counter\n",
        "import matplotlib.pyplot as plt\n",
        "from sklearn.utils import shuffle\n",
        "from sklearn.linear_model import Lasso\n",
        "from sklearn.preprocessing import StandardScaler, OneHotEncoder\n",
        "from sklearn.metrics import mean_squared_error\n",
        "from sklearn.linear_model import LinearRegression\n",
        "from sklearn.model_selection import cross_validate\n",
        "from sklearn.model_selection import train_test_split\n",
        "from sklearn.preprocessing import PolynomialFeatures\n",
        "from sklearn.linear_model import LogisticRegression\n",
        "from sklearn.model_selection import cross_val_score\n",
        "from sklearn.metrics import accuracy_score, mean_squared_error as MSE\n",
        "from sklearn.model_selection import KFold\n",
        "from sklearn.metrics import roc_auc_score\n",
        "from sklearn.metrics import roc_curve\n",
        "from sklearn.metrics import confusion_matrix\n",
        "sns.set()\n",
        "import random\n",
        "\n",
        "import warnings"
      ],
      "execution_count": 3,
      "outputs": []
    },
    {
      "cell_type": "markdown",
      "metadata": {
        "id": "pDxZ8ka4XjrG"
      },
      "source": [
        "<div class=\"alert alert-block alert-danger\" style=\"color:black;background-color:#E7F4FA\">\n",
        "<h1>Part A: Predicting percentage change in multiple bacteria populations given their spreading factor</h1> <a class=\"anchor\" id=\"partA\"></a>\n",
        "\n",
        "### [40 points]\n",
        "**Overview and Data Description**\n",
        "    \n",
        "In this part of the homework, we will explore polynomial regression for \n",
        "predicting a quantitative variable. Specifically, we will build \n",
        "regression models that can predict the percentage change in \n",
        "bacteria population after 4 hours based on their spreading factor. \n",
        "These prediction models can be useful in clustering of a novel bacteria to any class. \n",
        "\n",
        "If the percentage of change in population increases this indicates \n",
        "that the size of the bacteria population is growing. \n",
        "One important factor to note is that the percentage change could be negative. \n",
        "This indicates that within the specified time frame, \n",
        "the population of the bacteria decreases from the original size.\n",
        "\n",
        "The data set for this problem has already been split for you. You will find the train and test data sets in the files `data/bacteria_train.csv` and `data/bacteria_test.csv`, respectively. The first column in each file contains the spreading factor of bacteria populations and the second column gives information about the change in percentage of the population. \n",
        "\n",
        "\n",
        "\n",
        "**Problem Description**\n",
        "\n",
        "Given the bacteria data, we will try to predict the percentage change \n",
        "in population giving the spreading factor. \n",
        "Based on the data visualisation we can see that there seems to be a \n",
        "non-linear relationship between the 2 variables. For this exercise we \n",
        "will consider the `Spreading_factor` to be our predictor variable \n",
        "and `Perc_population` to be our response variable. \n",
        "We will fit a polynomial regression model for a specified degree on the \n",
        "training set and evaluate it on the test set. \n",
        "The performance of the models should be evaluated using their $MSE$."
      ]
    },
    {
      "cell_type": "code",
      "metadata": {
        "colab": {
          "base_uri": "https://localhost:8080/"
        },
        "id": "1de9R4Wxs0nN",
        "outputId": "721d245b-3318-4ef2-a054-863d852ac39f"
      },
      "source": [
        "import os\n",
        "work_dir = os.getcwd()\n",
        "print(work_dir)\n",
        "path = work_dir"
      ],
      "execution_count": 3,
      "outputs": [
        {
          "output_type": "stream",
          "name": "stdout",
          "text": [
            "/content\n"
          ]
        }
      ]
    },
    {
      "cell_type": "code",
      "metadata": {
        "id": "l_1bZl6DYIS-",
        "scrolled": true
      },
      "source": [
        "# df_train = pd.read_csv(path + '/data/bacteria_train.csv')\n",
        "# df_test = pd.read_csv(path + '/data/bacteria_test.csv')\n",
        "df_train = pd.read_csv('/content/drive/MyDrive/Colab files/AI - 1/HW - 2/bacteria_train.csv')\n",
        "df_test = pd.read_csv('/content/drive/MyDrive/Colab files/AI - 1/HW - 2/bacteria_test.csv')\n",
        "\n",
        "# df_train = pd.read_csv('/content/drive/MyDrive/AI_1/hw2/bacteria_train.csv')\n",
        "# df_test = pd.read_csv('/content/drive/MyDrive/AI_1/hw2/bacteria_test.csv')"
      ],
      "execution_count": 4,
      "outputs": []
    },
    {
      "cell_type": "code",
      "metadata": {
        "colab": {
          "base_uri": "https://localhost:8080/",
          "height": 238
        },
        "id": "Hvw7ZKo-YV49",
        "scrolled": true,
        "outputId": "4f250649-4d5b-4238-8c73-976215c9feb7"
      },
      "source": [
        "print(f'Train shape --> {df_train.shape}')\n",
        "print(f'Test shape --> {df_test.shape}')\n",
        "df_train.head()"
      ],
      "execution_count": 5,
      "outputs": [
        {
          "output_type": "stream",
          "name": "stdout",
          "text": [
            "Train shape --> (423, 2)\n",
            "Test shape --> (108, 2)\n"
          ]
        },
        {
          "output_type": "execute_result",
          "data": {
            "text/html": [
              "<div>\n",
              "<style scoped>\n",
              "    .dataframe tbody tr th:only-of-type {\n",
              "        vertical-align: middle;\n",
              "    }\n",
              "\n",
              "    .dataframe tbody tr th {\n",
              "        vertical-align: top;\n",
              "    }\n",
              "\n",
              "    .dataframe thead th {\n",
              "        text-align: right;\n",
              "    }\n",
              "</style>\n",
              "<table border=\"1\" class=\"dataframe\">\n",
              "  <thead>\n",
              "    <tr style=\"text-align: right;\">\n",
              "      <th></th>\n",
              "      <th>Perc_population</th>\n",
              "      <th>Spreading_factor</th>\n",
              "    </tr>\n",
              "  </thead>\n",
              "  <tbody>\n",
              "    <tr>\n",
              "      <th>0</th>\n",
              "      <td>1.535</td>\n",
              "      <td>0.190708</td>\n",
              "    </tr>\n",
              "    <tr>\n",
              "      <th>1</th>\n",
              "      <td>5.555</td>\n",
              "      <td>0.326928</td>\n",
              "    </tr>\n",
              "    <tr>\n",
              "      <th>2</th>\n",
              "      <td>-0.277</td>\n",
              "      <td>-0.459699</td>\n",
              "    </tr>\n",
              "    <tr>\n",
              "      <th>3</th>\n",
              "      <td>1.724</td>\n",
              "      <td>-0.193013</td>\n",
              "    </tr>\n",
              "    <tr>\n",
              "      <th>4</th>\n",
              "      <td>-0.550</td>\n",
              "      <td>-0.835745</td>\n",
              "    </tr>\n",
              "  </tbody>\n",
              "</table>\n",
              "</div>"
            ],
            "text/plain": [
              "   Perc_population  Spreading_factor\n",
              "0            1.535          0.190708\n",
              "1            5.555          0.326928\n",
              "2           -0.277         -0.459699\n",
              "3            1.724         -0.193013\n",
              "4           -0.550         -0.835745"
            ]
          },
          "metadata": {},
          "execution_count": 5
        }
      ]
    },
    {
      "cell_type": "markdown",
      "metadata": {
        "id": "uOvNKGBWXjrG"
      },
      "source": [
        "<div class=\"alert alert-block alert-danger\" style=\"color:black;background-color:#E7F4FA\">\n",
        "\n",
        "<b> Question 1:   Data Visualization [3 points]</b> <a class=\"anchor\" id=\"partAQ1\"></a>\n",
        "    <br /><br />\n",
        "**1.1** [2 pts] Generate a scatter plot of the data points in the `bacteria_train.csv` \n",
        "file with the `Spreading factor` on the $X$-axis and the `Percentage` \n",
        "change on the $Y$-axis. Make sure you clearly label the $x$ and $y$ axes and include proper title. \n",
        "<br /><br />\n",
        "**1.2** [1 pts] Based on the graph, is there any discernable relationship between \n",
        "the spreading factor and percentage change in population?\n",
        "    \n",
        "</div>\n"
      ]
    },
    {
      "cell_type": "markdown",
      "metadata": {
        "id": "tK8AeD6bXjrH"
      },
      "source": [
        "### Solutions"
      ]
    },
    {
      "cell_type": "markdown",
      "metadata": {
        "id": "lg7tsb2VXjrH"
      },
      "source": [
        "# <h4>1.1</h4> <b>Generate a scatter plot of the data points in the bacteria_train.csv file with the Spreading factor on the  𝑋 -axis and the Percentage change on the  𝑌 -axis. Make sure you clearly label the  𝑥  and  𝑦  axes and include proper title.<b>"
      ]
    },
    {
      "cell_type": "code",
      "metadata": {
        "colab": {
          "base_uri": "https://localhost:8080/",
          "height": 518
        },
        "id": "bS5t6IMPXjrH",
        "outputId": "dfab24e9-2a58-4bdc-8897-d133a78a7580"
      },
      "source": [
        "# your code here\n",
        "plt.figure(figsize = (16,8))\n",
        "sns.scatterplot(data = df_train, x = 'Spreading_factor', y = 'Perc_population')\n",
        "plt.title('Spreading Factor vs Percentage Population')\n",
        "plt.show()"
      ],
      "execution_count": 6,
      "outputs": [
        {
          "output_type": "display_data",
          "data": {
            "image/png": "[encoded data removed]",
            "text/plain": [
              "<Figure size 1152x576 with 1 Axes>"
            ]
          },
          "metadata": {}
        }
      ]
    },
    {
      "cell_type": "markdown",
      "metadata": {
        "id": "JLFmLeQhXjrH"
      },
      "source": [
        "<h4>1.2</h4> <b>Based on the graph, is there any discernable relationship between the spreading factor and percentage change in population?<b>"
      ]
    },
    {
      "cell_type": "markdown",
      "metadata": {
        "id": "A78M8TVlXjrI"
      },
      "source": [
        "Ans. Yes, there seems to be a roughly exponential relationship between the 2 variables. But there is a lot of variability and any model we produce is bound to have a lot of error and variability\n"
      ]
    },
    {
      "cell_type": "markdown",
      "metadata": {
        "id": "_mYfIoJUXjrI"
      },
      "source": [
        "<div class=\"alert alert-block alert-danger\" style=\"color:black;background-color:#E7F4FA\">\n",
        "\n",
        "<b> Question 2: Use k-fold cross validation along with bootstraps to find the best degree [11 points]</b><br />\n",
        "<br /> <a class=\"anchor\" id=\"partAQ2\"></a>\n",
        "\n",
        "\n",
        "\n",
        "**2.1** [8 pts] Use *bootstrapping* to test the robustness of your estimation of the degree chosen. As before, we use the `bacteria_train.csv` to train the model and `bacteria_test.csv` to test the model.\n",
        "<br /><br />\n",
        "**Instructions**<br />\n",
        "- Select the max degree for computing the polynomial features and number of bootstraps.<br />\n",
        "- Create bootstraps of the data. For each bootstrap perform the following:<br />\n",
        "    - For each degree in the `range(1,max degree+1)` perform the following:<br />\n",
        "        - Compute the polynomial features for the data.<br />\n",
        "        - Perform k-fold cross validation with k=10<br />\n",
        "        - Compute the polynomial features for the data.<br />\n",
        "        - Compute the $MSE$ of the train and validation data and store in separate lists. <br />\n",
        "    - Select the degree for which the mean of the k-fold $MSE$ is the least.<br />\n",
        "    - Store the best degree in a list<br />\n",
        "- Plot a graph to show the frequency of the degree voted best for each bootstrap from the list from above steps.<br />\n",
        "- The degree voted best the most times can be selected as the best degree.<br />\n",
        "- Retrain on the entire train set and report the $MSE$ on the test set.<br />\n",
        "\n",
        "<br />\n",
        "\n",
        "**Hints**\n",
        "- Limit the maximum degree to 50.\n",
        "- Limit the number of bootstraps to 100.\n",
        "- Use sklearn `cross_validate()` to perform cross validation.\n",
        "\n",
        "<br /><br />\n",
        "**Why this maybe a good idea?**\n",
        "<br />\n",
        "- Avoids the dependence on the particular choice of a validation set<br />\n",
        "- Allows for more analysis without data augmentation<br /><br />\n",
        "\n",
        "**Why this maybe a bad idea?**<br />\n",
        "\n",
        "- Computationally more intensive<br />\n",
        "- The stochasticity in the choice of bootstraps may give unexpected results<br /><br />\n",
        "\n",
        "**2.2** [1 pt] What are your observations? <br />\n",
        "\n",
        "- Why do you see so much variance in the `best_degree` over the bootstraps?<br />\n",
        "- What will you choose as your `best_degree` for the test set? <br /><br />\n",
        "\n",
        "**2.3** [2 pt] Fitting the best model on the test data<br /><br />\n",
        "\n",
        "**Instructions**<br />\n",
        "- For the best degree computed above, compute the polynomial features for the data in the test csv file.<br />\n",
        "- Train on the entire data from the train csv file and predict on the test data.<br />\n",
        "- Print the MSE of the model <br />\n",
        "- Make a scatter plot of `Spread factor` vs. `Precentage change in population` for the specified degree.  The figure should have plot of the test prediction from the regression and the actual values on the same figure. <br />\n",
        "- Print the coefficients of the model<br /><br />\n",
        "\n",
        "**Hint**<br />\n",
        "* Sort the $x$ values before making your plots.\n",
        "    \n",
        "    \n",
        "</div>"
      ]
    },
    {
      "cell_type": "markdown",
      "metadata": {
        "id": "OQSUN5qzXjrI"
      },
      "source": [
        "### Solutions"
      ]
    },
    {
      "cell_type": "markdown",
      "metadata": {
        "id": "5TGN4hRTXjrI"
      },
      "source": [
        "<h4>2.1</h4> <b>Use bootstrapping to test the robustness of your estimation of the degree chosen.<b>"
      ]
    },
    {
      "cell_type": "code",
      "metadata": {
        "id": "YTDs19egXjrI"
      },
      "source": [
        "# your code here\n",
        "len_train = len(df_train)\n",
        "bootstraps = []\n",
        "\n",
        "for i in range(100):\n",
        "  bootstraps.append(sorted(random.choices(np.arange(len_train),k = len_train)))"
      ],
      "execution_count": 7,
      "outputs": []
    },
    {
      "cell_type": "code",
      "metadata": {
        "id": "2UwpVOS2stvF"
      },
      "source": [
        "maxdeg = 50\n",
        "MSE_list = []\n",
        "\n",
        "for i in bootstraps:\n",
        "  df_new = df_train.loc[i]\n",
        "  mse_inner = []\n",
        "  for j in range(1,maxdeg + 1):\n",
        "    x = df_new[['Spreading_factor']]\n",
        "    y = df_new['Perc_population']\n",
        "\n",
        "    x_poly = PolynomialFeatures(j).fit_transform(x)\n",
        "\n",
        "    lreg = LinearRegression()\n",
        "\n",
        "    mse_score = cross_validate(lreg,x_poly,y,scoring = 'neg_mean_squared_error',cv = 10, return_train_score = True)\n",
        "\n",
        "    mse_inner.append(np.mean(np.abs(mse_score['test_score'])))\n",
        "\n",
        "  MSE_list.append(mse_inner)\n"
      ],
      "execution_count": 8,
      "outputs": []
    },
    {
      "cell_type": "code",
      "metadata": {
        "colab": {
          "base_uri": "https://localhost:8080/"
        },
        "id": "PwFX62SSXjrI",
        "outputId": "ec2217a7-3640-443c-e1fa-583a2804faef"
      },
      "source": [
        "# your code here\n",
        "MSE_means = np.mean(np.array(MSE_list), axis = 0).reshape(-1,)\n",
        "\n",
        "MSE_min = min(MSE_means)\n",
        "min_degree = np.argmin(MSE_means) + 1\n",
        "\n",
        "print(f'The polynomial degree that gives the minimum MSE is {min_degree} with MSE of {MSE_min:.4f}')"
      ],
      "execution_count": 9,
      "outputs": [
        {
          "output_type": "stream",
          "name": "stdout",
          "text": [
            "The polynomial degree that gives the minimum MSE is 4 with MSE of 2.6194\n"
          ]
        }
      ]
    },
    {
      "cell_type": "code",
      "metadata": {
        "colab": {
          "base_uri": "https://localhost:8080/",
          "height": 518
        },
        "id": "J_yiTLbCXjrI",
        "outputId": "1440f111-1b2d-4c77-fb61-f3be4e744c93"
      },
      "source": [
        "# your code here\n",
        "degrees = {i:0 for i in range(1,51)}\n",
        "for i in MSE_list:\n",
        "  degrees[np.argmin(i) + 1] += 1\n",
        "\n",
        "degrees = {k:v for k,v in degrees.items() if v != 0}\n",
        "\n",
        "plt.figure(figsize = (12,8))\n",
        "plt.bar(degrees.keys(),degrees.values())\n",
        "plt.title('Frequency of degree giving minimum MSE across 100 bootstraps')\n",
        "plt.xlabel('Degrees')\n",
        "plt.ylabel('Frequency')\n",
        "plt.show()"
      ],
      "execution_count": 10,
      "outputs": [
        {
          "output_type": "display_data",
          "data": {
            "image/png": "[encoded data removed]",
            "text/plain": [
              "<Figure size 864x576 with 1 Axes>"
            ]
          },
          "metadata": {}
        }
      ]
    },
    {
      "cell_type": "markdown",
      "metadata": {
        "id": "xCkNeRzo7hZ2"
      },
      "source": [
        "Retraining model with best degree"
      ]
    },
    {
      "cell_type": "code",
      "metadata": {
        "colab": {
          "base_uri": "https://localhost:8080/"
        },
        "id": "cpHySpmz7lqe",
        "outputId": "66b5c69a-9f77-49be-85e6-7582d43231b3"
      },
      "source": [
        "x_train = df_train[['Spreading_factor']]\n",
        "y_train = df_train['Perc_population']\n",
        "\n",
        "x_test = df_test[['Spreading_factor']]\n",
        "y_test = df_test['Perc_population']\n",
        "\n",
        "x_poly_train = PolynomialFeatures(min_degree).fit_transform(x_train)\n",
        "x_poly_test = PolynomialFeatures(min_degree).fit_transform(x_test)\n",
        "\n",
        "lreg = LinearRegression()\n",
        "lreg.fit(x_poly_train,y_train)\n",
        "\n",
        "y_pred_train = lreg.predict(x_poly_train)\n",
        "y_pred_test = lreg.predict(x_poly_test)\n",
        "\n",
        "MSE_test = mean_squared_error(y_pred_test,y_test)\n",
        "\n",
        "print(f'The mean squared error on the test set is {MSE_test:.4f}')"
      ],
      "execution_count": 11,
      "outputs": [
        {
          "output_type": "stream",
          "name": "stdout",
          "text": [
            "The mean squared error on the test set is 2.5999\n"
          ]
        }
      ]
    },
    {
      "cell_type": "markdown",
      "metadata": {
        "id": "9oK_fU3JXjrJ"
      },
      "source": [
        "<h4>2.2</h4> <b>What are your observations?<b>"
      ]
    },
    {
      "cell_type": "markdown",
      "metadata": {
        "id": "5gtLmlnFXjrJ"
      },
      "source": [
        "<b> a) Why do you see so much variance in the best_degree over the bootstraps?<b>"
      ]
    },
    {
      "cell_type": "code",
      "metadata": {
        "colab": {
          "base_uri": "https://localhost:8080/"
        },
        "id": "YVQuXKCIAnto",
        "outputId": "85f57140-3643-4425-9b7d-d7122ba47053"
      },
      "source": [
        "uniques_list = []\n",
        "for i in bootstraps:\n",
        "  uniques_list.append(len(np.unique(np.array(i))))\n",
        "\n",
        "print(f'The average number of rows selected in each bootstrap is {np.mean(uniques_list)}')"
      ],
      "execution_count": 12,
      "outputs": [
        {
          "output_type": "stream",
          "name": "stdout",
          "text": [
            "The average number of rows selected in each bootstrap is 268.35\n"
          ]
        }
      ]
    },
    {
      "cell_type": "markdown",
      "metadata": {
        "id": "YO5MzhVxXjrJ"
      },
      "source": [
        "Ans. Out of the total 423 rows, on average only 268 rows are selected in the bootstrap. This is why there is a lot of variance in the best degree of the bootstrap"
      ]
    },
    {
      "cell_type": "markdown",
      "metadata": {
        "id": "S7ITdRNaXjrJ"
      },
      "source": [
        "<b> b) What will you choose as your best_degree for the test set?<b>"
      ]
    },
    {
      "cell_type": "markdown",
      "metadata": {
        "id": "-TsRcujoXjrJ"
      },
      "source": [
        "Ans. The best degree should be 4. The degree 4 both lowest average MSE and also the least MSE in most number of bootstraps "
      ]
    },
    {
      "cell_type": "markdown",
      "metadata": {
        "id": "f5elUMZ7XjrJ"
      },
      "source": [
        "<h4> 2.3 </h4> <b> Fitting the best model on the test data <b>"
      ]
    },
    {
      "cell_type": "code",
      "metadata": {
        "id": "8WszqYn0XjrJ"
      },
      "source": [
        "# your code here\n",
        "x_1 = x_test['Spreading_factor'].to_numpy()\n",
        "idx = np.argsort(x_1)\n",
        "x_dummy = x_1[idx]\n",
        "y_dummy = y_pred_test[idx]"
      ],
      "execution_count": 13,
      "outputs": []
    },
    {
      "cell_type": "code",
      "metadata": {
        "colab": {
          "base_uri": "https://localhost:8080/",
          "height": 637
        },
        "id": "Htno659EXjrJ",
        "outputId": "cc196ecc-9d1f-4d66-b30a-1d4042319fd3"
      },
      "source": [
        "# your code here\n",
        "coefs = lreg.coef_\n",
        "for i in range(len(coefs)):\n",
        "  print(f'The coefficient of degree {i} of the polynomial is {coefs[i]:.4f}')\n",
        "\n",
        "print('\\n')\n",
        "\n",
        "plt.figure(figsize = (16,8))\n",
        "sns.scatterplot(data = df_test, x = 'Spreading_factor', y = 'Perc_population')\n",
        "plt.plot(x_dummy,y_dummy,label = 'Polynomial fit', color = 'red', alpha = 0.6)\n",
        "plt.title('Test Data plotted with the fitted line')\n",
        "plt.legend()\n",
        "plt.show()"
      ],
      "execution_count": 14,
      "outputs": [
        {
          "output_type": "stream",
          "name": "stdout",
          "text": [
            "The coefficient of degree 0 of the polynomial is 0.0000\n",
            "The coefficient of degree 1 of the polynomial is 2.1714\n",
            "The coefficient of degree 2 of the polynomial is 1.5898\n",
            "The coefficient of degree 3 of the polynomial is -0.1447\n",
            "The coefficient of degree 4 of the polynomial is -0.3141\n",
            "\n",
            "\n"
          ]
        },
        {
          "output_type": "display_data",
          "data": {
            "image/png": "[encoded data removed]",
            "text/plain": [
              "<Figure size 1152x576 with 1 Axes>"
            ]
          },
          "metadata": {}
        }
      ]
    },
    {
      "cell_type": "markdown",
      "metadata": {
        "id": "2UJ0pUz4XjrK"
      },
      "source": [
        "<div class=\"alert alert-block alert-danger\" style=\"color:black;background-color:#E7F4FA\">\n",
        "\n",
        "<b> Question 3:   Improving model consistency [26 points]</b> <a class=\"anchor\" id=\"partAQ3\"></a>\n",
        "<br /><br />\n",
        "In the previous section, we compared **30** polynomial models to find the best degree. For each model of degree n, we considered all polynomial coefficients *up to* **degree `n`** using `Polynomial_features`. However, our **best model** could have been from any possible combination of the **30** degrees chosen.\n",
        "<br />\n",
        "For eg. a model with degrees `1,2,4,6`\n",
        "<br />\n",
        "The total number of such possible models is $2^{30}\\approx10^9$ and searching through all of them would be laborious and computationally inefficient. Instead, we can use $Lasso$ Regularisation which *switches off* highly unstable degree coefficients and gives us the most efficient solution.\n",
        "<br /><br />\n",
        "\n",
        "**3.1** [10 pts] Find the best hyper-parameter `alpha`.<br />\n",
        "\n",
        "First, we will use `cross_validate` to find the the best regularisation parameter `alpha`. As before, we use the `bacteria_train.csv` for cross validation.\n",
        "<br /><br />\n",
        "**Note**: You are free to experiment with the values of alpha. Our suggestion is to use in powers of 10 from $10^{-3}$ to $10^{3}$\n",
        "<br /><br />\n",
        "**Instructions**<br />\n",
        "- Select the max degree of the polynomial, and make a list of `alpha` values.<br />\n",
        "- For each value of `alpha`:<br />\n",
        "    - Compute the polynomial features for the data.<br />\n",
        "    - Create a `Lasso` regularisation model with the value of `alpha`<br />\n",
        "    - Perform k-fold cross validation with k=10 using `Lasso` as model.<br />\n",
        "    - Compute the $MSE$ of the train and validation data and store in separate lists. <br />\n",
        "- Select the `alpha` for which the mean of the k-fold $MSE$ is the least.<br />\n",
        "- Store the previously selected values as `best alpha` & print it.<br />\n",
        "\n",
        "<br /><br />\n",
        "\n",
        "**Hints**<br />\n",
        "- Limit the maximum degree to 30.<br />\n",
        "- Take at least three different values of alpha.<br />\n",
        "- Use sklearn `cross_validate()` to perform cross validation.<br /><br />\n",
        "\n",
        "**3.2** [10 pts] Find the most significant degrees.<br />\n",
        "\n",
        "From the previous section, you will now have the `best_alpha` hyperparameter. Now, we will use this to find the most significant degrees over a given number of bootstraps. What we mean by the above is this:<br />\n",
        "\n",
        "For each bootstrap of the data, you will get some degrees that are **significant** $\\mid\\beta_i\\mid \\lt 0.1$. You would like to see, which degree coefficients are significant over several such iterations.<br />\n",
        "\n",
        "As before, we use the `bacteria_train.csv` for cross validation.<br /><br />\n",
        "\n",
        "**Note:** You are free to experiment with the number of bootstraps.<br /><br />\n",
        "\n",
        "\n",
        "**Instructions**<br />\n",
        "- Make a dictionary called `significant_degrees` to store count of degrees for each bootstrap.<br />\n",
        "- For each bootstrap:<br />\n",
        "    - Take a sample the dataframe with `frac=1`.<br />\n",
        "    - Train a **Lasso** model with the `best_alpha` computed above.<br />\n",
        "    - Find the most significant polynomial coefficients using $\\mid\\beta_i\\mid \\lt 0.1$.<br />\n",
        "    - For each significant degree, update the count of that degree in `significant_degrees` .<br />\n",
        "- Plot the count of degrees for each bootstrap as a bar plot.<br /><br />\n",
        "\n",
        "\n",
        "**Hints**<br />\n",
        "- Limit the maximum degree to 30.<br />\n",
        "- Take at least three different values of alpha.<br />\n",
        "- Use sklearn `cross_validate()` to perform cross validation.<br /><br />\n",
        "\n",
        "**3.3** [2 pts] Compute the MSE on the test set<br />\n",
        "\n",
        "Now, from the previous plot, you can see that only degrees upto 6 are consistently significant over several bootstraps. You will now retrain the *L1* regularised model on the entire data and find the test $MSE$<br /><br />\n",
        "\n",
        "**Instructions**<br />\n",
        "\n",
        "- Retrain the *regularised* model with *most frequent degree (most significant highest degree)* on the entire test set and report the $MSE$ on the test set.<br />\n",
        "- Find the degrees of the polynomial that have cofficients with absolute value greater than 0.1<br />\n",
        "- Compare the test $MSE$ computed in section 3, to the previous section and report your observations.<br />\n",
        "- Plot a graph indicating your true and predicted data.<br />\n",
        "\n",
        "**3.4** [4 pts] What are your Observations?<br />\n",
        "\n",
        "- Is the `best_degree` computed above more consistent over the bootstraps? Why?<br />\n",
        "- Which degree coefficients in your best fit model from above are significant? Why only some?<br />\n",
        "- Is your test $MSE$ with regularisation comparable to the findings from previous section. If more, or less, by how much?<br />\n",
        "- Is your current model more reliable? On what basis do you claim its robustness?<br />\n",
        "    \n",
        "    \n",
        "</div>"
      ]
    },
    {
      "cell_type": "markdown",
      "metadata": {
        "id": "y9O8pEz-XjrK"
      },
      "source": [
        "### Solutions"
      ]
    },
    {
      "cell_type": "markdown",
      "metadata": {
        "id": "ARxY8GLgXjrK"
      },
      "source": [
        "<h4>3.1</h4>\n",
        "<b>Find the best hyper-parameter alpha.<b>"
      ]
    },
    {
      "cell_type": "markdown",
      "metadata": {
        "id": "Cvq8PcG7X_ZQ"
      },
      "source": [
        "We have used degrees from 1 to 25 and alpha values from 0.0001 to 100, to find the best alpha."
      ]
    },
    {
      "cell_type": "code",
      "metadata": {
        "id": "eQb8EX7qUTgt"
      },
      "source": [
        "alpha_list = [0.0001,0.001,0.01,0.1,1,10,100] #use this"
      ],
      "execution_count": 15,
      "outputs": []
    },
    {
      "cell_type": "code",
      "metadata": {
        "id": "RGZIhIlKMhcQ"
      },
      "source": [
        "max_degree = 25 # we have found the best degree is 4 from above"
      ],
      "execution_count": 16,
      "outputs": []
    },
    {
      "cell_type": "code",
      "metadata": {
        "id": "_jwSKj0CO0kK"
      },
      "source": [
        "mse_train_list = []\n",
        "mse_val_list   = []\n"
      ],
      "execution_count": 17,
      "outputs": []
    },
    {
      "cell_type": "code",
      "metadata": {
        "id": "Im6lRyAPWFYL"
      },
      "source": [
        "alpha_used = []\n",
        "degree_used = []"
      ],
      "execution_count": 18,
      "outputs": []
    },
    {
      "cell_type": "code",
      "metadata": {
        "id": "d8BqDuHfCQnu"
      },
      "source": [
        "x_train = df_train[['Spreading_factor']]\n",
        "y_train = df_train['Perc_population']"
      ],
      "execution_count": 19,
      "outputs": []
    },
    {
      "cell_type": "code",
      "metadata": {
        "id": "4TOwUI6hBpmW"
      },
      "source": [
        "warnings.filterwarnings(\"ignore\")\n",
        "\n",
        "for degree in range(1,max_degree+1):\n",
        "  for alpha in alpha_list:\n",
        "    x_poly_train = PolynomialFeatures(degree=degree).fit_transform(x_train)\n",
        "    lasso_lr = Lasso(alpha= alpha)   # try with normalize = True, tried no much diff, bcoz only 1 feature\n",
        "    cv_results = cross_validate(lasso_lr,x_poly_train,y_train,scoring = 'neg_mean_squared_error', cv=10,return_train_score = True)\n",
        "    mse_train_list.append(cv_results['train_score'].mean())\n",
        "    mse_val_list.append(cv_results['test_score'].mean())\n",
        "    alpha_used.append(alpha)\n",
        "    degree_used.append(degree)\n",
        "\n",
        "    "
      ],
      "execution_count": 20,
      "outputs": []
    },
    {
      "cell_type": "code",
      "metadata": {
        "id": "haPYeTkWW1RJ"
      },
      "source": [
        "mse_val_list = np.abs(mse_val_list)"
      ],
      "execution_count": 21,
      "outputs": []
    },
    {
      "cell_type": "code",
      "metadata": {
        "colab": {
          "base_uri": "https://localhost:8080/"
        },
        "id": "gaWvefhgW1Og",
        "outputId": "21eb0a23-f4f2-4536-d6ef-a5ecd9b10709"
      },
      "source": [
        "min_mse = min(mse_val_list)\n",
        "min_mse"
      ],
      "execution_count": 22,
      "outputs": [
        {
          "output_type": "execute_result",
          "data": {
            "text/plain": [
              "2.5913703494335687"
            ]
          },
          "metadata": {},
          "execution_count": 22
        }
      ]
    },
    {
      "cell_type": "code",
      "metadata": {
        "colab": {
          "base_uri": "https://localhost:8080/"
        },
        "id": "kvbwJXbcW5ye",
        "outputId": "0b12a105-b70d-4181-f698-59268dad0af5"
      },
      "source": [
        "best_mse_index = list(mse_val_list).index(min_mse)\n",
        "best_mse_index"
      ],
      "execution_count": 23,
      "outputs": [
        {
          "output_type": "execute_result",
          "data": {
            "text/plain": [
              "79"
            ]
          },
          "metadata": {},
          "execution_count": 23
        }
      ]
    },
    {
      "cell_type": "code",
      "metadata": {
        "id": "2HklmCmIXAQj"
      },
      "source": [
        "best_alpha_value = alpha_used[best_mse_index]\n",
        "best_degree =  degree_used[best_mse_index]"
      ],
      "execution_count": 24,
      "outputs": []
    },
    {
      "cell_type": "code",
      "metadata": {
        "colab": {
          "base_uri": "https://localhost:8080/"
        },
        "id": "_svX6PHpZONm",
        "outputId": "93f1d4cc-0f0c-4b17-ba39-36e72cf4201c"
      },
      "source": [
        "print(f'The best alpha value is {best_alpha_value}. The mininum mse we have got is {min_mse:.4f}')"
      ],
      "execution_count": 25,
      "outputs": [
        {
          "output_type": "stream",
          "name": "stdout",
          "text": [
            "The best alpha value is 0.01. The mininum mse we have got is 2.5914\n"
          ]
        }
      ]
    },
    {
      "cell_type": "markdown",
      "metadata": {
        "id": "shqTJuEuXjrL"
      },
      "source": [
        "<h4> 3.2 </h4> <b> Find the most significant degrees. <b>"
      ]
    },
    {
      "cell_type": "code",
      "metadata": {
        "id": "IF8zJ5u5cylD"
      },
      "source": [
        "significant_degrees={}"
      ],
      "execution_count": 26,
      "outputs": []
    },
    {
      "cell_type": "code",
      "metadata": {
        "id": "580WnveGDzID"
      },
      "source": [
        "no_of_bootstraps = 40"
      ],
      "execution_count": 27,
      "outputs": []
    },
    {
      "cell_type": "markdown",
      "metadata": {
        "id": "QPLaK_XYPK_S"
      },
      "source": [
        "**Finding the significant coeff using a range of degrees and multiple bootstraps**"
      ]
    },
    {
      "cell_type": "code",
      "metadata": {
        "id": "Z0dOMT9EOMjR"
      },
      "source": [
        "degrees = 30\n",
        "significant_degrees={}\n",
        "for degree in range(1,degrees+1):\n",
        "\n",
        "  for i in range(no_of_bootstraps):\n",
        "\n",
        "    df_sample = df_train.sample(frac=1, random_state= degree) # random_state = degree\n",
        "\n",
        "    x_train = df_sample[['Spreading_factor']]\n",
        "    y_train = df_sample['Perc_population']\n",
        "    x_poly_train = PolynomialFeatures(degree=degree).fit_transform(x_train) # we have found from Q-2 that 4 is the best degree\n",
        "    lasso_lr = Lasso(alpha=best_alpha_value) # we found the best alpha value from above\n",
        "    cv=10\n",
        "    cv_results = cross_validate(lasso_lr,x_poly_train,y_train, scoring='neg_mean_squared_error',cv=cv,return_estimator=True)\n",
        "\n",
        "    for i in range(cv): # we have 10(cv) models with coefficients\n",
        "    \n",
        "     est_coefs_list = cv_results['estimator'][i].coef_ # finding the coefs for each of the estimator\n",
        "\n",
        "\n",
        "    for name,value_of_coef in enumerate(est_coefs_list) : \n",
        "      \n",
        "        beta = 'beta_' +str(name) # denoting name for each of the coef, ex beta_0\n",
        "\n",
        "        if beta not in significant_degrees.keys():\n",
        "          significant_degrees[beta]= 0\n",
        "\n",
        "        if np.abs(value_of_coef) >0.1 : # condition given, couting the number of times 'the value of coef' is significant\n",
        "          significant_degrees[beta]= significant_degrees[beta]+1\n"
      ],
      "execution_count": 28,
      "outputs": []
    },
    {
      "cell_type": "code",
      "metadata": {
        "colab": {
          "base_uri": "https://localhost:8080/",
          "height": 519
        },
        "id": "ByoZ3lVjPGK2",
        "outputId": "88bd20bb-b30e-40d4-d6c1-519c3ab844f5"
      },
      "source": [
        "plt.figure(figsize=(13,8))\n",
        "plt.bar(significant_degrees.keys(), significant_degrees.values());\n",
        "plt.xticks(rotation=60);"
      ],
      "execution_count": 29,
      "outputs": [
        {
          "output_type": "display_data",
          "data": {
            "image/png": "[encoded data removed]",
            "text/plain": [
              "<Figure size 936x576 with 1 Axes>"
            ]
          },
          "metadata": {}
        }
      ]
    },
    {
      "cell_type": "markdown",
      "metadata": {
        "id": "RI-pD1zMXjrL"
      },
      "source": [
        "<h4> 3.3  </h4> <b> Compute the MSE on the test set <b>\n",
        "\n",
        "Do the train set"
      ]
    },
    {
      "cell_type": "markdown",
      "metadata": {
        "id": "deIx15pIShDe"
      },
      "source": [
        "The most significant highest degree is 6 "
      ]
    },
    {
      "cell_type": "code",
      "metadata": {
        "id": "4aEb2X1Efwv4"
      },
      "source": [
        "x_test = df_test[['Spreading_factor']]\n",
        "y_test = df_test['Perc_population']\n",
        "x_poly_test = PolynomialFeatures(degree=6).fit_transform(x_test)"
      ],
      "execution_count": 30,
      "outputs": []
    },
    {
      "cell_type": "code",
      "metadata": {
        "colab": {
          "base_uri": "https://localhost:8080/"
        },
        "id": "UC8EZO4CfDw3",
        "outputId": "acfbb679-d042-424e-a51a-b0524db4b4a8"
      },
      "source": [
        "x_train = df_train[['Spreading_factor']]\n",
        "y_train = df_train['Perc_population']\n",
        "x_poly_train = PolynomialFeatures(degree=6).fit_transform(x_train) # we have found from Q-2 that 4 is the best degree\n",
        "lasso_lr = Lasso(alpha=best_alpha_value)\n",
        "lasso_lr.fit(x_poly_train,y_train)\n",
        "y_pred = lasso_lr.predict(x_poly_test)\n",
        "mse = MSE(y_test,y_pred)\n",
        "print(f'MSE on the test set by training on the train set with highest degree and best alpha is : {mse :.4f}')"
      ],
      "execution_count": 31,
      "outputs": [
        {
          "output_type": "stream",
          "name": "stdout",
          "text": [
            "MSE on the test set by training on the train set with highest degree and best alpha is : 2.5973\n"
          ]
        }
      ]
    },
    {
      "cell_type": "code",
      "metadata": {
        "colab": {
          "base_uri": "https://localhost:8080/"
        },
        "id": "DcQr-gaeg18H",
        "outputId": "26f980e2-3c46-49a4-b8b9-b7bf9073fee5"
      },
      "source": [
        "lasso_lr.coef_"
      ],
      "execution_count": 32,
      "outputs": [
        {
          "output_type": "execute_result",
          "data": {
            "text/plain": [
              "array([ 0.        ,  2.04634796,  0.85273648,  0.        ,  0.2852452 ,\n",
              "       -0.03509923, -0.12120783])"
            ]
          },
          "metadata": {},
          "execution_count": 32
        }
      ]
    },
    {
      "cell_type": "code",
      "metadata": {
        "colab": {
          "base_uri": "https://localhost:8080/"
        },
        "id": "J3KU1IaUg2Iz",
        "outputId": "0231e991-483d-4fbf-8d93-6c8476b8846a"
      },
      "source": [
        "sig_coefs = []\n",
        "\n",
        "for indx,value in enumerate(lasso_lr.coef_):\n",
        "  beta =''\n",
        "  beta = 'beta'+str(indx)\n",
        "  if np.abs(value) > .1:\n",
        "    sig_coefs.append(beta)\n",
        "\n",
        "print(f'The Degrees of the polynomial that have cofficients with absolute value greater than 0.1 are {sig_coefs} ')"
      ],
      "execution_count": 33,
      "outputs": [
        {
          "output_type": "stream",
          "name": "stdout",
          "text": [
            "The Degrees of the polynomial that have cofficients with absolute value greater than 0.1 are ['beta1', 'beta2', 'beta4', 'beta6'] \n"
          ]
        }
      ]
    },
    {
      "cell_type": "markdown",
      "metadata": {
        "id": "VpxQEQkjiOOq"
      },
      "source": [
        "Compare the test MSE computed in section 3, to the previous section and report your observations.\n",
        "\n",
        "The MSE from both the sections are close to the value 2.59"
      ]
    },
    {
      "cell_type": "code",
      "metadata": {
        "id": "h06nRc_xiokF"
      },
      "source": [
        "# plt.figure(figsize = (16,8))\n",
        "# sns.scatterplot(data = df_test, x = 'Spreading_factor', y = 'Perc_population')\n",
        "# plt.plot(x_dummy,y_dummy,label = 'Polynomial fit', color = 'red', alpha = 0.6)\n",
        "# plt.title('Test Data plotted with the fitted line')\n",
        "# plt.legend()\n",
        "# plt.show()"
      ],
      "execution_count": null,
      "outputs": []
    },
    {
      "cell_type": "code",
      "metadata": {
        "id": "RPO16OE_s0nY"
      },
      "source": [
        "# your code here\n",
        "x_1 = x_test['Spreading_factor'].to_numpy()\n",
        "idx = np.argsort(x_1)\n",
        "x_dummy = x_1[idx]\n",
        "y_dummy = y_pred[idx]"
      ],
      "execution_count": 34,
      "outputs": []
    },
    {
      "cell_type": "code",
      "metadata": {
        "colab": {
          "base_uri": "https://localhost:8080/",
          "height": 502
        },
        "id": "voryTeLyXjrL",
        "outputId": "65e7d5d9-bbae-4ec6-d7a0-7cf2ccf93593"
      },
      "source": [
        "plt.figure(figsize =(16,8))\n",
        "sns.scatterplot(data= df_test, x= 'Spreading_factor',y= 'Perc_population', color='blue',label='Test data')\n",
        "plt.plot(x_dummy,y_dummy, color='red', label = 'Predicted data',alpha=0.6)  \n",
        "plt.xlabel('spread')\n",
        "plt.legend()\n",
        "plt.ylabel('percentage growth');"
      ],
      "execution_count": 35,
      "outputs": [
        {
          "output_type": "display_data",
          "data": {
            "image/png": "[encoded data removed]",
            "text/plain": [
              "<Figure size 1152x576 with 1 Axes>"
            ]
          },
          "metadata": {}
        }
      ]
    },
    {
      "cell_type": "markdown",
      "metadata": {
        "id": "xiDDZfUNXjrL"
      },
      "source": [
        "<h4> 3.4 </h4> <b> What are your observations? <b>"
      ]
    },
    {
      "cell_type": "markdown",
      "metadata": {
        "id": "O0Bknnp4XjrL"
      },
      "source": [
        "<b> a) Is the best_degree computed above more consistent over the bootstraps? Why? <b>"
      ]
    },
    {
      "cell_type": "markdown",
      "metadata": {
        "id": "9-Xnv0ZQXjrL"
      },
      "source": [
        "Ans. The best degree above is more consistent over a lower band of betas. In the earlier non regularized version, we saw that there were a lot of degrees with low number of best degrees, and some very high degrees coming as best degrees.\n",
        "On the other hand, under Lasso the best degrees are more consistent, and also confined to the lower degrees unlike the unregularized counterpart"
      ]
    },
    {
      "cell_type": "markdown",
      "metadata": {
        "id": "vSUanEdQXjrL"
      },
      "source": [
        "<b> b) Which degree coefficients in your best fit model from above are significant? Why only some? <b>"
      ]
    },
    {
      "cell_type": "markdown",
      "metadata": {
        "id": "Dc6URkNSXjrL"
      },
      "source": [
        "Ans. The best degrees are \n",
        "\n",
        "```\n",
        "['beta1', 'beta2', 'beta4', 'beta6'] \n",
        "```\n",
        "The possible reasons for mostly even coefficients is that the data kind of looks like the exponentials are tapering off at Spreading Factor ~2. Might also decrease. Even exponents model this kind of cyclic nature better.\n",
        "\n",
        "Consider for example y = x^2 vs y = x^3. x^2 is symmetric around the y-axis. First decreases, then increases. While x^3 is a continuously increasing function.\n",
        "\n"
      ]
    },
    {
      "cell_type": "markdown",
      "metadata": {
        "id": "93xoBVbRXjrM"
      },
      "source": [
        "<b> c) Is your test  𝑀𝑆𝐸  with regularisation comparable to the findings from previous section. If more, or less, by how much? <b>"
      ]
    },
    {
      "cell_type": "markdown",
      "metadata": {
        "id": "FI8ZFfhuXjrM"
      },
      "source": [
        "Ans. They both are roughly the same. The unregularized model gives a MSE of 2.62 while Lasso gives 2.59.\n",
        "The difference is in the fact that Lasso is more interpretable."
      ]
    },
    {
      "cell_type": "markdown",
      "metadata": {
        "id": "VzydPsFkXjrM"
      },
      "source": [
        "<b> d) Is your current model more reliable? On what basis do you claim its robustness? <b>"
      ]
    },
    {
      "cell_type": "markdown",
      "metadata": {
        "id": "nsbth2kSXjrM"
      },
      "source": [
        "Ans. Our current model is more robust because it removes the unwanted exponents. It is very likely that it will model data outside the x-axis range currently given better because it meshes will with a prior theory of even exponents causing tapering off or cycling of the curve at around x = 2"
      ]
    },
    {
      "cell_type": "markdown",
      "metadata": {
        "id": "y4z2mY5yXjrM"
      },
      "source": [
        "<div class=\"alert alert-block alert-danger\" style=\"color:black;background-color:#EFF8D0\">\n",
        "<h2 style=\"color:black;background-color:#EFF8D0\"> Part B: Racial bias in machine learning systems</h2> <a class=\"anchor\" id=\"partB\"></a>\n",
        "\n",
        "### [60 points] \n",
        "    \n",
        "![](https://static.propublica.org/projects/algorithmic-bias/assets/img/generated/opener-b-crop-2400*1350-00796e.jpg)\n",
        "\n",
        "<br />\n",
        "<b> Dataset Description </b><br />\n",
        "    \n",
        "The main dataset is the `compas.csv` <br />\n",
        "ProPublica's analysis is publically available [here](https://github.com/propublica/compas-analysis).\n",
        "\n",
        "The dataset was made publically available by **Northpointe**, an American tech-company that works with law establishment across several states in the US to predict future crimes based on past records of criminals.\n",
        "\n",
        "It has been suspected that the software used by Northpointe, `COMPAS`, is biased against the african american criminals, who end up with `high-risk` tags, despite minor criminal record, whereas `Caucasians` regularly received low-scores despite more significant criminal charges.\n",
        "    \n",
        "After pressure from several news agencies and a public investigation by ProPublica, the company released this dataset with a slice of the factors usually considered in order to assign a score to criminals.\n",
        "<br /><br />\n",
        "The dataset also contains a column `two_year_recid` with a binary response, i.e `1` if the released criminal ended up committing another crime within two years and `0` if the criminal did not commit a crime within a period of two years.\n",
        "    \n",
        "To learn more about this dataset, and the public investigation, you are highly recommended to read ProPublica's article on [Machine Bias](https://www.propublica.org/article/machine-bias-risk-assessments-in-criminal-sentencing)"
      ]
    },
    {
      "cell_type": "markdown",
      "metadata": {
        "id": "KpFdbb78XjrM"
      },
      "source": [
        "<div class=\"alert alert-block alert-danger\" style=\"color:black;background-color:#EFF8D0\">\n",
        "    \n",
        "**Question 1: Setting up the problem and understanding the data [15 points]** <a class=\"anchor\" id=\"partBQ1\"></a>\n",
        "\n",
        "**1.1** [1pt] Split the data into 80% training and 20% validation sets stratified by race.\n",
        "\n",
        "By Stratified we mean that the two sets should have roughly similar distribution of races as the original data. For more information on how to stratify using sklearn, check sklearn documentation [here](https://scikit-learn.org/stable/modules/generated/sklearn.model_selection.train_test_split.html).<br />\n",
        "\n",
        "**Note:** Before splitting you may want to process the categorical predictors first so you don't have to do it separately in train and validation later. \n",
        "<br /><br />\n",
        "**1.2** [4pts] Can you guess why processing the categorical predictors is important? What is the risk of processing categorical predictors after splitting into train and validation sets?\n",
        "<br /><br />\n",
        "\n",
        "**1.3** [8pts] Make overlapping distributions (histograms) of the following predictors for two groups, African American & Caucasian.\n",
        "- Age\n",
        "- Priors count\n",
        "- Sex\n",
        "- Length of stay\n",
        "<br /><br />\n",
        "\n",
        "**1.4** [2pts] Among the following variables, which ones show disparity between the two groups? Explain your results in 2-3 sentences.\n",
        "<br /><br />"
      ]
    },
    {
      "cell_type": "markdown",
      "metadata": {
        "id": "EWXFzDLkXjrM"
      },
      "source": [
        "<h4>1.1</h4>\n",
        "<b>\n",
        "Split the data into 80% training and 20% validation sets stratified by race.\n",
        "\n",
        "By Stratified we mean that the two sets should have roughly similar distribution of races as the original data. For more information on how to stratify using sklearn, check sklearn documentation here.\n",
        "<br />\n",
        "</b>    \n",
        "**Note:** Before splitting you may want to process the categorical predictors first so you don't have to do it separately in train and validation later."
      ]
    },
    {
      "cell_type": "code",
      "metadata": {
        "id": "aYo3nbUsXjrM"
      },
      "source": [
        "# your code here\n",
        "# df_compass = pd.read_csv('/content/drive/MyDrive/AI_1/hw2/compas.csv')\n",
        "# df_compass = pd.read_csv(path + '/data/compas.csv')\n",
        "df_compass = pd.read_csv('/content/drive/MyDrive/Colab files/AI - 1/HW - 2/compas.csv')"
      ],
      "execution_count": 36,
      "outputs": []
    },
    {
      "cell_type": "code",
      "metadata": {
        "colab": {
          "base_uri": "https://localhost:8080/",
          "height": 343
        },
        "id": "PEQj6IVumU6M",
        "outputId": "ac24e6f1-2d19-4d31-8ca9-edf10d522eac"
      },
      "source": [
        "df_compass.head()"
      ],
      "execution_count": 37,
      "outputs": [
        {
          "output_type": "execute_result",
          "data": {
            "text/html": [
              "<div>\n",
              "<style scoped>\n",
              "    .dataframe tbody tr th:only-of-type {\n",
              "        vertical-align: middle;\n",
              "    }\n",
              "\n",
              "    .dataframe tbody tr th {\n",
              "        vertical-align: top;\n",
              "    }\n",
              "\n",
              "    .dataframe thead th {\n",
              "        text-align: right;\n",
              "    }\n",
              "</style>\n",
              "<table border=\"1\" class=\"dataframe\">\n",
              "  <thead>\n",
              "    <tr style=\"text-align: right;\">\n",
              "      <th></th>\n",
              "      <th>age</th>\n",
              "      <th>c_charge_degree</th>\n",
              "      <th>c_charge_desc</th>\n",
              "      <th>race</th>\n",
              "      <th>score_text</th>\n",
              "      <th>sex</th>\n",
              "      <th>priors_count</th>\n",
              "      <th>juv_fel_count</th>\n",
              "      <th>juv_misd_count</th>\n",
              "      <th>juv_other_count</th>\n",
              "      <th>decile_score</th>\n",
              "      <th>two_year_recid</th>\n",
              "      <th>length_of_stay</th>\n",
              "      <th>priors_1</th>\n",
              "      <th>priors_234</th>\n",
              "      <th>priors_5plus</th>\n",
              "      <th>juv_fel_1plus</th>\n",
              "      <th>juv_misd_1plus</th>\n",
              "      <th>juv_other_1plus</th>\n",
              "      <th>charge_any_drug</th>\n",
              "      <th>charge_any_violence_aggression</th>\n",
              "      <th>charge_any_theft</th>\n",
              "      <th>length_of_stay_thresh</th>\n",
              "    </tr>\n",
              "  </thead>\n",
              "  <tbody>\n",
              "    <tr>\n",
              "      <th>0</th>\n",
              "      <td>50</td>\n",
              "      <td>M</td>\n",
              "      <td>arrest case no charge</td>\n",
              "      <td>Caucasian</td>\n",
              "      <td>Medium</td>\n",
              "      <td>0</td>\n",
              "      <td>30</td>\n",
              "      <td>0</td>\n",
              "      <td>0</td>\n",
              "      <td>0</td>\n",
              "      <td>6</td>\n",
              "      <td>1</td>\n",
              "      <td>4</td>\n",
              "      <td>0</td>\n",
              "      <td>0</td>\n",
              "      <td>1</td>\n",
              "      <td>0</td>\n",
              "      <td>0</td>\n",
              "      <td>0</td>\n",
              "      <td>0</td>\n",
              "      <td>0</td>\n",
              "      <td>0</td>\n",
              "      <td>4</td>\n",
              "    </tr>\n",
              "    <tr>\n",
              "      <th>1</th>\n",
              "      <td>28</td>\n",
              "      <td>M</td>\n",
              "      <td>Susp Drivers Lic 1st Offense</td>\n",
              "      <td>African-American</td>\n",
              "      <td>Medium</td>\n",
              "      <td>1</td>\n",
              "      <td>0</td>\n",
              "      <td>0</td>\n",
              "      <td>0</td>\n",
              "      <td>0</td>\n",
              "      <td>7</td>\n",
              "      <td>1</td>\n",
              "      <td>0</td>\n",
              "      <td>0</td>\n",
              "      <td>0</td>\n",
              "      <td>0</td>\n",
              "      <td>0</td>\n",
              "      <td>0</td>\n",
              "      <td>0</td>\n",
              "      <td>0</td>\n",
              "      <td>0</td>\n",
              "      <td>0</td>\n",
              "      <td>0</td>\n",
              "    </tr>\n",
              "    <tr>\n",
              "      <th>2</th>\n",
              "      <td>24</td>\n",
              "      <td>F</td>\n",
              "      <td>Aggravated Assault W/dead Weap</td>\n",
              "      <td>Other</td>\n",
              "      <td>Low</td>\n",
              "      <td>1</td>\n",
              "      <td>1</td>\n",
              "      <td>0</td>\n",
              "      <td>0</td>\n",
              "      <td>0</td>\n",
              "      <td>4</td>\n",
              "      <td>1</td>\n",
              "      <td>5</td>\n",
              "      <td>1</td>\n",
              "      <td>0</td>\n",
              "      <td>0</td>\n",
              "      <td>0</td>\n",
              "      <td>0</td>\n",
              "      <td>0</td>\n",
              "      <td>0</td>\n",
              "      <td>1</td>\n",
              "      <td>0</td>\n",
              "      <td>5</td>\n",
              "    </tr>\n",
              "    <tr>\n",
              "      <th>3</th>\n",
              "      <td>25</td>\n",
              "      <td>F</td>\n",
              "      <td>Burglary Unoccupied Dwelling</td>\n",
              "      <td>Hispanic</td>\n",
              "      <td>Medium</td>\n",
              "      <td>0</td>\n",
              "      <td>14</td>\n",
              "      <td>0</td>\n",
              "      <td>1</td>\n",
              "      <td>2</td>\n",
              "      <td>6</td>\n",
              "      <td>0</td>\n",
              "      <td>1</td>\n",
              "      <td>0</td>\n",
              "      <td>0</td>\n",
              "      <td>1</td>\n",
              "      <td>0</td>\n",
              "      <td>1</td>\n",
              "      <td>1</td>\n",
              "      <td>0</td>\n",
              "      <td>0</td>\n",
              "      <td>1</td>\n",
              "      <td>1</td>\n",
              "    </tr>\n",
              "    <tr>\n",
              "      <th>4</th>\n",
              "      <td>34</td>\n",
              "      <td>F</td>\n",
              "      <td>Possession of Cannabis</td>\n",
              "      <td>African-American</td>\n",
              "      <td>Medium</td>\n",
              "      <td>1</td>\n",
              "      <td>7</td>\n",
              "      <td>0</td>\n",
              "      <td>0</td>\n",
              "      <td>0</td>\n",
              "      <td>6</td>\n",
              "      <td>1</td>\n",
              "      <td>0</td>\n",
              "      <td>0</td>\n",
              "      <td>0</td>\n",
              "      <td>1</td>\n",
              "      <td>0</td>\n",
              "      <td>0</td>\n",
              "      <td>0</td>\n",
              "      <td>1</td>\n",
              "      <td>0</td>\n",
              "      <td>0</td>\n",
              "      <td>0</td>\n",
              "    </tr>\n",
              "  </tbody>\n",
              "</table>\n",
              "</div>"
            ],
            "text/plain": [
              "   age c_charge_degree  ... charge_any_theft length_of_stay_thresh\n",
              "0   50               M  ...                0                     4\n",
              "1   28               M  ...                0                     0\n",
              "2   24               F  ...                0                     5\n",
              "3   25               F  ...                1                     1\n",
              "4   34               F  ...                0                     0\n",
              "\n",
              "[5 rows x 23 columns]"
            ]
          },
          "metadata": {},
          "execution_count": 37
        }
      ]
    },
    {
      "cell_type": "code",
      "metadata": {
        "id": "li4vwarvXjrM"
      },
      "source": [
        "# your code here\n",
        "df_compass = df_compass.drop(['c_charge_degree','c_charge_desc','score_text'],axis=1)"
      ],
      "execution_count": 38,
      "outputs": []
    },
    {
      "cell_type": "code",
      "metadata": {
        "colab": {
          "base_uri": "https://localhost:8080/",
          "height": 241
        },
        "id": "8a7MZZNLtXrz",
        "outputId": "00f925fe-c5bf-456d-9694-f63f3c703a0d"
      },
      "source": [
        "race_x = df_compass['race'].values # getting race as an array to perform one-hot\n",
        "race_list = df_compass['race'].unique() # unique categories\n",
        "\n",
        "one_enc = OneHotEncoder(categories=[race_list]) # passing in race_list to one-hot object\n",
        "race_x_transformed = one_enc.fit_transform(race_x.reshape(-1,1)).toarray() # transforming and then converting into array.\n",
        "race_x_transformed = race_x_transformed.astype(int)\n",
        "\n",
        "df_race = pd.DataFrame(data= race_x_transformed, columns=race_list)  \n",
        "\n",
        "df_compass_processed = pd.concat([df_compass,df_race], axis=1)\n",
        "df_compass_processed.drop(['race'],axis=1,inplace=True)\n",
        "df_compass_processed.head()"
      ],
      "execution_count": 39,
      "outputs": [
        {
          "output_type": "execute_result",
          "data": {
            "text/html": [
              "<div>\n",
              "<style scoped>\n",
              "    .dataframe tbody tr th:only-of-type {\n",
              "        vertical-align: middle;\n",
              "    }\n",
              "\n",
              "    .dataframe tbody tr th {\n",
              "        vertical-align: top;\n",
              "    }\n",
              "\n",
              "    .dataframe thead th {\n",
              "        text-align: right;\n",
              "    }\n",
              "</style>\n",
              "<table border=\"1\" class=\"dataframe\">\n",
              "  <thead>\n",
              "    <tr style=\"text-align: right;\">\n",
              "      <th></th>\n",
              "      <th>age</th>\n",
              "      <th>sex</th>\n",
              "      <th>priors_count</th>\n",
              "      <th>juv_fel_count</th>\n",
              "      <th>juv_misd_count</th>\n",
              "      <th>juv_other_count</th>\n",
              "      <th>decile_score</th>\n",
              "      <th>two_year_recid</th>\n",
              "      <th>length_of_stay</th>\n",
              "      <th>priors_1</th>\n",
              "      <th>priors_234</th>\n",
              "      <th>priors_5plus</th>\n",
              "      <th>juv_fel_1plus</th>\n",
              "      <th>juv_misd_1plus</th>\n",
              "      <th>juv_other_1plus</th>\n",
              "      <th>charge_any_drug</th>\n",
              "      <th>charge_any_violence_aggression</th>\n",
              "      <th>charge_any_theft</th>\n",
              "      <th>length_of_stay_thresh</th>\n",
              "      <th>Caucasian</th>\n",
              "      <th>African-American</th>\n",
              "      <th>Other</th>\n",
              "      <th>Hispanic</th>\n",
              "      <th>Native American</th>\n",
              "      <th>Asian</th>\n",
              "    </tr>\n",
              "  </thead>\n",
              "  <tbody>\n",
              "    <tr>\n",
              "      <th>0</th>\n",
              "      <td>50</td>\n",
              "      <td>0</td>\n",
              "      <td>30</td>\n",
              "      <td>0</td>\n",
              "      <td>0</td>\n",
              "      <td>0</td>\n",
              "      <td>6</td>\n",
              "      <td>1</td>\n",
              "      <td>4</td>\n",
              "      <td>0</td>\n",
              "      <td>0</td>\n",
              "      <td>1</td>\n",
              "      <td>0</td>\n",
              "      <td>0</td>\n",
              "      <td>0</td>\n",
              "      <td>0</td>\n",
              "      <td>0</td>\n",
              "      <td>0</td>\n",
              "      <td>4</td>\n",
              "      <td>1</td>\n",
              "      <td>0</td>\n",
              "      <td>0</td>\n",
              "      <td>0</td>\n",
              "      <td>0</td>\n",
              "      <td>0</td>\n",
              "    </tr>\n",
              "    <tr>\n",
              "      <th>1</th>\n",
              "      <td>28</td>\n",
              "      <td>1</td>\n",
              "      <td>0</td>\n",
              "      <td>0</td>\n",
              "      <td>0</td>\n",
              "      <td>0</td>\n",
              "      <td>7</td>\n",
              "      <td>1</td>\n",
              "      <td>0</td>\n",
              "      <td>0</td>\n",
              "      <td>0</td>\n",
              "      <td>0</td>\n",
              "      <td>0</td>\n",
              "      <td>0</td>\n",
              "      <td>0</td>\n",
              "      <td>0</td>\n",
              "      <td>0</td>\n",
              "      <td>0</td>\n",
              "      <td>0</td>\n",
              "      <td>0</td>\n",
              "      <td>1</td>\n",
              "      <td>0</td>\n",
              "      <td>0</td>\n",
              "      <td>0</td>\n",
              "      <td>0</td>\n",
              "    </tr>\n",
              "    <tr>\n",
              "      <th>2</th>\n",
              "      <td>24</td>\n",
              "      <td>1</td>\n",
              "      <td>1</td>\n",
              "      <td>0</td>\n",
              "      <td>0</td>\n",
              "      <td>0</td>\n",
              "      <td>4</td>\n",
              "      <td>1</td>\n",
              "      <td>5</td>\n",
              "      <td>1</td>\n",
              "      <td>0</td>\n",
              "      <td>0</td>\n",
              "      <td>0</td>\n",
              "      <td>0</td>\n",
              "      <td>0</td>\n",
              "      <td>0</td>\n",
              "      <td>1</td>\n",
              "      <td>0</td>\n",
              "      <td>5</td>\n",
              "      <td>0</td>\n",
              "      <td>0</td>\n",
              "      <td>1</td>\n",
              "      <td>0</td>\n",
              "      <td>0</td>\n",
              "      <td>0</td>\n",
              "    </tr>\n",
              "    <tr>\n",
              "      <th>3</th>\n",
              "      <td>25</td>\n",
              "      <td>0</td>\n",
              "      <td>14</td>\n",
              "      <td>0</td>\n",
              "      <td>1</td>\n",
              "      <td>2</td>\n",
              "      <td>6</td>\n",
              "      <td>0</td>\n",
              "      <td>1</td>\n",
              "      <td>0</td>\n",
              "      <td>0</td>\n",
              "      <td>1</td>\n",
              "      <td>0</td>\n",
              "      <td>1</td>\n",
              "      <td>1</td>\n",
              "      <td>0</td>\n",
              "      <td>0</td>\n",
              "      <td>1</td>\n",
              "      <td>1</td>\n",
              "      <td>0</td>\n",
              "      <td>0</td>\n",
              "      <td>0</td>\n",
              "      <td>1</td>\n",
              "      <td>0</td>\n",
              "      <td>0</td>\n",
              "    </tr>\n",
              "    <tr>\n",
              "      <th>4</th>\n",
              "      <td>34</td>\n",
              "      <td>1</td>\n",
              "      <td>7</td>\n",
              "      <td>0</td>\n",
              "      <td>0</td>\n",
              "      <td>0</td>\n",
              "      <td>6</td>\n",
              "      <td>1</td>\n",
              "      <td>0</td>\n",
              "      <td>0</td>\n",
              "      <td>0</td>\n",
              "      <td>1</td>\n",
              "      <td>0</td>\n",
              "      <td>0</td>\n",
              "      <td>0</td>\n",
              "      <td>1</td>\n",
              "      <td>0</td>\n",
              "      <td>0</td>\n",
              "      <td>0</td>\n",
              "      <td>0</td>\n",
              "      <td>1</td>\n",
              "      <td>0</td>\n",
              "      <td>0</td>\n",
              "      <td>0</td>\n",
              "      <td>0</td>\n",
              "    </tr>\n",
              "  </tbody>\n",
              "</table>\n",
              "</div>"
            ],
            "text/plain": [
              "   age  sex  priors_count  ...  Hispanic  Native American  Asian\n",
              "0   50    0            30  ...         0                0      0\n",
              "1   28    1             0  ...         0                0      0\n",
              "2   24    1             1  ...         0                0      0\n",
              "3   25    0            14  ...         1                0      0\n",
              "4   34    1             7  ...         0                0      0\n",
              "\n",
              "[5 rows x 25 columns]"
            ]
          },
          "metadata": {},
          "execution_count": 39
        }
      ]
    },
    {
      "cell_type": "code",
      "metadata": {
        "id": "nLKjmWf8sFGM"
      },
      "source": [
        "train, test = train_test_split(df_compass_processed.values,stratify=df_compass['race'].values, random_state=7) # we are passing\n",
        "# df_compass['race] as the startify parameter, this will gives x_train and x_test with the same distribution as of df_compass[race]"
      ],
      "execution_count": 40,
      "outputs": []
    },
    {
      "cell_type": "code",
      "metadata": {
        "id": "tTi4LJkg6Ruz"
      },
      "source": [
        "train = pd.DataFrame(data= train, columns= df_compass_processed.columns)"
      ],
      "execution_count": 41,
      "outputs": []
    },
    {
      "cell_type": "code",
      "metadata": {
        "id": "fH1YNfod6u4I"
      },
      "source": [
        "test = pd.DataFrame(data= test, columns= df_compass_processed.columns)\n"
      ],
      "execution_count": 42,
      "outputs": []
    },
    {
      "cell_type": "markdown",
      "metadata": {
        "id": "CLgZiD48UtYo"
      },
      "source": [
        "**Checking that the stratification has worked**"
      ]
    },
    {
      "cell_type": "code",
      "metadata": {
        "colab": {
          "base_uri": "https://localhost:8080/"
        },
        "id": "Kkl0A5Ce77Rr",
        "outputId": "e2c1a6e4-7391-4457-8631-c7b13c0d9b9a"
      },
      "source": [
        "train['African-American'].sum() # after startify"
      ],
      "execution_count": 43,
      "outputs": [
        {
          "output_type": "execute_result",
          "data": {
            "text/plain": [
              "2142"
            ]
          },
          "metadata": {},
          "execution_count": 43
        }
      ]
    },
    {
      "cell_type": "code",
      "metadata": {
        "colab": {
          "base_uri": "https://localhost:8080/"
        },
        "id": "kcwLMCGs7W-P",
        "outputId": "3b196746-1637-498c-f1c0-3a70e815f7d6"
      },
      "source": [
        "train['Caucasian'].sum() # after startify"
      ],
      "execution_count": 44,
      "outputs": [
        {
          "output_type": "execute_result",
          "data": {
            "text/plain": [
              "1419"
            ]
          },
          "metadata": {},
          "execution_count": 44
        }
      ]
    },
    {
      "cell_type": "code",
      "metadata": {
        "colab": {
          "base_uri": "https://localhost:8080/"
        },
        "id": "c684WxpX8KZl",
        "outputId": "df5ddbcf-ab11-4e3f-b4a0-763819e18e15"
      },
      "source": [
        "2142/1419 # ratio of (african/caucasian) from x_train "
      ],
      "execution_count": 45,
      "outputs": [
        {
          "output_type": "execute_result",
          "data": {
            "text/plain": [
              "1.5095137420718816"
            ]
          },
          "metadata": {},
          "execution_count": 45
        }
      ]
    },
    {
      "cell_type": "code",
      "metadata": {
        "colab": {
          "base_uri": "https://localhost:8080/"
        },
        "id": "k9EfTY9J7rGZ",
        "outputId": "1a5fd3dc-70e3-4c7e-c58f-7f75320ecf24"
      },
      "source": [
        "df_compass.groupby(['race']).count()['age'] # race distribution of the original dataset"
      ],
      "execution_count": 46,
      "outputs": [
        {
          "output_type": "execute_result",
          "data": {
            "text/plain": [
              "race\n",
              "African-American    2857\n",
              "Asian                 28\n",
              "Caucasian           1892\n",
              "Hispanic             458\n",
              "Native American       10\n",
              "Other                309\n",
              "Name: age, dtype: int64"
            ]
          },
          "metadata": {},
          "execution_count": 46
        }
      ]
    },
    {
      "cell_type": "code",
      "metadata": {
        "colab": {
          "base_uri": "https://localhost:8080/"
        },
        "id": "rnD1h4tO8Ouw",
        "outputId": "71b270f9-a235-40d4-a8ff-f20109ab79fe"
      },
      "source": [
        "2857/1892 # ratio of (african/caucasian) from the original dataset"
      ],
      "execution_count": 47,
      "outputs": [
        {
          "output_type": "execute_result",
          "data": {
            "text/plain": [
              "1.5100422832980973"
            ]
          },
          "metadata": {},
          "execution_count": 47
        }
      ]
    },
    {
      "cell_type": "markdown",
      "metadata": {
        "id": "DcA1u8gVXjrN"
      },
      "source": [
        "<h4>1.2</h4>\n",
        "<b>Can you guess why processing the categorical predictors is important? What is the risk of processing categorical predictors after splitting into train and validation sets?"
      ]
    },
    {
      "cell_type": "markdown",
      "metadata": {
        "id": "ZudlZV5bXjrN"
      },
      "source": [
        "Ans. Processing categorical predictors helps improve the model. In order for us to use categorical predictors in our model we need it into convert into numerical variables. \n",
        "\n",
        "In cases where we dont use startification, we might end up with a dataset which do not have a particular category."
      ]
    },
    {
      "cell_type": "markdown",
      "metadata": {
        "id": "L2CM8e1nXjrN"
      },
      "source": [
        "<h4>1.3 </h4>\n",
        "<b>\n",
        "Make overlapping distributions (histograms) of the following predictors for two groups, African American & Caucasian.\n",
        "- Age\n",
        "- Priors count\n",
        "- Sex\n",
        "- Length of stay\n"
      ]
    },
    {
      "cell_type": "code",
      "metadata": {
        "colab": {
          "base_uri": "https://localhost:8080/"
        },
        "id": "6axSkT84XjrN",
        "outputId": "d153a98d-c4d2-4504-dd25-f6adbb0b030c"
      },
      "source": [
        "# your code here\n",
        "df_CC = train[train['Caucasian'] == 1]\n",
        "df_AA = train[train['African-American'] == 1]\n",
        "\n",
        "print(f'Caucasian training set has {df_CC.shape[0]} values')\n",
        "print(f'African-American training set has {df_AA.shape[0]} values')"
      ],
      "execution_count": 48,
      "outputs": [
        {
          "output_type": "stream",
          "name": "stdout",
          "text": [
            "Caucasian training set has 1419 values\n",
            "African-American training set has 2142 values\n"
          ]
        }
      ]
    },
    {
      "cell_type": "code",
      "metadata": {
        "colab": {
          "base_uri": "https://localhost:8080/",
          "height": 518
        },
        "id": "K3YuHQRPh7u4",
        "outputId": "0492d017-08b3-4f47-df9f-f15263e85b16"
      },
      "source": [
        "plt.figure(figsize = (16,8))\n",
        "sns.kdeplot(data=df_CC, x=\"age\",multiple = 'stack',alpha = 0.8, color = '#F9D2D5',label = 'Caucasian')\n",
        "sns.kdeplot(data=df_AA, x=\"age\",multiple = 'stack',alpha = 0.3, color = 'black',label = 'African American')\n",
        "plt.title('Plot for Age')\n",
        "plt.legend()\n",
        "plt.show()"
      ],
      "execution_count": 49,
      "outputs": [
        {
          "output_type": "display_data",
          "data": {
            "image/png": "[encoded data removed]",
            "text/plain": [
              "<Figure size 1152x576 with 1 Axes>"
            ]
          },
          "metadata": {}
        }
      ]
    },
    {
      "cell_type": "code",
      "metadata": {
        "colab": {
          "base_uri": "https://localhost:8080/",
          "height": 518
        },
        "id": "glpvgDSyjQIp",
        "outputId": "a5c3d856-4c90-4872-b770-7f8201121cd8"
      },
      "source": [
        "plt.figure(figsize = (16,8))\n",
        "sns.kdeplot(data=df_CC, x=\"priors_count\",multiple = 'stack',alpha = 0.8, color = '#F9D2D5',label = 'Caucasian')\n",
        "sns.kdeplot(data=df_AA, x=\"priors_count\",multiple = 'stack',alpha = 0.3, color = 'black',label = 'African American')\n",
        "plt.title('Plot for Prior Count')\n",
        "plt.legend()\n",
        "plt.show()"
      ],
      "execution_count": 50,
      "outputs": [
        {
          "output_type": "display_data",
          "data": {
            "image/png": "[encoded data removed]",
            "text/plain": [
              "<Figure size 1152x576 with 1 Axes>"
            ]
          },
          "metadata": {}
        }
      ]
    },
    {
      "cell_type": "code",
      "metadata": {
        "colab": {
          "base_uri": "https://localhost:8080/",
          "height": 518
        },
        "id": "4yvbU2pVjeeF",
        "outputId": "f456a208-1fdb-49ed-839d-ec40b267b1ca"
      },
      "source": [
        "plt.figure(figsize = (16,8))\n",
        "sns.kdeplot(data=df_CC, x=\"length_of_stay_thresh\",multiple = 'stack',alpha = 0.8, color = '#F9D2D5',label = 'Caucasian')\n",
        "sns.kdeplot(data=df_AA, x=\"length_of_stay_thresh\",multiple = 'stack',alpha = 0.3, color = 'black',label = 'African American')\n",
        "plt.title('Plot for Length of stay')\n",
        "plt.legend()\n",
        "plt.show()"
      ],
      "execution_count": 51,
      "outputs": [
        {
          "output_type": "display_data",
          "data": {
            "image/png": "[encoded data removed]",
            "text/plain": [
              "<Figure size 1152x576 with 1 Axes>"
            ]
          },
          "metadata": {}
        }
      ]
    },
    {
      "cell_type": "code",
      "metadata": {
        "colab": {
          "base_uri": "https://localhost:8080/",
          "height": 518
        },
        "id": "khTlXVZ5nOiJ",
        "outputId": "2143ecf8-d7ff-4ded-ec00-38ef16612810"
      },
      "source": [
        "plt.figure(figsize=(12,8))\n",
        "plt.bar(np.arange(2) - 0.2, df_CC['sex'].value_counts()/df_CC['sex'].value_counts().sum()*100, color = '#F9D2D5',width = 0.4)\n",
        "plt.bar(np.arange(2) + 0.2, df_AA['sex'].value_counts()/df_AA['sex'].value_counts().sum()*100, color = 'Black',width = 0.4)\n",
        "plt.xticks(np.arange(2), ['Male','Female'])\n",
        "plt.title('Race and Gender plot')\n",
        "plt.xlabel('Gender')\n",
        "plt.ylabel('Percentage of values')\n",
        "plt.legend(['Caucasian','African American'])\n",
        "plt.show()"
      ],
      "execution_count": 52,
      "outputs": [
        {
          "output_type": "display_data",
          "data": {
            "image/png": "[encoded data removed]",
            "text/plain": [
              "<Figure size 864x576 with 1 Axes>"
            ]
          },
          "metadata": {}
        }
      ]
    },
    {
      "cell_type": "markdown",
      "metadata": {
        "id": "qNULTLWRXjrN"
      },
      "source": [
        "<h4>1.4</h4>\n",
        "<b> \n",
        "Among the following variables, which ones show disparity between the two groups? Explain your results in 2-3 sentences."
      ]
    },
    {
      "cell_type": "markdown",
      "metadata": {
        "id": "Wq55n5xCXjrN"
      },
      "source": [
        "Ans. We see significant differences in Age and Prior Count of offendors.\n",
        "\n",
        "\n",
        "*   African Americans tend to much younger compared to Caucasians.\n",
        "*   African Americans also tend to have much higher prior counts compared to Caucasians"
      ]
    },
    {
      "cell_type": "markdown",
      "metadata": {
        "id": "4lKyxThSXjrN"
      },
      "source": [
        "<div class=\"alert alert-block alert-danger\" style=\"color:black;background-color:#EFF8D0\">\n",
        "   \n",
        "**Question 2: Baseline model fitting [19 points]** <a class=\"anchor\" id=\"partBQ2\"></a>\n",
        "\n",
        "**2.1** [15pts] Build a logistic regression model to predict recidivism (`two_year_recid`) on these data and be sure to include race as a predictor.<br />\n",
        "**Note**: In your list of predictors, `race` is one of the predictors.\n",
        "\n",
        "Report the following on the **validation set**:\n",
        "1. Overall model accuracy as a percentage\n",
        "2. *False Positive Rate(FPR)* as a percentage for:\n",
        "    - `African Americans`\n",
        "    - `Cacausians`\n",
        "3. *False Negative Rate(FNR)* as a percentage for:\n",
        "    - `African Americans`\n",
        "    - `Caucasians`\n",
        "4. Ratio of the FPR between `African_Americans` and `Caucasians`\n",
        "5. Ratio of the FNR between `African_Americans` and `Caucasians`\n",
        "\n",
        "i.e $\\frac{FPR(AA)}{FPR(CC)}$ and $\\frac{FNR(AA)}{FNR(CC)}$\n",
        "\n",
        "<br  /><br />\n",
        "**2.2** [4pts] What do you observe? Is there any disparity in the $FPR$ and $FNR$ for the two groups?\n",
        "Explain your findings in 3-6 sentences.\n"
      ]
    },
    {
      "cell_type": "markdown",
      "metadata": {
        "id": "Xj0CdlfeXjrN"
      },
      "source": [
        "<h4>2.1</h4>\n",
        "<b> \n",
        "Build a logistic regression model to predict recidivism (two_year_recid) on these data and be sure to include race as a predictor."
      ]
    },
    {
      "cell_type": "code",
      "metadata": {
        "id": "ihtSTP8Urvr7"
      },
      "source": [
        "def training(x_train,y_train,x_test,y_test):\n",
        "  logreg = LogisticRegression(random_state=42)\n",
        "  logreg.fit(x_train,y_train)\n",
        "\n",
        "  y_pred = logreg.predict(x_test)\n",
        "  y_probs = logreg.predict_proba(x_test)[:,1]\n",
        "\n",
        "  dummy_frame = pd.DataFrame(y_pred, columns = ['Predicted_Recidivism'])\n",
        "\n",
        "  concat_df = x_test.join(y_test).join(dummy_frame)\n",
        "\n",
        "  return concat_df, y_probs\n",
        "\n",
        "def conf_matrix(matrix):\n",
        "  TN = matrix[0,0]\n",
        "  FP = matrix[0,1]\n",
        "  FN = matrix[1,0]\n",
        "  TP = matrix[1,1]\n",
        "\n",
        "  FPR = FP / (FP + TN)\n",
        "  FNR = FN / (TP + FN)\n",
        "\n",
        "  return round(FPR*100), round(FNR*100)\n",
        "\n",
        "def metrics(concat_df):\n",
        "  accuracy = accuracy_score(concat_df['two_year_recid'],concat_df['Predicted_Recidivism'])\n",
        "  \n",
        "  concat_CC = concat_df[concat_df['Caucasian'] == 1]\n",
        "  concat_AA = concat_df[concat_df['African-American'] == 1]\n",
        "\n",
        "  matrix_CC = confusion_matrix(concat_CC['two_year_recid'],concat_CC['Predicted_Recidivism'])\n",
        "  matrix_AA = confusion_matrix(concat_AA['two_year_recid'],concat_AA['Predicted_Recidivism'])\n",
        "\n",
        "\n",
        "  FPR_CC, FNR_CC = conf_matrix(matrix_CC)\n",
        "  FPR_AA, FNR_AA = conf_matrix(matrix_AA)\n",
        "\n",
        "  ratio_FPR = round(FPR_AA / FPR_CC, 4)\n",
        "  ratio_FNR = round(FNR_AA / FNR_CC, 4)\n",
        "\n",
        "  print(f'The overall accuracy is {accuracy*100:.0f}%')\n",
        "  print(f'The false positive rate for African Americans is {FPR_AA}%')\n",
        "  print(f'The false positive rate for Caucasians is {FPR_CC}%')\n",
        "  print(f'The false negative rate for African Americans is {FNR_AA}%')\n",
        "  print(f'The false negative rate for Caucasians is {FNR_CC}%')\n",
        "  print(f'The ratio of false positive rates is {ratio_FPR}')\n",
        "  print(f'The ratio of false negative rates is {ratio_FNR}')\n"
      ],
      "execution_count": 53,
      "outputs": []
    },
    {
      "cell_type": "code",
      "metadata": {
        "colab": {
          "base_uri": "https://localhost:8080/"
        },
        "id": "Tw3fmGsdXjrN",
        "outputId": "1de2e978-bcfb-4ac7-dcd6-e2fc76ae7eb7"
      },
      "source": [
        "# your code here\n",
        "warnings.filterwarnings(\"ignore\")\n",
        "\n",
        "new_train = train.copy()\n",
        "new_test = test.copy()\n",
        "\n",
        "x_train = new_train.drop('two_year_recid',axis = 1)\n",
        "y_train = new_train['two_year_recid']\n",
        "\n",
        "x_test = new_test.drop('two_year_recid',axis = 1)\n",
        "y_test = new_test['two_year_recid']\n",
        "\n",
        "predicted_df, y_probs = training(x_train,y_train,x_test,y_test)\n",
        "\n",
        "metrics(predicted_df)\n"
      ],
      "execution_count": 54,
      "outputs": [
        {
          "output_type": "stream",
          "name": "stdout",
          "text": [
            "The overall accuracy is 69%\n",
            "The false positive rate for African Americans is 31%\n",
            "The false positive rate for Caucasians is 22%\n",
            "The false negative rate for African Americans is 29%\n",
            "The false negative rate for Caucasians is 54%\n",
            "The ratio of false positive rates is 1.4091\n",
            "The ratio of false negative rates is 0.537\n"
          ]
        }
      ]
    },
    {
      "cell_type": "markdown",
      "metadata": {
        "id": "a-49niTmXjrO"
      },
      "source": [
        "<h4>2.2</h4>\n",
        "<b>\n",
        "What do you observe? Is there any disparity in the $FPR$ and $FNR$ for the two groups?\n",
        "Explain your findings in 3-6 sentences."
      ]
    },
    {
      "cell_type": "markdown",
      "metadata": {
        "id": "uBupyifjXjrO"
      },
      "source": [
        "Ans. Quick go through of definitions before:\n",
        "* FPR - False Positive Rate. Actually false, but predicted true. In this case, it would mean **_Did not actually commit a crime again, but model predicted that the person would_**\n",
        "* FNR - False Negative Rate. Actually true, but predicted false. In this case, it would mean **_Actually committed a crime again, but model predicted that the person would not_**\n",
        "\n",
        "With that through, we can see that:\n",
        "* FPR(AA) > FPR(CC) i.e., the model is wrongly predicting that more African-Americans would commit crimes again than for Caucasians. In this case, it is a bad model and is biased against African-Americans.\n",
        "*   FNR(AA) < FNR(CC) i.e., the model is wrongly predicting that lesser Caucasians would commit crimes again than for African Americans. In this case too, the model is performing badly in the case of Caucasians.\n",
        "\n",
        "\n",
        "We can clearly see that something in the model is biasing it against African Americans.\n",
        "\n",
        "Some possibilities are:\n",
        "* The race column is biasing the model (We investigate this in the next subsection)\n",
        "* **Some demographic trends are biasing the model. As we will see in Part C, I control for 2 of the demographic trends that we saw in the EDA section above, but as we will see just below, the model is still biased in the same way to the same degree against African Americans.**"
      ]
    },
    {
      "cell_type": "markdown",
      "metadata": {
        "id": "4uFypp82XjrO"
      },
      "source": [
        "<div class=\"alert alert-block alert-danger\" style=\"color:black;background-color:#EFF8D0\">\n",
        "    \n",
        "**Question 3: 'Race'less model fitting [16 points]** <a class=\"anchor\" id=\"partBQ3\"></a>\n",
        " \n",
        "**3.1** [10pts] Refit the logistic model in 2.1 but this time **without** `race` as a predictor. \n",
        "Again, Report the following on the **validation set**:\n",
        "1. Overall model accuracy as a percentage\n",
        "2. **False Positive Rate(FPR)** as a percentage for:\n",
        "    - African Americans\n",
        "    - Caucasians\n",
        "2. **False Negative Rate(FNR)** as a percentage for:\n",
        "    - African Americans\n",
        "    - Caucasians\n",
        "3. \n",
        "    - Ratio of the FPR between `African_Americans` and `Caucasians`\n",
        "    - Ratio of the FNR between `African_Americans` and `Caucasians`\n",
        "\n",
        "i.e $\\frac{FPR(AA)}{FPR(CC)}$ and $\\frac{FNR(AA)}{FNR(CC)}$\n",
        "\n",
        "\n",
        "<br /><br />\n",
        "\n",
        "**3.2** [2pts] Now, without the `race` as a predictor, what do you observe? \n",
        "<br /><br />\n",
        "**3.3** [2pts] How do these compare to the model when the race **is** included as a predictor?\n",
        "<br /><br />\n",
        "**3.4** [2pts] Given your exploration and modeling of the data, should a predictive tool be trusted to be unbiased even if it doesn’t explicitly use a variable such as race to predict future crime?  Why or why not?  Why is the bias still occurring or not occurring?  Explain in 3-6 sentences total.\n"
      ]
    },
    {
      "cell_type": "markdown",
      "metadata": {
        "id": "SQpmkgH8XjrO"
      },
      "source": [
        "<h4>3.1</h4>\n",
        "<b>\n",
        "Refit the logistic model in 2.1 but this time without race as a predictor. "
      ]
    },
    {
      "cell_type": "code",
      "metadata": {
        "colab": {
          "base_uri": "https://localhost:8080/"
        },
        "id": "seUgFejXXjrO",
        "outputId": "c4a4170c-8768-4407-abf6-490a6fdfa054"
      },
      "source": [
        "# your code here\n",
        "# your code here\n",
        "warnings.filterwarnings(\"ignore\")\n",
        "\n",
        "race_cols = ['Caucasian',\t'African-American',\t'Other',\t'Hispanic',\t'Native American', 'Asian']\n",
        "new_train = train.drop(race_cols, axis = 1)\n",
        "new_test = test.drop(race_cols, axis = 1)\n",
        "\n",
        "x_train = new_train.drop('two_year_recid',axis = 1)\n",
        "y_train = new_train['two_year_recid']\n",
        "\n",
        "x_test = new_test.drop('two_year_recid',axis = 1)\n",
        "y_test = new_test['two_year_recid']\n",
        "\n",
        "predicted_df, y_probs = training(x_train,y_train,x_test,y_test)\n",
        "\n",
        "metrics(predicted_df.join(test[race_cols]))"
      ],
      "execution_count": 55,
      "outputs": [
        {
          "output_type": "stream",
          "name": "stdout",
          "text": [
            "The overall accuracy is 69%\n",
            "The false positive rate for African Americans is 31%\n",
            "The false positive rate for Caucasians is 20%\n",
            "The false negative rate for African Americans is 28%\n",
            "The false negative rate for Caucasians is 56%\n",
            "The ratio of false positive rates is 1.55\n",
            "The ratio of false negative rates is 0.5\n"
          ]
        }
      ]
    },
    {
      "cell_type": "markdown",
      "metadata": {
        "id": "c_UHbI01XjrO"
      },
      "source": [
        "<h4> 3.2 </h4>\n",
        "<b>\n",
        "Now, without the race as a predictor, what do you observe?"
      ]
    },
    {
      "cell_type": "markdown",
      "metadata": {
        "id": "La3dpLysXjrO"
      },
      "source": [
        "Ans. We see very similar results as we saw in the model with race as a predictor. It is possible for ML models to [learn about race even though it is not explicitly given](https://twitter.com/drlukeor/status/1422199954668363776) through other differences."
      ]
    },
    {
      "cell_type": "markdown",
      "metadata": {
        "id": "KYUEpV36XjrP"
      },
      "source": [
        "<h4>3.3</h4>\n",
        "<b>How do these compare to the model when the race is included as a predictor?"
      ]
    },
    {
      "cell_type": "markdown",
      "metadata": {
        "id": "UNJSmyjPXjrP"
      },
      "source": [
        "Ans. The results are remarkably similar. The model seems to be learning about race of the person through some other means. It can often be hard to pinpoint where exactly this happens.\n",
        "\n",
        "As we will see in Part C, I have tried to control for some demographic variables we looked at in the EDA. Some of the controls seem to work, while others don't"
      ]
    },
    {
      "cell_type": "markdown",
      "metadata": {
        "id": "RgsvXzfzXjrP"
      },
      "source": [
        "<h4>3.4</h4>\n",
        "<b>Given your exploration and modeling of the data, should a predictive tool be trusted to be unbiased even if it doesn’t explicitly use a variable such as race to predict future crime?  Why or why not?  Why is the bias still occurring or not occurring?  Explain in 3-6 sentences total.\n"
      ]
    },
    {
      "cell_type": "markdown",
      "metadata": {
        "id": "6cpETTxtXjrP"
      },
      "source": [
        "Ans. My personal opinion is that predictive models should not be used at all (See Covid prediction models) for making decisions about things we don't understand and don't have any skin in the game in. Predictive models can be used by companies for internal forecasts or market projections, because they have skin in the game. If the model fails, either company fails or it stops relying on the models.\n",
        "\n",
        "But in the domain of social sciences, predictive models should not be used at all because we don't understand the underlying processes that give rise to the result we see. Predictive models should not be used explicitly in cases where it performs badly like in this case\n",
        "\n",
        "Bias occurs because a lot of the variables we use are often one way or other correlated with each other in the social domain. Social phenomena are often complex emergent phenomena and it is hard to pinpoint where the bias is picked up from. In some cases the bias might be good, in most cases not (See twitter thread linked above)"
      ]
    },
    {
      "cell_type": "markdown",
      "metadata": {
        "id": "a8d78clhXjrP"
      },
      "source": [
        "<div class=\"alert alert-block alert-danger\" style=\"color:black;background-color:#EFF8D0\">\n",
        "    \n",
        "**Question 4: Receiver Operating Characteristic curve [10 points]** <a class=\"anchor\" id=\"partBQ4\"></a>\n",
        "\n",
        "**4.1** [5pts] Use logistic regression from above and plot the *Receiver Operating Characteristic curve* for two races, `African Americans` & `Caucasians`. \n",
        "<br /><br />\n",
        "**4.2** [5pts] You will notice that changing the thresholds can *reduce* bias between the two classes, but it can also affect model accuracy. We want our model to be **accurate** but also **unbiased**. So what shall we do?\n",
        "\n",
        "- Remove bias?\n",
        "- Lose model accuracy?\n",
        "\n",
        "Write down your strategy to overcome this difficulty. Please keep your answers short (300 word limit)\n"
      ]
    },
    {
      "cell_type": "markdown",
      "metadata": {
        "id": "GAHhJSRkXjrP"
      },
      "source": [
        "<h4>4.1</h4>\n",
        "<b>\n",
        "Use logistic regression from above and plot the Receiver Operating Characteristic curve for two races, African Americans & Caucasians."
      ]
    },
    {
      "cell_type": "code",
      "metadata": {
        "id": "_T4xF6oyK70q"
      },
      "source": [
        "def plot_roc(prob_df):\n",
        "  plt.figure(figsize = (12,8))\n",
        "\n",
        "  df_CC = prob_df[prob_df['Caucasian'] == 1]\n",
        "  df_AA = prob_df[prob_df['African-American'] == 1]\n",
        "\n",
        "  CC_test = df_CC['two_year_recid']\n",
        "  CC_probs = df_CC['y_probs']\n",
        "\n",
        "  AA_test = df_AA['two_year_recid']\n",
        "  AA_probs = df_AA['y_probs']\n",
        "\n",
        "  fpr_cc, tpr_cc, thresholds_cc = roc_curve(CC_test,CC_probs)\n",
        "  fpr_aa, tpr_aa, thresholds_aa = roc_curve(AA_test,AA_probs)\n",
        "\n",
        "  CC_auc = roc_auc_score(CC_test,CC_probs)\n",
        "  AA_auc = roc_auc_score(AA_test,AA_probs)\n",
        "\n",
        "  plt.plot(fpr_cc, tpr_cc, label=f'Caucasian (area = {CC_auc:.2f})', color = 'red')\n",
        "  plt.plot(fpr_aa, tpr_aa, label=f'African-American (area = {AA_auc:.2f})', color = 'black')\n",
        "  plt.plot([0, 1], [0, 1],'b--')\n",
        "  plt.xlabel('False Positive Rate')\n",
        "  plt.ylabel('True Positive Rate')\n",
        "  plt.title('ROC curve')\n",
        "  plt.legend(loc=\"lower right\")"
      ],
      "execution_count": 56,
      "outputs": []
    },
    {
      "cell_type": "markdown",
      "metadata": {
        "id": "hwPpfQy8JN0d"
      },
      "source": [
        "Let us rerun the Logistic Regression with race as a predictor here"
      ]
    },
    {
      "cell_type": "code",
      "metadata": {
        "colab": {
          "base_uri": "https://localhost:8080/",
          "height": 518
        },
        "id": "4iDxifJ8XjrP",
        "outputId": "13af162e-04ee-4fbf-a96b-fbf6b728e8f7"
      },
      "source": [
        "# your code here\n",
        "# your code here\n",
        "warnings.filterwarnings(\"ignore\")\n",
        "\n",
        "new_train = train.copy()\n",
        "new_test = test.copy()\n",
        "\n",
        "x_train = new_train.drop('two_year_recid',axis = 1)\n",
        "y_train = new_train['two_year_recid']\n",
        "\n",
        "x_test = new_test.drop('two_year_recid',axis = 1)\n",
        "y_test = new_test['two_year_recid']\n",
        "\n",
        "predicted_df, y_probs = training(x_train,y_train,x_test,y_test)\n",
        "predicted_df['y_probs'] = y_probs\n",
        "plot_roc(predicted_df)\n"
      ],
      "execution_count": 57,
      "outputs": [
        {
          "output_type": "display_data",
          "data": {
            "image/png": "[encoded data removed]",
            "text/plain": [
              "<Figure size 864x576 with 1 Axes>"
            ]
          },
          "metadata": {}
        }
      ]
    },
    {
      "cell_type": "markdown",
      "metadata": {
        "id": "51Nb_pwvNMJq"
      },
      "source": [
        "Let us do ROC curve with raceless predictor now"
      ]
    },
    {
      "cell_type": "code",
      "metadata": {
        "colab": {
          "base_uri": "https://localhost:8080/",
          "height": 518
        },
        "id": "UF_9Nu3vXjrP",
        "outputId": "678acc77-8379-4279-c812-c4cdffae435f"
      },
      "source": [
        "# your code here\n",
        "warnings.filterwarnings(\"ignore\")\n",
        "\n",
        "race_cols = ['Caucasian',\t'African-American',\t'Other',\t'Hispanic',\t'Native American', 'Asian']\n",
        "new_train = train.drop(race_cols, axis = 1)\n",
        "new_test = test.drop(race_cols, axis = 1)\n",
        "\n",
        "x_train = new_train.drop('two_year_recid',axis = 1)\n",
        "y_train = new_train['two_year_recid']\n",
        "\n",
        "x_test = new_test.drop('two_year_recid',axis = 1)\n",
        "y_test = new_test['two_year_recid']\n",
        "\n",
        "predicted_df, y_probs = training(x_train,y_train,x_test,y_test)\n",
        "predicted_df['y_probs'] = y_probs\n",
        "\n",
        "plot_roc(predicted_df.join(test[race_cols]))\n"
      ],
      "execution_count": 58,
      "outputs": [
        {
          "output_type": "display_data",
          "data": {
            "image/png": "[encoded data removed]",
            "text/plain": [
              "<Figure size 864x576 with 1 Axes>"
            ]
          },
          "metadata": {}
        }
      ]
    },
    {
      "cell_type": "markdown",
      "metadata": {
        "id": "59o_ggrwXjrQ"
      },
      "source": [
        "<h4>4.2</h4>\n",
        "<b>\n",
        "How to ensure the model is accurate and unbiased? Please keep your answers short (300 word limit)"
      ]
    },
    {
      "cell_type": "markdown",
      "metadata": {
        "id": "dUSf_Z5_XjrQ"
      },
      "source": [
        "Ans. We can ensure accuracy of model, especially in the case of regression by removing the columns that are correlated with each other.\n",
        "\n",
        "In this case, the problem is that a lot of demographic variables might be and often are correlated with race. For eg., the median age of AAs in the US is much lesser than for CCs. Given that criminals are more often than not young men in their 20s, AAs would tend to have more criminals per capita all else equal.\n",
        "\n",
        "In social sciences, pinpointing these relationships are often very hard, so we might often overshoot and remove more variables than needed and lose accuracy, or include all those variables and have bias without the ability to pinpoint where this bias comes from.\n",
        "\n",
        "But the best way to improve accuracy **and** remove bias is to remove variables in the model that are well correlated with variables which might include bias. We could use more complex models, but that removes interpretability."
      ]
    },
    {
      "cell_type": "markdown",
      "metadata": {
        "id": "mKgJifZzXjrQ"
      },
      "source": [
        "<div class=\"alert alert-block alert-danger\" style=\"color:black;background-color:#EFF8D0\">\n",
        "<h2 style=\"color:black;background-color:#EFF8D0\"> Part C: Come up with a better model [Optional Extra 5 Points*] </h2>  <a class=\"anchor\" id=\"PartC\"></a>\n",
        "    \n",
        "Improve the models you have previously coded by including:\n",
        " - Polynomial terms\n",
        " - Interaction terms\n",
        " - Regularization parameters\n",
        " - Different upsampling techniques\n",
        " - KNN classification\n",
        "\n",
        "with a goal to maximize the new metric which includes both the bias and the accuracy, we define `Bias_Corrected_Accuracy(BCA)` as:\n",
        "    \n",
        "\n",
        "$$BCA = Acccuracy - {\\left|FPR(AA) - FPR(CC)\\right|}$$\n",
        "    \n",
        " \n",
        "Please report your maximum `BCA` on the forums and add the computation code to your homework for bonus points.\n",
        "\n",
        "**Note:** The ideas given above are not exhaustive. You are free to try other betters to come up with a better model.\n",
        "\n",
        "*This is an optional section for 5 points. If you lose 5 points in Part A and Part B, you can make it up in this section. The maximum score still remains 100."
      ]
    },
    {
      "cell_type": "markdown",
      "metadata": {
        "id": "FjPzK-M7GypA"
      },
      "source": [
        "# Trying to improve the model by controlling for variables"
      ]
    },
    {
      "cell_type": "markdown",
      "metadata": {
        "id": "v7_9jRgUCPXa"
      },
      "source": [
        "## Controlling for variables in model with race\n",
        "\n",
        "As we spoke about in Q2.2, here I try to control for 2 variables we looked at in the EDA section, age and priors which had different distributions for AA and CC.\n",
        "\n",
        "And as we will see below, this doesn't really improve our model. But this is because the model is possibly learning about race from other variables that are correlated with race"
      ]
    },
    {
      "cell_type": "markdown",
      "metadata": {
        "id": "FcpxHvuBE1wG"
      },
      "source": [
        "These are metrics with controls for age. We are selecting only people aged under 30 to see if the difference in age distributions of the races is what is causing the disparity in the FPR and FNR metrics"
      ]
    },
    {
      "cell_type": "code",
      "metadata": {
        "colab": {
          "base_uri": "https://localhost:8080/"
        },
        "id": "4K_IdU1EBHX2",
        "outputId": "c3b5bd51-4eb7-4bb5-83b1-1e2339cc1ed2"
      },
      "source": [
        "# your code here\n",
        "warnings.filterwarnings(\"ignore\")\n",
        "\n",
        "new_train = train[train['age'] <= 30].reset_index()\n",
        "new_test = test[test['age'] <= 30].reset_index()\n",
        "\n",
        "x_train = new_train.drop('two_year_recid',axis = 1)\n",
        "y_train = new_train['two_year_recid']\n",
        "\n",
        "x_test = new_test.drop('two_year_recid',axis = 1)\n",
        "y_test = new_test['two_year_recid']\n",
        "\n",
        "predicted_df, y_probs = training(x_train,y_train,x_test,y_test)\n",
        "\n",
        "metrics(predicted_df)"
      ],
      "execution_count": 59,
      "outputs": [
        {
          "output_type": "stream",
          "name": "stdout",
          "text": [
            "The overall accuracy is 68%\n",
            "The false positive rate for African Americans is 39%\n",
            "The false positive rate for Caucasians is 26%\n",
            "The false negative rate for African Americans is 24%\n",
            "The false negative rate for Caucasians is 48%\n",
            "The ratio of false positive rates is 1.5\n",
            "The ratio of false negative rates is 0.5\n"
          ]
        }
      ]
    },
    {
      "cell_type": "markdown",
      "metadata": {
        "id": "n9DIztaQE6RX"
      },
      "source": [
        "These are metrics with controls for priors. We are selecting only people with less than 2 priors to see if the difference in prior counts distributions of the races is what is causing the disparity in the FPR and FNR metrics"
      ]
    },
    {
      "cell_type": "code",
      "metadata": {
        "colab": {
          "base_uri": "https://localhost:8080/"
        },
        "id": "8fQiHlO3D8UR",
        "outputId": "44e58ed6-bf5b-422c-9dfa-b775826b1b50"
      },
      "source": [
        "# your code here\n",
        "warnings.filterwarnings(\"ignore\")\n",
        "\n",
        "new_train = train[train['priors_count'] <= 2].reset_index()\n",
        "new_test = test[test['priors_count'] <= 2].reset_index()\n",
        "\n",
        "x_train = new_train.drop('two_year_recid',axis = 1)\n",
        "y_train = new_train['two_year_recid']\n",
        "\n",
        "x_test = new_test.drop('two_year_recid',axis = 1)\n",
        "y_test = new_test['two_year_recid']\n",
        "\n",
        "predicted_df, y_probs = training(x_train,y_train,x_test,y_test)\n",
        "\n",
        "metrics(predicted_df)"
      ],
      "execution_count": 60,
      "outputs": [
        {
          "output_type": "stream",
          "name": "stdout",
          "text": [
            "The overall accuracy is 69%\n",
            "The false positive rate for African Americans is 20%\n",
            "The false positive rate for Caucasians is 13%\n",
            "The false negative rate for African Americans is 47%\n",
            "The false negative rate for Caucasians is 71%\n",
            "The ratio of false positive rates is 1.5385\n",
            "The ratio of false negative rates is 0.662\n"
          ]
        }
      ]
    },
    {
      "cell_type": "markdown",
      "metadata": {
        "id": "2gI1oMwrDmgw"
      },
      "source": [
        "## Controlling for variables in model without race\n",
        "\n",
        "As we spoke about in Q2.2, here I try to control for 2 variables we looked at in the EDA section, age and priors which had different distributions for AA and CC. But this time we don't include race in the predictors\n",
        "\n",
        "As we see below, controlling for age seems to improve FPR drastically and FNR marginally. It could suggest that the model is learning of race from the age distributions to an extent.\n",
        "\n",
        "The priors count does not improve the model at all.\n",
        "\n",
        "Future work could involve controlling for all variables and seeing what improves the model"
      ]
    },
    {
      "cell_type": "markdown",
      "metadata": {
        "id": "cMheRSQ-67zc"
      },
      "source": [
        "These are metrics with controls for age. We are selecting only people aged under 30 to see if the difference in age distributions of the races is what is causing the disparity in the FPR and FNR metrics"
      ]
    },
    {
      "cell_type": "code",
      "metadata": {
        "colab": {
          "base_uri": "https://localhost:8080/"
        },
        "id": "aGmAqGU6FMrz",
        "outputId": "ed5e46db-8ad2-4fd5-90fc-0a3dc4dd4401"
      },
      "source": [
        "# your code here\n",
        "warnings.filterwarnings(\"ignore\")\n",
        "\n",
        "race_cols = ['Caucasian',\t'African-American',\t'Other',\t'Hispanic',\t'Native American', 'Asian']\n",
        "\n",
        "new_train = train.drop(race_cols, axis = 1)\n",
        "new_train = new_train[new_train['age'] <= 30].reset_index()\n",
        "\n",
        "new_test = test[test['age'] <= 30].reset_index()\n",
        "dummy_test = new_test[race_cols]\n",
        "new_test = new_test.drop(race_cols, axis = 1)\n",
        "\n",
        "x_train = new_train.drop('two_year_recid',axis = 1)\n",
        "y_train = new_train['two_year_recid']\n",
        "\n",
        "x_test = new_test.drop('two_year_recid',axis = 1)\n",
        "y_test = new_test['two_year_recid']\n",
        "\n",
        "predicted_df, y_probs = training(x_train,y_train,x_test,y_test)\n",
        "\n",
        "metrics(predicted_df.join(dummy_test))\n"
      ],
      "execution_count": 61,
      "outputs": [
        {
          "output_type": "stream",
          "name": "stdout",
          "text": [
            "The overall accuracy is 68%\n",
            "The false positive rate for African Americans is 29%\n",
            "The false positive rate for Caucasians is 30%\n",
            "The false negative rate for African Americans is 29%\n",
            "The false negative rate for Caucasians is 45%\n",
            "The ratio of false positive rates is 0.9667\n",
            "The ratio of false negative rates is 0.6444\n"
          ]
        }
      ]
    },
    {
      "cell_type": "markdown",
      "metadata": {
        "id": "m3A5U8SVGG6r"
      },
      "source": [
        "These are metrics with controls for priors. We are selecting only people with less than 2 priors to see if the difference in prior counts distributions of the races is what is causing the disparity in the FPR and FNR metrics"
      ]
    },
    {
      "cell_type": "code",
      "metadata": {
        "colab": {
          "base_uri": "https://localhost:8080/"
        },
        "id": "UiQLCX45GOyq",
        "outputId": "42b6fd90-bfb0-465d-9724-2112fac7fe2b"
      },
      "source": [
        "# your code here\n",
        "warnings.filterwarnings(\"ignore\")\n",
        "\n",
        "race_cols = ['Caucasian',\t'African-American',\t'Other',\t'Hispanic',\t'Native American', 'Asian']\n",
        "\n",
        "new_train = train.drop(race_cols, axis = 1)\n",
        "new_train = new_train[new_train['priors_count'] <= 2].reset_index()\n",
        "\n",
        "new_test = test[test['priors_count'] <= 2].reset_index()\n",
        "dummy_test = new_test[race_cols]\n",
        "new_test = new_test.drop(race_cols, axis = 1)\n",
        "\n",
        "x_train = new_train.drop('two_year_recid',axis = 1)\n",
        "y_train = new_train['two_year_recid']\n",
        "\n",
        "x_test = new_test.drop('two_year_recid',axis = 1)\n",
        "y_test = new_test['two_year_recid']\n",
        "\n",
        "predicted_df, y_probs = training(x_train,y_train,x_test,y_test)\n",
        "\n",
        "metrics(predicted_df.join(dummy_test))\n"
      ],
      "execution_count": 62,
      "outputs": [
        {
          "output_type": "stream",
          "name": "stdout",
          "text": [
            "The overall accuracy is 70%\n",
            "The false positive rate for African Americans is 18%\n",
            "The false positive rate for Caucasians is 12%\n",
            "The false negative rate for African Americans is 46%\n",
            "The false negative rate for Caucasians is 72%\n",
            "The ratio of false positive rates is 1.5\n",
            "The ratio of false negative rates is 0.6389\n"
          ]
        }
      ]
    },
    {
      "cell_type": "code",
      "metadata": {
        "id": "XvnVOGBrK_GW"
      },
      "source": [
        ""
      ],
      "execution_count": null,
      "outputs": []
    }
  ]
}